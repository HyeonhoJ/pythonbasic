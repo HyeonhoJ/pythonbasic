{
 "cells": [
  {
   "cell_type": "code",
   "execution_count": 11,
   "id": "22334f32-f9c1-4baa-9884-8d04a6b0a15b",
   "metadata": {},
   "outputs": [
    {
     "name": "stdout",
     "output_type": "stream",
     "text": [
      "Hello, world\n",
      "Hello, world\n",
      "Python Programming\n"
     ]
    }
   ],
   "source": [
    "print(\"Hello, world\" )\n",
    "print(\"Hello, world\")\n",
    "print(\"Python Programming\")"
   ]
  },
  {
   "cell_type": "code",
   "execution_count": 72,
   "id": "a4fc52e3-dac6-481b-a958-1d50f22034c6",
   "metadata": {},
   "outputs": [
    {
     "name": "stdout",
     "output_type": "stream",
     "text": [
      "가장 시끄러운 층은 = 7층\n",
      "가장 시끄러운 층은 = 7층\n"
     ]
    }
   ],
   "source": [
    "a = int(0.2467 * 12 + 4.159)\n",
    "print(f\"가장 시끄러운 층은 = {a}층\")\n",
    "print(\"가장 시끄러운 층은 = {}층\".format(a))\n"
   ]
  },
  {
   "cell_type": "code",
   "execution_count": 73,
   "id": "8e6c3b0d-f279-4075-9f8d-519665fb4def",
   "metadata": {},
   "outputs": [
    {
     "name": "stdout",
     "output_type": "stream",
     "text": [
      "이렇게 하면 여러 개의 문자열이 합쳐집니다.\n"
     ]
    }
   ],
   "source": [
    "print(\"이렇게\", '하면', '여러', '개의', '문자열이', '합쳐집니다.')"
   ]
  },
  {
   "cell_type": "code",
   "execution_count": 71,
   "id": "85ed3c4a-e916-45ff-8a21-2f09abccb328",
   "metadata": {},
   "outputs": [
    {
     "name": "stdout",
     "output_type": "stream",
     "text": [
      "실행결과:\n",
      "가장 시끄러운 층은 = 7 층\n"
     ]
    }
   ],
   "source": [
    "a = int(0.2467 * 12 + 4.159)\n",
    "print(\"실행결과:\")\n",
    "print(\"가장 시끄러운 층은\", '=', a, \"층\")\n"
   ]
  },
  {
   "cell_type": "code",
   "execution_count": 85,
   "id": "4d407b6b-bfea-42c9-ad19-537d8ed77689",
   "metadata": {},
   "outputs": [
    {
     "name": "stdout",
     "output_type": "stream",
     "text": [
      "실행결과:\n",
      "냉장고 가격은 1272000 원 입니다\n"
     ]
    }
   ],
   "source": [
    "a = 53000 * 24\n",
    "print(\"실행결과:\")\n",
    "print(f\"냉장고 가격은 {a} 원 입니다\")"
   ]
  },
  {
   "cell_type": "code",
   "execution_count": 97,
   "id": "b47cb6c5-4267-4d2d-b7db-55f07661ede5",
   "metadata": {},
   "outputs": [
    {
     "name": "stdout",
     "output_type": "stream",
     "text": [
      "총 지불 해야 할 금액은 16500000원 입니다.\n"
     ]
    }
   ],
   "source": [
    "people = 250\n",
    "\n",
    "book = 20000\n",
    "\n",
    "inc_tax = book * 1.1\n",
    "\n",
    "print(f\"총 지불 해야 할 금액은 {int(people * (tax * 3))}원 입니다.\")\n",
    "\n"
   ]
  },
  {
   "cell_type": "code",
   "execution_count": 101,
   "id": "8c44cdac-c76f-4ddd-8833-fb74df8961d8",
   "metadata": {},
   "outputs": [
    {
     "name": "stdout",
     "output_type": "stream",
     "text": [
      "12340000000.0\n",
      "0.00012323\n"
     ]
    }
   ],
   "source": [
    "print(1.234e10)\n",
    "\n",
    "print(1.2323e-4)"
   ]
  },
  {
   "cell_type": "code",
   "execution_count": 111,
   "id": "41a45748-25d4-4750-96cc-59ba4869e4bb",
   "metadata": {},
   "outputs": [
    {
     "name": "stdout",
     "output_type": "stream",
     "text": [
      "17\n",
      "22\n",
      "17\n",
      "31\n",
      "22\n"
     ]
    }
   ],
   "source": [
    "print(0b10001)\n",
    "print(0b10110)\n",
    "\n",
    "print(0o21)\n",
    "\n",
    "print(0x1f)\n",
    "print(0x16)"
   ]
  },
  {
   "cell_type": "code",
   "execution_count": 122,
   "id": "14d3aa4f-00c2-4ccf-ab75-4f36d9e80aed",
   "metadata": {},
   "outputs": [
    {
     "name": "stdout",
     "output_type": "stream",
     "text": [
      "10\n",
      "30\n"
     ]
    }
   ],
   "source": [
    "# a 변수 선언 후 숫자 리터럴 10 값을 할당\n",
    "a = 10\n",
    "\n",
    "a + 20\n",
    "# a 변수 값에 20을 더한 결과를 다시 a에 할당\n",
    "\n",
    "print(a)\n",
    "a +=  20  #  a = a + 20 과 같다\n",
    "\n",
    "print(a)\n",
    "del a\n"
   ]
  },
  {
   "cell_type": "code",
   "execution_count": 123,
   "id": "263573dd-4029-450e-a275-4a7aba921176",
   "metadata": {},
   "outputs": [
    {
     "name": "stdout",
     "output_type": "stream",
     "text": [
      "None\n"
     ]
    }
   ],
   "source": [
    "a = None\n",
    "print(a)"
   ]
  },
  {
   "cell_type": "code",
   "execution_count": 145,
   "id": "71f5ed07-08e1-4b49-a26a-77e937d26cc6",
   "metadata": {},
   "outputs": [
    {
     "name": "stdout",
     "output_type": "stream",
     "text": [
      "don't do that\n",
      "don't' do that\n"
     ]
    }
   ],
   "source": [
    "print(\"don't do that\")\n",
    "print('don\\'t\\' do that')"
   ]
  },
  {
   "cell_type": "code",
   "execution_count": 147,
   "id": "cfa80433-655f-4358-979e-aeb1eca18015",
   "metadata": {},
   "outputs": [
    {
     "name": "stdout",
     "output_type": "stream",
     "text": [
      "실행결과:\n",
      "\"안녕?\"이라는 그 인사를 듣고 나는 '누구지?'라고 생각했다\n"
     ]
    }
   ],
   "source": [
    "print(\"실행결과:\")\n",
    "print('\"안녕?\"이라는 그 인사를 듣고 나는 \\'누구지?\\'라고 생각했다')"
   ]
  },
  {
   "cell_type": "code",
   "execution_count": null,
   "id": "07453978-e2ae-4486-a197-ae523083c361",
   "metadata": {},
   "outputs": [],
   "source": []
  }
 ],
 "metadata": {
  "kernelspec": {
   "display_name": "Python 3 (ipykernel)",
   "language": "python",
   "name": "python3"
  },
  "language_info": {
   "codemirror_mode": {
    "name": "ipython",
    "version": 3
   },
   "file_extension": ".py",
   "mimetype": "text/x-python",
   "name": "python",
   "nbconvert_exporter": "python",
   "pygments_lexer": "ipython3",
   "version": "3.9.13"
  }
 },
 "nbformat": 4,
 "nbformat_minor": 5
}
