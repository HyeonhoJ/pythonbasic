{
 "cells": [
  {
   "cell_type": "code",
   "execution_count": 8,
   "id": "eef5d24e-63e1-47a6-a9c3-ff9edb9f02d8",
   "metadata": {},
   "outputs": [
    {
     "name": "stdout",
     "output_type": "stream",
     "text": [
      "\n",
      "안녕하세요.\n",
      "니는 파이썬을 공부하고있습니다.\n",
      "반갑습니다.\n",
      "\n"
     ]
    }
   ],
   "source": [
    "s3 = \"\"\"\n",
    "안녕하세요.\n",
    "니는 파이썬을 공부하고있습니다.\n",
    "반갑습니다.\n",
    "\"\"\"\n",
    "\n",
    "print(s3)"
   ]
  },
  {
   "cell_type": "code",
   "execution_count": 21,
   "id": "798bf300-33af-4db2-881a-f9ff855d0aca",
   "metadata": {},
   "outputs": [
    {
     "name": "stdout",
     "output_type": "stream",
     "text": [
      "실행 결과:\n",
      "\"안녕하세요.\"\n",
      "나는 파이썬을 공부하고 있습니다.\n",
      "반갑습니다.\n"
     ]
    }
   ],
   "source": [
    "a = \"\"\"\\\n",
    "실행 결과:\n",
    "\\\"안녕하세요.\\\"\n",
    "나는 파이썬을 공부하고 있습니다.\n",
    "반갑습니다.\\\n",
    "\"\"\"\n",
    "print(a)"
   ]
  },
  {
   "cell_type": "code",
   "execution_count": 25,
   "id": "398ff117-9fec-4288-8063-589082570ba6",
   "metadata": {},
   "outputs": [
    {
     "name": "stdout",
     "output_type": "stream",
     "text": [
      "실행 결과:\n",
      "너무 너무 너무 너무 너무 너무 너무  파이썬 공부가 즐겁습니다.\n"
     ]
    }
   ],
   "source": [
    "print('실행 결과:')\n",
    "print(\"너무 \" * 7, \"파이썬 공부가 즐겁습니다.\")\n"
   ]
  },
  {
   "cell_type": "code",
   "execution_count": 47,
   "id": "7e7de08d-f154-4f49-ab6c-4a299e0fcbe4",
   "metadata": {},
   "outputs": [
    {
     "name": "stdout",
     "output_type": "stream",
     "text": [
      "Pyth\n"
     ]
    }
   ],
   "source": [
    "word = 'Python'\n",
    "\n",
    "print(word[:-2])"
   ]
  },
  {
   "cell_type": "code",
   "execution_count": 48,
   "id": "640ecec9-b45b-4805-9126-4e999c790e38",
   "metadata": {},
   "outputs": [
    {
     "name": "stdout",
     "output_type": "stream",
     "text": [
      "꺾\n"
     ]
    }
   ],
   "source": [
    "sentence = '중요한 것은 꺾이지 않는 마음'\n",
    "print(sentence[7])"
   ]
  },
  {
   "cell_type": "code",
   "execution_count": 58,
   "id": "fe3b04af-29a9-441b-a4e7-d5f8daf6618f",
   "metadata": {},
   "outputs": [
    {
     "name": "stdout",
     "output_type": "stream",
     "text": [
      "Py\n",
      "Py\n",
      "Py\n",
      "th\n",
      "yt\n",
      "yt\n",
      "yhn\n"
     ]
    }
   ],
   "source": [
    "word = 'Python'\n",
    "print(word[0:2])\n",
    "print(word[:2])\n",
    "print(word[:-4])\n",
    "print(word[2:4])\n",
    "print(word[1:3])\n",
    "print(word[-5:-3])\n",
    "print(word[1::2])"
   ]
  },
  {
   "cell_type": "code",
   "execution_count": 64,
   "id": "2d863082-fd32-40a1-9201-01b8c56b48b7",
   "metadata": {},
   "outputs": [
    {
     "name": "stdout",
     "output_type": "stream",
     "text": [
      "꺾이지 않는 마음\n"
     ]
    }
   ],
   "source": [
    "sentence = '중요한 것은 꺾이지 않는 마음'\n",
    "print(sentence[-9:])"
   ]
  },
  {
   "cell_type": "code",
   "execution_count": 21,
   "id": "023b116f-ce00-4656-9f38-e853b5cf10c1",
   "metadata": {},
   "outputs": [
    {
     "name": "stdout",
     "output_type": "stream",
     "text": [
      "한요중\n",
      "한요중\n"
     ]
    }
   ],
   "source": [
    "sentence = '중요한 것은 꺾이지 않는 마음'\n",
    "print(sentence[2::-1])\n",
    "print(sentence[:3][::-1])"
   ]
  },
  {
   "cell_type": "code",
   "execution_count": 25,
   "id": "20c466fc-83c9-4e01-9d9b-a5182a52ffc0",
   "metadata": {},
   "outputs": [
    {
     "name": "stdout",
     "output_type": "stream",
     "text": [
      "재밌어요재밌어요재밌어요재밌어요재밌어요재밌어요재밌어요재밌어요재밌어요재밌어요\n",
      "40\n"
     ]
    }
   ],
   "source": [
    "s7 = '재밌어요' * 10\n",
    "print(s7)\n",
    "print(len(s7))"
   ]
  },
  {
   "cell_type": "code",
   "execution_count": 26,
   "id": "e6f0499c-75a8-4f44-9967-9ea53bc21284",
   "metadata": {},
   "outputs": [
    {
     "name": "stdout",
     "output_type": "stream",
     "text": [
      "[1, 'da']\n"
     ]
    }
   ],
   "source": [
    "a = [1, \"da\"]\n",
    "print(a)"
   ]
  },
  {
   "cell_type": "code",
   "execution_count": 42,
   "id": "fd7c000d-a44f-4153-ac15-bd6efec47f50",
   "metadata": {},
   "outputs": [
    {
     "name": "stdout",
     "output_type": "stream",
     "text": [
      "[1, 4, 9, 16, 25]\n"
     ]
    }
   ],
   "source": [
    "squares = [1**2, 2**2, 3**2, 4**2, 5**2]\n",
    "print(squares)\n"
   ]
  },
  {
   "cell_type": "code",
   "execution_count": 55,
   "id": "c0833b5a-dfd8-4ab6-a2dd-ccd105fa57a2",
   "metadata": {},
   "outputs": [
    {
     "name": "stdout",
     "output_type": "stream",
     "text": [
      "[1, 3, 5, 7, 8, 3]\n"
     ]
    }
   ],
   "source": [
    "asa = [1, 3, 5, 7, 8]\n",
    "\n",
    "asa.append(3)\n",
    "\n",
    "print(asa)"
   ]
  },
  {
   "cell_type": "code",
   "execution_count": 56,
   "id": "3fb5ae5e-87d2-4eaf-8b7e-a758a3256a1a",
   "metadata": {},
   "outputs": [
    {
     "name": "stdout",
     "output_type": "stream",
     "text": [
      "[1, 8, 27, 64, 125]\n"
     ]
    }
   ],
   "source": [
    "cubes = [1, 8, 27, 65, 125]\n",
    "cubes[3] = 4**3\n",
    "print(cubes)"
   ]
  },
  {
   "cell_type": "code",
   "execution_count": 59,
   "id": "87336357-191a-4f8c-a60b-ef5869ce293f",
   "metadata": {},
   "outputs": [
    {
     "name": "stdout",
     "output_type": "stream",
     "text": [
      "['a', 'b', 'C', 'D', 'E']\n",
      "5\n"
     ]
    }
   ],
   "source": [
    "letters = ['a', 'b', 'c', 'd', 'e']\n",
    "\n",
    "letters[2:5] = ['C', 'D', 'E']\n",
    "\n",
    "print(letters)\n",
    "\n",
    "print(len(letters))"
   ]
  },
  {
   "cell_type": "code",
   "execution_count": 62,
   "id": "9b8b084b-10c7-4378-bf90-f5e8e029b75d",
   "metadata": {},
   "outputs": [
    {
     "name": "stdout",
     "output_type": "stream",
     "text": [
      "['a', 'b', 'c']\n"
     ]
    }
   ],
   "source": [
    "a = ['a', 'b', 'c']\n",
    "n = [1, 2, 3]\n",
    "\n",
    "9x = [a, n]\n",
    "\n",
    "print(x[0])"
   ]
  },
  {
   "cell_type": "markdown",
   "id": "3178743c-8be1-4a32-abc1-6959ce48158a",
   "metadata": {},
   "source": [
    "numbers = [1, 3, 5, 7, 8, 9]\n",
    "print(5 in numbers)\n",
    "print(2 not in numbers)\n",
    "print(2 in numbers)\n"
   ]
  },
  {
   "cell_type": "code",
   "execution_count": 96,
   "id": "7054d9d7-5552-4c42-ae63-08fde2d617c4",
   "metadata": {},
   "outputs": [
    {
     "name": "stdout",
     "output_type": "stream",
     "text": [
      "False\n"
     ]
    }
   ],
   "source": [
    "# [국어, 영어, 한국사, 선택 교과1, 선택 교과2]\n",
    "\n",
    "scores = [88, 73, 89, 59, 77]\n",
    "print(scores[0] >= 60 and scores[1] >= 60 and scores[2] >= 60 and scores[3] >= 60 and scores[4] >= 60)"
   ]
  },
  {
   "cell_type": "code",
   "execution_count": 187,
   "id": "e3f8bc07-c1c1-4d08-bd8c-dee22e715542",
   "metadata": {},
   "outputs": [
    {
     "name": "stdout",
     "output_type": "stream",
     "text": [
      "[1, 3, 5, 7, 8, 9, 14, 15, 100]\n",
      "[0, 1, 3, 5, 0, 7, 8, 9, 14, 15, 0, 100, 7, 12, 19, 132]\n",
      "1\n",
      "[132, 100, 19, 15, 14, 12, 9, 8, 7, 7, 5, 3, 1, 0, 0, 0]\n",
      "[0, 0, 0, 1, 3, 5, 7, 7, 8, 9, 12, 14, 15, 19, 100, 132]\n"
     ]
    }
   ],
   "source": [
    "numbers1 = [1, 14, 15, 3, 5, 7, 8, 9]\n",
    "numbers1.append(100)\n",
    "numbers1.sort()\n",
    "print(numbers1)\n",
    "\n",
    "numbers1.insert(0, 0)\n",
    "numbers1.insert(-1, 0)\n",
    "numbers1.insert(4, 0)\n",
    "\n",
    "numbers1.extend([7, 12, 19, 132])\n",
    "\n",
    "print(numbers1)\n",
    "\n",
    "print(numbers1.count(9))\n",
    "\n",
    "numbers1.sort(reverse = True)\n",
    "print(numbers1)\n",
    "\n",
    "num2 = sorted(numbers1)\n",
    "              \n",
    "print(num2)\n"
   ]
  },
  {
   "cell_type": "code",
   "execution_count": 194,
   "id": "ad2632dc-7342-4bf0-8dba-67d2d938e001",
   "metadata": {},
   "outputs": [
    {
     "name": "stdout",
     "output_type": "stream",
     "text": [
      "9\n",
      "[1, 3, 5, 7]\n",
      "2\n",
      "[]\n"
     ]
    }
   ],
   "source": [
    "numbers2 = [1, 3, 5, 7, 9]\n",
    "print(numbers2.pop())\n",
    "print(numbers2)\n",
    "\n",
    "print(numbers2.index(5))\n",
    "\n",
    "numbers2.clear()\n",
    "\n",
    "print(numbers2)\n"
   ]
  },
  {
   "cell_type": "markdown",
   "id": "49c5e632-7a97-436f-91c0-f82c109b4cd5",
   "metadata": {},
   "source": [
    "# "
   ]
  },
  {
   "cell_type": "code",
   "execution_count": 189,
   "id": "085b4866-a500-4aa2-a97e-587a7aa404c2",
   "metadata": {},
   "outputs": [
    {
     "name": "stdout",
     "output_type": "stream",
     "text": [
      "[5, 4, 3, 2, 1]\n"
     ]
    }
   ],
   "source": [
    "reverse_test = [1, 2, 3, 4, 5,]\n",
    "\n",
    "reverse_test.reverse()\n",
    "\n",
    "print(reverse_test)"
   ]
  },
  {
   "cell_type": "code",
   "execution_count": 190,
   "id": "a4fd9e66-fe34-4dc3-8162-c3d9139883f4",
   "metadata": {},
   "outputs": [
    {
     "name": "stdout",
     "output_type": "stream",
     "text": [
      "7\n",
      "[3, 4, 5, 6]\n",
      "6\n",
      "5\n",
      "[3, 4]\n"
     ]
    }
   ],
   "source": [
    "stack = [3, 4, 5]\n",
    "stack.append(6)\n",
    "stack.append(7)\n",
    "\n",
    "print(stack.pop())\n",
    "print(stack)\n",
    "print(stack.pop())\n",
    "print(stack.pop())\n",
    "print(stack)\n"
   ]
  },
  {
   "cell_type": "code",
   "execution_count": 199,
   "id": "f234a4b9-a3ba-483c-bc10-46f1cd1530a2",
   "metadata": {},
   "outputs": [
    {
     "name": "stdout",
     "output_type": "stream",
     "text": [
      "(1, 3, 5, 7, 9, 'hello')\n",
      "<class 'tuple'>\n",
      "1\n",
      "3\n",
      "5\n",
      "7\n",
      "9\n",
      "hello\n"
     ]
    }
   ],
   "source": [
    "tuple_variable = (1, 3, 5, 7, 9, \"hello\")\n",
    "\n",
    "print(tuple_variable)\n",
    "\n",
    "print(type(tuple_variable))\n",
    "\n",
    "for i in tuple_variable:\n",
    "    print(i)"
   ]
  },
  {
   "cell_type": "code",
   "execution_count": 204,
   "id": "b454eaaa-8870-4100-8f1a-4c4a82401166",
   "metadata": {},
   "outputs": [
    {
     "name": "stdout",
     "output_type": "stream",
     "text": [
      "0.32904911041259766\n"
     ]
    }
   ],
   "source": [
    "import time\n",
    "start_time = time.time() # 시작하는 시간\n",
    "test = []\n",
    "# 1,000,000번을 반복해서 tuple만듭니다.\n",
    "for _ in range(1_000_000):\n",
    "    tp = (_, _) # tuple\n",
    "    test.append(tp)\n",
    "# 끝나는 시간 - 시작하는 시간\n",
    "print(time.time() - start_time)\n",
    "# 동작한 시간"
   ]
  },
  {
   "cell_type": "code",
   "execution_count": 206,
   "id": "57820e7c-7ad8-43ab-8757-13b1af3ad56c",
   "metadata": {},
   "outputs": [
    {
     "name": "stdout",
     "output_type": "stream",
     "text": [
      "0.8064217567443848\n"
     ]
    }
   ],
   "source": [
    "start_time = time.time()\n",
    "test = []\n",
    "for _ in range(1_000_000):\n",
    "    tp = [_, _] # list\n",
    "    test.append(tp)\n",
    "print(time.time() - start_time)"
   ]
  },
  {
   "cell_type": "code",
   "execution_count": 2,
   "id": "354db3fd-3f8e-4be5-aebb-fccfa5fbad04",
   "metadata": {},
   "outputs": [
    {
     "name": "stdin",
     "output_type": "stream",
     "text": [
      "이름을 입력하시오: ad\n"
     ]
    },
    {
     "name": "stdout",
     "output_type": "stream",
     "text": [
      "ad씨, 안녕하세요?\n",
      "파이썬에 오신 것을 환영합니다.\n"
     ]
    },
    {
     "name": "stdin",
     "output_type": "stream",
     "text": [
      "첫 번째 정수를 입력하세요: 1\n",
      "두 번째 정수를 입력하세요: 2\n"
     ]
    },
    {
     "name": "stdout",
     "output_type": "stream",
     "text": [
      "1 과 2 의 합은 3 입니다.\n"
     ]
    }
   ],
   "source": [
    "name = input(\"이름을 입력하시오:\")\n",
    "print(f'{name}씨, 안녕하세요?\\n파이썬에 오신 것을 환영합니다.')\n",
    "first_ = int(input(\"첫 번째 정수를 입력하세요:\"))\n",
    "second_ = int(input(\"두 번째 정수를 입력하세요:\"))\n",
    "print(f'{first_} 과 {second_} 의 합은 {first_ + second_} 입니다.')\n"
   ]
  },
  {
   "cell_type": "code",
   "execution_count": 9,
   "id": "3af61bce-9ce4-44fd-a9b8-bc8ca65fedba",
   "metadata": {},
   "outputs": [
    {
     "name": "stdin",
     "output_type": "stream",
     "text": [
      "경기장은 어디입니까?  고척\n",
      "이긴 팀은 어디입니까?  KT\n",
      "진팀은 어디입니까?  LG\n",
      "우수 선수는 누구입니까?  강백호\n",
      "스코어는 몇대몇입니끼?  10:9\n"
     ]
    },
    {
     "name": "stdout",
     "output_type": "stream",
     "text": [
      "[속보] KT 가 10:9로 승리...\n",
      "오늘 고척 경기장에서 야구 경기가 있었습니다\n",
      "KT 와 LG 는 치열한 공방전을 펼쳤습니다.\n",
      "이 경기에서 강백호 가 맹활약을 했습니다\n",
      "그 끝내 KT 가 LG 를 10:9 로 승리하였습니다.\n",
      "기사 끝.\n"
     ]
    }
   ],
   "source": [
    "place = input(\"경기장은 어디입니까? \")\n",
    "winner = input(\"이긴 팀은 어디입니까? \")\n",
    "looser = input(\"진팀은 어디입니까? \")\n",
    "mvp = input(\"우수 선수는 누구입니까? \")\n",
    "score = input(\"스코어는 몇대몇입니끼? \")\n",
    "\n",
    "print(f\"[속보] {winner} 가 {score}로 승리...\")\n",
    "print(f\"오늘 {place} 경기장에서 야구 경기가 있었습니다\")\n",
    "print(f\"{winner} 와 {looser} 는 치열한 공방전을 펼쳤습니다.\\n이 경기에서 {mvp} 가 맹활약을 했습니다\\n그 끝내 {winner} 가 {looser} 를 {score} 로 승리하였습니다.\\n기사 끝.\")\n",
    "\n",
    "\n",
    "\n",
    "\n",
    "      \n"
   ]
  },
  {
   "cell_type": "code",
   "execution_count": 14,
   "id": "d7b5f6a0-9ea2-4009-8caa-7789c7adf58d",
   "metadata": {},
   "outputs": [
    {
     "name": "stdout",
     "output_type": "stream",
     "text": [
      "<class 'list'>\n",
      "['1', '2', '3']\n"
     ]
    }
   ],
   "source": [
    "result = '1, 2, 3'.split(', ')\n",
    "print(type(result))\n",
    "print(result)"
   ]
  },
  {
   "cell_type": "code",
   "execution_count": 36,
   "id": "2ea8407d-0f8a-4e3f-8c65-0b3579109fbb",
   "metadata": {},
   "outputs": [
    {
     "name": "stdout",
     "output_type": "stream",
     "text": [
      "시 : 12\n",
      "분 : 33\n",
      "초 : 23\n"
     ]
    }
   ],
   "source": [
    "time = \"12:33:23\".split(':')\n",
    "h = time[0]\n",
    "m = time[1]\n",
    "s = time[2]\n",
    "print(f\"시 : {h}\\n분 : {m}\\n초 : {s}\")"
   ]
  },
  {
   "cell_type": "code",
   "execution_count": 38,
   "id": "ee63fbc6-e8b5-4c29-a166-6cda49dd8973",
   "metadata": {},
   "outputs": [
    {
     "name": "stdin",
     "output_type": "stream",
     "text": [
      "hh:mm:ss 의 형태로 시간을 입력해주세요 12:33:23\n"
     ]
    },
    {
     "name": "stdout",
     "output_type": "stream",
     "text": [
      "시 : 12\n",
      "분 : 33\n",
      "초 : 23\n"
     ]
    }
   ],
   "source": [
    "h, m, s = input(\"hh:mm:ss 의 형태로 시간을 입력해주세요\").split(':')\n",
    "print(f\"시 : {h}\")\n",
    "print(f\"분 : {m}\")\n",
    "print(f\"초 : {s}\")"
   ]
  },
  {
   "cell_type": "code",
   "execution_count": 6,
   "id": "e2c87e3b-edd2-4b69-a058-4fc13278f163",
   "metadata": {},
   "outputs": [
    {
     "name": "stdout",
     "output_type": "stream",
     "text": [
      "[1, 2, 3, 4]\n"
     ]
    }
   ],
   "source": [
    "a = [1.2, 2.2, 3.2, 4.2]\n",
    "a = list(map(int,a))\n",
    "print(a)"
   ]
  },
  {
   "cell_type": "code",
   "execution_count": 40,
   "id": "ce135b2c-861e-429c-a32e-87ca6a2c4cd4",
   "metadata": {},
   "outputs": [
    {
     "name": "stdin",
     "output_type": "stream",
     "text": [
      "국어, 영어, 수학, 과학 점수를 입력해 주세요 98,100,96,100\n"
     ]
    },
    {
     "name": "stdout",
     "output_type": "stream",
     "text": [
      "평균 점수는 98.5입니다.\n"
     ]
    }
   ],
   "source": []
  },
  {
   "cell_type": "code",
   "execution_count": 32,
   "id": "b1151264-b1da-4025-a580-180769e72b0b",
   "metadata": {},
   "outputs": [
    {
     "name": "stdout",
     "output_type": "stream",
     "text": [
      "<map object at 0x00000133D2ECDCD0>\n"
     ]
    }
   ],
   "source": [
    "print(score)"
   ]
  },
  {
   "cell_type": "code",
   "execution_count": 38,
   "id": "84b7e9f8-a304-42f2-b963-b5db79a48137",
   "metadata": {},
   "outputs": [
    {
     "data": {
      "text/plain": [
       "[1, 1, 1, 1]"
      ]
     },
     "execution_count": 38,
     "metadata": {},
     "output_type": "execute_result"
    }
   ],
   "source": [
    "score[0]+sc"
   ]
  },
  {
   "cell_type": "code",
   "execution_count": 5,
   "id": "808fa520-5596-4e5f-89e1-963b0efcde19",
   "metadata": {},
   "outputs": [
    {
     "name": "stdin",
     "output_type": "stream",
     "text": [
      "국어, 영어, 수학, 과학 점수를 입력하세요 12,13,14,15\n"
     ]
    },
    {
     "name": "stdout",
     "output_type": "stream",
     "text": [
      "평균 점수는 13.5 입니다.\n"
     ]
    }
   ],
   "source": [
    "kor, eng, math, sci = input(\"국어, 영어, 수학, 과학 점수를 입력하세요\").split(',')\n",
    "score = list(map(int, [kor, eng, math, sci]))\n",
    "print(f\"평균 점수는 {sum(score) / 4} 입니다.\")"
   ]
  },
  {
   "cell_type": "code",
   "execution_count": null,
   "id": "dd066afc-a804-4f38-af41-402f9127e48c",
   "metadata": {},
   "outputs": [
    {
     "data": {
      "text/plain": [
       "'98'"
      ]
     },
     "execution_count": 46,
     "metadata": {},
     "output_type": "execute_result"
    }
   ],
   "source": []
  }
 ],
 "metadata": {
  "kernelspec": {
   "display_name": "Python 3 (ipykernel)",
   "language": "python",
   "name": "python3"
  },
  "language_info": {
   "codemirror_mode": {
    "name": "ipython",
    "version": 3
   },
   "file_extension": ".py",
   "mimetype": "text/x-python",
   "name": "python",
   "nbconvert_exporter": "python",
   "pygments_lexer": "ipython3",
   "version": "3.9.13"
  }
 },
 "nbformat": 4,
 "nbformat_minor": 5
}
