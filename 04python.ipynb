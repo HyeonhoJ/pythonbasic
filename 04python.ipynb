{
 "cells": [
  {
   "cell_type": "code",
   "execution_count": 2,
   "id": "8f23f186-d8a3-474a-8431-c8795c045dea",
   "metadata": {},
   "outputs": [
    {
     "name": "stdin",
     "output_type": "stream",
     "text": [
      "국어, 영어, 수학, 과학 점수를 입력해주세요. 98,95,92,100\n"
     ]
    }
   ],
   "source": [
    "some_str = input('국어, 영어, 수학, 과학 점수를 입력해주세요.')"
   ]
  },
  {
   "cell_type": "code",
   "execution_count": 3,
   "id": "0a07956d-5458-4a5d-b585-64307683939f",
   "metadata": {},
   "outputs": [
    {
     "name": "stdout",
     "output_type": "stream",
     "text": [
      "98,95,92,100\n"
     ]
    }
   ],
   "source": [
    "print(some_str)"
   ]
  },
  {
   "cell_type": "code",
   "execution_count": 4,
   "id": "194147a5-2042-435a-b5fe-af45bc6ea80c",
   "metadata": {},
   "outputs": [
    {
     "data": {
      "text/plain": [
       "str"
      ]
     },
     "execution_count": 4,
     "metadata": {},
     "output_type": "execute_result"
    }
   ],
   "source": [
    "type(some_str)"
   ]
  },
  {
   "cell_type": "code",
   "execution_count": 5,
   "id": "1030d89b-1163-4e37-a9ed-2f34c47162a7",
   "metadata": {},
   "outputs": [],
   "source": [
    "some_list = some_str.split(',')"
   ]
  },
  {
   "cell_type": "code",
   "execution_count": 6,
   "id": "ebfae34b-4a9e-4f1f-98d4-5fcd12797201",
   "metadata": {},
   "outputs": [
    {
     "name": "stdout",
     "output_type": "stream",
     "text": [
      "['98', '95', '92', '100']\n"
     ]
    }
   ],
   "source": [
    "print(some_list)"
   ]
  },
  {
   "cell_type": "code",
   "execution_count": 7,
   "id": "e24b11a5-4ca2-4818-82b4-8b4a3e7b8690",
   "metadata": {},
   "outputs": [
    {
     "data": {
      "text/plain": [
       "list"
      ]
     },
     "execution_count": 7,
     "metadata": {},
     "output_type": "execute_result"
    }
   ],
   "source": [
    "type(some_list)"
   ]
  },
  {
   "cell_type": "code",
   "execution_count": 9,
   "id": "4ec8aad3-4eff-453a-a9d9-5cbbf0b9f4b1",
   "metadata": {},
   "outputs": [
    {
     "data": {
      "text/plain": [
       "str"
      ]
     },
     "execution_count": 9,
     "metadata": {},
     "output_type": "execute_result"
    }
   ],
   "source": [
    "type(some_list[0])"
   ]
  },
  {
   "cell_type": "code",
   "execution_count": 22,
   "id": "7cdb60e8-2757-479f-9802-f3000b8bb681",
   "metadata": {},
   "outputs": [],
   "source": [
    "some_map = map(int, some_list)"
   ]
  },
  {
   "cell_type": "code",
   "execution_count": null,
   "id": "7050cb28-5673-4006-be03-573d2e11a8fe",
   "metadata": {},
   "outputs": [],
   "source": []
  },
  {
   "cell_type": "code",
   "execution_count": 23,
   "id": "5e291f07-f6d3-48e4-8a5c-535b4faae349",
   "metadata": {},
   "outputs": [
    {
     "data": {
      "text/plain": [
       "map"
      ]
     },
     "execution_count": 23,
     "metadata": {},
     "output_type": "execute_result"
    }
   ],
   "source": [
    "type(some_map)"
   ]
  },
  {
   "cell_type": "code",
   "execution_count": null,
   "id": "433e14a9-f2b0-41fe-9e62-b41e41ffe6eb",
   "metadata": {},
   "outputs": [],
   "source": []
  },
  {
   "cell_type": "code",
   "execution_count": 32,
   "id": "e9efaa8a-51b0-4b33-8db6-56101a159802",
   "metadata": {},
   "outputs": [
    {
     "name": "stdout",
     "output_type": "stream",
     "text": [
      "value, 1, 1.1, [1, 2, 'text']\n"
     ]
    }
   ],
   "source": [
    "print('value', 1, 1.1, [1,2, 'text'], sep=\", \")"
   ]
  },
  {
   "cell_type": "code",
   "execution_count": 35,
   "id": "3763c5ab-3d75-40e3-87ea-ebdc2a903320",
   "metadata": {},
   "outputs": [
    {
     "name": "stdout",
     "output_type": "stream",
     "text": [
      "줄이 바뀌지 않습니다.그 이유는 end=\"\\n\"과 같이 기본 설정된 값을 빈 스트링으로 변경했기 떄문입니다.\n",
      "sep, end는 맨 뒤에 써야하며 둘 간 순서는 상관없습니다.어떻게 사용하는지\n",
      "이해가 되시나요?"
     ]
    }
   ],
   "source": [
    "print(\"줄이 바뀌지 않습니다.\" , end=\"\")\n",
    "print(\"그 이유는 end=\\\"\\\\n\\\"과 같이 기본 설정된 값을 빈 스트링으로 변경했기 떄문입니다.\")\n",
    "print(\"sep\",\"end는 맨 뒤에 써야하며 둘 간 순서는 상관없습니다.\", sep=\", \", end=\"\")\n",
    "print(\"어떻게 사용하는지\", \"이해가 되시나요\", sep=\"\\n\", end=\"?\")"
   ]
  },
  {
   "cell_type": "code",
   "execution_count": 36,
   "id": "3f0d6b07-1c59-4fd3-9187-e80eee5db290",
   "metadata": {},
   "outputs": [
    {
     "name": "stdout",
     "output_type": "stream",
     "text": [
      "줄이 바뀌지 않습니다.\n",
      "그 이유는 end=\"\\n\"과 같이 기본 설정된 값을 빈 스트링으로 변경했기 떄문입니다.\n",
      "sep, end는 맨 뒤에 써야하며 둘 간 순서는 상관없습니다.어떻게 사용하는지\n",
      "이해가 되시나요?"
     ]
    }
   ],
   "source": [
    "print(\"줄이 바뀌지 않습니다.\")\n",
    "print(\"그 이유는 end=\\\"\\\\n\\\"과 같이 기본 설정된 값을 빈 스트링으로 변경했기 떄문입니다.\")\n",
    "print(\"sep\",\"end는 맨 뒤에 써야하며 둘 간 순서는 상관없습니다.\", sep=\", \", end=\"\")\n",
    "print(\"어떻게 사용하는지\", \"이해가 되시나요\", sep=\"\\n\", end=\"?\")"
   ]
  },
  {
   "cell_type": "code",
   "execution_count": 86,
   "id": "9633ae50-1fbb-4d5b-8b51-441fee31e636",
   "metadata": {},
   "outputs": [
    {
     "name": "stdout",
     "output_type": "stream",
     "text": [
      "2021/02/03 18:33:23\n"
     ]
    }
   ],
   "source": [
    "year = '2021'\n",
    "month = '02'\n",
    "day = '03'\n",
    "hour = '18'\n",
    "minute = '33'\n",
    "second = '23'\n",
    "\n",
    "print(year, month, day, sep=\"/\", end=\" \")\n",
    "print(hour, minute, second, sep=\":\")"
   ]
  },
  {
   "cell_type": "code",
   "execution_count": 56,
   "id": "5a4395d2-5668-4fb4-bd9f-c10a5282eed1",
   "metadata": {},
   "outputs": [
    {
     "name": "stdin",
     "output_type": "stream",
     "text": [
      "사과와 귤을 몇개 드릴까요? 10,20\n"
     ]
    },
    {
     "name": "stdout",
     "output_type": "stream",
     "text": [
      "총 가격은 14000원입니다.\n"
     ]
    }
   ],
   "source": [
    "ap, man = input(\"사과와 귤을 몇개 드릴까요?\").split(\",\")\n",
    "\n",
    "how_many = list(map(int, [ap, man]))\n",
    "\n",
    "apple = 1000 * how_many[0]\n",
    "mandaline = 200 * how_many[1]\n",
    "\n",
    "print(f\"총 가격은 {apple + mandaline}원입니다.\")"
   ]
  },
  {
   "cell_type": "code",
   "execution_count": 62,
   "id": "26bb0cd8-c0e7-401a-8de7-cb11cfff9bcb",
   "metadata": {},
   "outputs": [
    {
     "name": "stdin",
     "output_type": "stream",
     "text": [
      "사과와 귤을 몇개 드릴까요? 10,20\n"
     ]
    },
    {
     "name": "stdout",
     "output_type": "stream",
     "text": [
      "총 가격은 14000 원 입니다.\n"
     ]
    }
   ],
   "source": [
    "apple_price = 1000\n",
    "tangerine_price = 200\n",
    "apple,tangerine = map(int, input(\"사과와 귤을 몇개 드릴까요?\").split(\",\"))\n",
    "\n",
    "totla_price = apple_price * apple + tangerine_price * tangerine\n",
    "\n",
    "print(f\"총 가격은 {totla_price} 원 입니다.\")"
   ]
  },
  {
   "cell_type": "code",
   "execution_count": 64,
   "id": "64461a53-d4ff-49f9-86d3-bacb6a55f296",
   "metadata": {},
   "outputs": [
    {
     "name": "stdin",
     "output_type": "stream",
     "text": [
      "사과와 귤을 몇개 드릴까요? 10,12\n"
     ]
    },
    {
     "data": {
      "text/plain": [
       "int"
      ]
     },
     "execution_count": 64,
     "metadata": {},
     "output_type": "execute_result"
    }
   ],
   "source": [
    "apple_price = 1000\n",
    "tangerine_price = 200\n",
    "apple,tangerine = map(int, input(\"사과와 귤을 몇개 드릴까요?\").split(\",\"))\n",
    "type(apple)"
   ]
  },
  {
   "cell_type": "code",
   "execution_count": 77,
   "id": "4cea77b6-504f-41f2-83a4-355fc63eddaa",
   "metadata": {},
   "outputs": [
    {
     "name": "stdout",
     "output_type": "stream",
     "text": [
      "오늘의 날짜를 알려드립니다!\n",
      "2023년 2월 15일입니다.\n"
     ]
    }
   ],
   "source": [
    "import time\n",
    "\n",
    "\n",
    "today = \"\"\"오늘의 날짜를 알려드립니다!\n",
    "{}년 {}월 {}일입니다.\\\n",
    "\"\"\".format(time.localtime().tm_year,\n",
    "           time.localtime().tm_mon,\n",
    "           time.localtime().tm_mday)\n",
    "\n",
    "print(today)\n",
    "\n",
    "\n"
   ]
  },
  {
   "cell_type": "code",
   "execution_count": 89,
   "id": "83c73693-71b8-4fed-beab-0e7652fc3c34",
   "metadata": {},
   "outputs": [
    {
     "name": "stdout",
     "output_type": "stream",
     "text": [
      "오늘의 날짜를 알려드립니다!\n",
      "2023년 2월 15일 입니다.\n"
     ]
    }
   ],
   "source": [
    "\n",
    "today = f\"\"\"오늘의 날짜를 알려드립니다!\n",
    "{time.localtime().tm_year}년 {time.localtime().tm_mon}월 {time.localtime().tm_mday}일 입니다.\\\n",
    "\"\"\"\n",
    "print(today)"
   ]
  },
  {
   "cell_type": "code",
   "execution_count": 107,
   "id": "03d1b32e-cea3-4658-aa8f-4ae9b8358067",
   "metadata": {},
   "outputs": [
    {
     "name": "stdout",
     "output_type": "stream",
     "text": [
      "input_value4는 정수입니다\n"
     ]
    }
   ],
   "source": [
    "input_value4 = 1\n",
    "\n",
    "if type(input_value4) is int:\n",
    "    print(\"input_value4는 정수입니다\")"
   ]
  },
  {
   "cell_type": "code",
   "execution_count": 112,
   "id": "aeb0eca5-e204-4e46-aae2-371e07b6638b",
   "metadata": {},
   "outputs": [
    {
     "name": "stdout",
     "output_type": "stream",
     "text": [
      "맞았어요\n"
     ]
    }
   ],
   "source": [
    "a = 12\n",
    "\n",
    "if type(a) is int:\n",
    "    print(\"맞았어요\")\n",
    "else:\n",
    "    print(\"sh\")"
   ]
  },
  {
   "cell_type": "code",
   "execution_count": 113,
   "id": "59ba8f37-acbf-46ba-b78c-ad0d533bd51f",
   "metadata": {},
   "outputs": [
    {
     "name": "stdout",
     "output_type": "stream",
     "text": [
      "문자열입니다.\n"
     ]
    }
   ],
   "source": [
    "b = \"18\"\n",
    "\n",
    "if type(b) is int:\n",
    "    print(\"정수입니다\")\n",
    "elif type(b) is str:\n",
    "    print(\"문자열입니다.\")"
   ]
  },
  {
   "cell_type": "code",
   "execution_count": 119,
   "id": "e0a5f158-f5b2-45db-b13e-99123f4d5477",
   "metadata": {},
   "outputs": [
    {
     "name": "stdout",
     "output_type": "stream",
     "text": [
      "시작\n",
      "가\n",
      "끝\n"
     ]
    }
   ],
   "source": [
    "c = 50  #  0~100 점수\n",
    "print(\"시작\")\n",
    "\n",
    "if c >= 90:\n",
    "    print(\"수\")\n",
    "elif c >= 80:\n",
    "    print(\"우\")\n",
    "elif c >= 70:\n",
    "    print(\"미\")\n",
    "else:\n",
    "    print(\"가\")\n",
    "print(\"끝\")"
   ]
  },
  {
   "cell_type": "code",
   "execution_count": 120,
   "id": "ab0cc43f-a883-41bf-a9ae-d40e14445a6b",
   "metadata": {},
   "outputs": [
    {
     "name": "stdout",
     "output_type": "stream",
     "text": [
      "불혹을 넘기셨군요\n"
     ]
    }
   ],
   "source": [
    "age =40\n",
    "\n",
    "if 20 <= age < 30:\n",
    "    print(\"20대 입니다.\")\n",
    "elif 30 <= age < 40:\n",
    "    print(\"30대 입니다.\")\n",
    "else:\n",
    "    print(\"불혹을 넘기셨군요\")"
   ]
  },
  {
   "cell_type": "code",
   "execution_count": 39,
   "id": "1121ceae-d112-46c7-af44-a331448b2936",
   "metadata": {},
   "outputs": [
    {
     "name": "stdin",
     "output_type": "stream",
     "text": [
      "아이디를 입력하세요 :  231\\\\\n",
      "회원 등급을 입력해주세요:  2\n"
     ]
    },
    {
     "name": "stdout",
     "output_type": "stream",
     "text": [
      "제한적인 권한을 갖습니다.\n"
     ]
    }
   ],
   "source": [
    "name = input(\"아이디를 입력하세요 : \")\n",
    " \n",
    "if name == \"admin\":\n",
    "    print(\"최고 관리자, 모든 권한을 갖습니다.\")\n",
    "else:\n",
    "    level = int(input(\"회원 등급을 입력해주세요: \"))\n",
    "\n",
    "    if 0 < level < 4:\n",
    "        print(\"제한적인 권한을 갖습니다.\")\n",
    "    else:\n",
    "        print(\"권한이 없습니다.\")\n",
    "\n"
   ]
  },
  {
   "cell_type": "code",
   "execution_count": null,
   "id": "085f718e-a13e-46ea-8aa9-1f129ccc19a9",
   "metadata": {},
   "outputs": [],
   "source": [
    "#  if 조건식\n",
    "if 조건식:\n",
    "    pass  # pass를 사용하면 뼈대만 잡아두고 아무것도 하지 않고 오류없이 코드를 작성 가능"
   ]
  },
  {
   "cell_type": "code",
   "execution_count": 45,
   "id": "0cf5a40d-8ab2-4a5b-93ec-e8c494c0972d",
   "metadata": {},
   "outputs": [
    {
     "name": "stdin",
     "output_type": "stream",
     "text": [
      "나이를 입력해주세요. 30\n"
     ]
    },
    {
     "name": "stdout",
     "output_type": "stream",
     "text": [
      "10살 이상힙니다\n",
      "20살 이상입니다.\n",
      "30살 이상입니다\n",
      "age >= 30세 구간입니다.\n",
      "age >= 20세 구간입니다.\n",
      "age >= 10세 구간입니다.\n"
     ]
    }
   ],
   "source": [
    "age = int(input(\"나이를 입력해주세요.\"))\n",
    "\n",
    "if age >= 10:\n",
    "    print(\"10살 이상힙니다\")\n",
    "    if age >= 20:\n",
    "        print(\"20살 이상입니다.\")\n",
    "        if age >= 30:\n",
    "            print(\"30살 이상입니다\")\n",
    "            if age >= 40:\n",
    "                print(\"40살 이상입니다.\")\n",
    "            print(\"age >= 30세 구간입니다.\")\n",
    "        print(\"age >= 20세 구간입니다.\")\n",
    "    print(\"age >= 10세 구간입니다.\")\n"
   ]
  },
  {
   "cell_type": "code",
   "execution_count": 50,
   "id": "70cd1787-7b45-43bb-b2c2-f02d3dc6d291",
   "metadata": {},
   "outputs": [
    {
     "name": "stdin",
     "output_type": "stream",
     "text": [
      "자연수 하나 입력해주세요:  21\n"
     ]
    },
    {
     "name": "stdout",
     "output_type": "stream",
     "text": [
      "0\n"
     ]
    }
   ],
   "source": [
    "number = int(input(\"자연수 하나 입력해주세요: \"))\n",
    "if number - 50 < 0:\n",
    "    print(0)\n",
    "else:\n",
    "    print(number - 50)"
   ]
  },
  {
   "cell_type": "code",
   "execution_count": 61,
   "id": "803d66bb-93a8-4cf8-93e1-b92c65c43fa1",
   "metadata": {},
   "outputs": [
    {
     "name": "stdin",
     "output_type": "stream",
     "text": [
      "자연수 하나 입력해주세요:  4\n"
     ]
    },
    {
     "name": "stdout",
     "output_type": "stream",
     "text": [
      "짝수입니다.\n"
     ]
    }
   ],
   "source": [
    "number = int(input(\"자연수 하나 입력해주세요: \"))\n",
    "if number % 2 == 0:\n",
    "    print(\"짝수입니다.\")\n",
    "else:\n",
    "    print(\"홀수입니다.\")"
   ]
  },
  {
   "cell_type": "code",
   "execution_count": 80,
   "id": "7431e3d1-24b1-4185-8c59-f02b161348ee",
   "metadata": {},
   "outputs": [
    {
     "name": "stdin",
     "output_type": "stream",
     "text": [
      "소프트웨어 설계 점수를 입력하세요. 32\n",
      "소프트웨어 개발 점수를 입력하세요. 32\n",
      "데이터베이스 구축 점수를 입력하세요. 32\n",
      "프로그래임 언어 활용 점수를 입력하세요. 32\n",
      "정보시스템 구축관리 점수를 입력하세요. 32\n"
     ]
    },
    {
     "name": "stdout",
     "output_type": "stream",
     "text": [
      "불합격\n"
     ]
    }
   ],
   "source": [
    "design = int(input(\"소프트웨어 설계 점수를 입력하세요.\"))\n",
    "develop = int(input(\"소프트웨어 개발 점수를 입력하세요.\"))\n",
    "build = int(input(\"데이터베이스 구축 점수를 입력하세요.\"))\n",
    "c_language = int(input(\"프로그래임 언어 활용 점수를 입력하세요.\"))\n",
    "imf_system = int(input(\"정보시스템 구축관리 점수를 입력하세요.\"))\n",
    "\n",
    "total = [design, develop, build, c_language, imf_system]\n",
    "\n",
    "if total[0] < 0 or total[0] > 100:\n",
    "    print(\"잘못된 점수입니다.\")\n",
    "elif total[1] < 0 or total[1] > 100:\n",
    "    print(\"잘못된 점수입니다.\")    \n",
    "elif total[2] < 0 or total[2] > 100:\n",
    "    print(\"잘못된 점수입니다.\")\n",
    "elif total[3] < 0 or total[3] > 100:\n",
    "    print(\"잘못된 점수입니다.\")\n",
    "elif total[4] < 0 or total[4] > 100:\n",
    "    print(\"잘못된 점수입니다.\")\n",
    "elif sum(total) / len(total) >= 60:\n",
    "    print(\"합격\")\n",
    "else:\n",
    "    print(\"불합격\")\n",
    "    \n"
   ]
  },
  {
   "cell_type": "code",
   "execution_count": 94,
   "id": "64d7d11c-6282-41e4-91c3-44144d2da9cb",
   "metadata": {},
   "outputs": [
    {
     "name": "stdin",
     "output_type": "stream",
     "text": [
      "현재 물의 온도를 입력해주세요. -3.2\n"
     ]
    },
    {
     "name": "stdout",
     "output_type": "stream",
     "text": [
      "고체로 예상됩니다.\n"
     ]
    }
   ],
   "source": [
    "temp = float(input(\"현재 물의 온도를 입력해주세요.\"))\n",
    "\n",
    "if temp >= 100:\n",
    "    print(\"기체로 예상됩니다.\")\n",
    "elif temp >= 0:\n",
    "    print(\"액체로 예상됩니다.\")\n",
    "else:\n",
    "    print(\"고체로 예상됩니다.\")"
   ]
  },
  {
   "cell_type": "code",
   "execution_count": 108,
   "id": "e9167b3a-3967-49cc-a5c6-afa886618d00",
   "metadata": {},
   "outputs": [],
   "source": [
    "age = int(input(\"자신의 나이를 입력하세요: \"))\n",
    "\n",
    "if age >= 19:   # 19세 이상\n",
    "    print(\"1500원\")\n",
    "elif 12 <= age <= 18:   # 12세 이상 18세 미만\n",
    "    print(\"1100원\")\n",
    "elif 6 <= age <= 11:   # 6세 이상 11세 미만\n",
    "    print(\"800원\")\n",
    "else:   # 미취학 아동 \n",
    "    print(\"무료입니다\")"
   ]
  },
  {
   "cell_type": "markdown",
   "id": "5c462c79-9378-4993-80a4-d6a6974fb126",
   "metadata": {},
   "source": [
    "buying = int(input(\"발주 수량을 입력하세요:\"))\n",
    "price = 10\n",
    "i = 0\n",
    "print(f\"{buying}개를 주문하셨습니다.\")\n",
    "if buying > 2000:\n",
    "    i += 20\n",
    "    print(f\"적용 할인율은 {i}% 입니다.\")\n",
    "elif 1500 < buying <= 2000:\n",
    "    i += 10\n",
    "    prnt(f\"적용 할인율은 {i}% 입니다.\")\n",
    "elif 1000 <= buying <= 1500:\n",
    "    i += 5\n",
    "    print(f\"적용 할인율은 {i}% 입니다.\")\n",
    "elif 1000 >\n",
    "    print(f\"총 발주 금액은 ${buying * price}입니다.\")\n",
    "print(f\"총 발주 금액은 {(buying * price) / (i * 0.01 + 1)}입니다\")\n",
    "\n",
    "\n",
    "    \n",
    "    \n",
    "    \n",
    "    \n"
   ]
  },
  {
   "cell_type": "code",
   "execution_count": 25,
   "id": "4759425e-42df-440f-95cb-1a2f85227dce",
   "metadata": {},
   "outputs": [
    {
     "ename": "SyntaxError",
     "evalue": "unexpected EOF while parsing (614219980.py, line 17)",
     "output_type": "error",
     "traceback": [
      "\u001b[1;36m  File \u001b[1;32m\"C:\\Users\\jungh\\AppData\\Local\\Temp\\ipykernel_14884\\614219980.py\"\u001b[1;36m, line \u001b[1;32m17\u001b[0m\n\u001b[1;33m    print(f\"총 발주 금액은 {(buying * price) / (100 - i / 100)}입니다\")\u001b[0m\n\u001b[1;37m                                                              ^\u001b[0m\n\u001b[1;31mSyntaxError\u001b[0m\u001b[1;31m:\u001b[0m unexpected EOF while parsing\n"
     ]
    }
   ],
   "source": [
    "buying = int(input(\"발주 수량을 입력하세요:\"))\n",
    "price = 10\n",
    "i = 0\n",
    "print(f\"{buying}개를 주문하셨습니다.\")\n",
    "if buying > 2000:\n",
    "    i = 20\n",
    "    print(f\"적용 할인율은 {i}% 입니다.\")\n",
    "elif 1500 < buying <= 2000:\n",
    "    i = 10\n",
    "    print(f\"적용 할인율은 {i}% 입니다.\")\n",
    "elif 1000 <= buying <= 1500:\n",
    "    i = 5\n",
    "    print(f\"적용 할인율은 {i}% 입니다.\")\n",
    "else:\n",
    "    print(\n",
    "    \n",
    "print(f\"총 발주 금액은 {(buying * price) / (100 - i / 100)}입니다\")\n"
   ]
  },
  {
   "cell_type": "code",
   "execution_count": null,
   "id": "8ff780c4-68d4-41b8-a8d1-646ee3251baf",
   "metadata": {},
   "outputs": [
    {
     "name": "stdin",
     "output_type": "stream",
     "text": [
      "주민번호 뒷자리를 입력하세요: 1234567\n"
     ]
    },
    {
     "name": "stdout",
     "output_type": "stream",
     "text": [
      "남자\n"
     ]
    }
   ],
   "source": [
    "number = input(\"주민번호 뒷자리를 입력하세요:\")\n",
    "if len(number) != 7:\n",
    "    print(\"자리수를 잘못 입력했습니다.\")\n",
    "elif number[0] == '1' or number[0] == '3':\n",
    "    print(\"남자\")\n",
    "elif number[0] == '2' or number[0] == '4':\n",
    "    print(\"여자\")\n",
    "else:\n",
    "    print(\"잘못된 입력입니다.\")\n"
   ]
  },
  {
   "cell_type": "code",
   "execution_count": 40,
   "id": "59c08617-8aef-4b02-aef4-bff54066fca3",
   "metadata": {},
   "outputs": [
    {
     "name": "stdin",
     "output_type": "stream",
     "text": [
      "확인할 연도를 입력하세요: 2023\n"
     ]
    },
    {
     "name": "stdout",
     "output_type": "stream",
     "text": [
      "평년입니다\n"
     ]
    }
   ],
   "source": [
    "year = int(input(\"확인할 연도를 입력하세요:\"))\n",
    "if year % 100 == 0 and year % 400 != 0:\n",
    "    print(\"평년입니다\")\n",
    "elif year % 4 == 0:\n",
    "    print(\"윤년입니다\")\n",
    "else:\n",
    "    print(\"평년입니다\")\n",
    "    \n"
   ]
  },
  {
   "cell_type": "code",
   "execution_count": null,
   "id": "f344d560-07cf-4f53-93a2-c312a44a4ded",
   "metadata": {},
   "outputs": [
    {
     "name": "stdin",
     "output_type": "stream",
     "text": [
      "확인할 연도를 입력하세요: 1300\n"
     ]
    },
    {
     "name": "stdout",
     "output_type": "stream",
     "text": [
      "평년입니다\n"
     ]
    }
   ],
   "source": [
    "year = int(input(\"확인할 연도를 입력하세요:\"))\n",
    "if (year % 100 == 0 and year % 400 != 0) or (year % 4 != 0):\n",
    "    print(\"평년입니다\")\n",
    "else:\n",
    "    print(\"윤년입니다\")"
   ]
  },
  {
   "cell_type": "code",
   "execution_count": null,
   "id": "cb6b8b30-0f35-4f88-a190-35e83fe541db",
   "metadata": {},
   "outputs": [
    {
     "name": "stdin",
     "output_type": "stream",
     "text": [
      "확인할 연도를 입력하세요: 4444\n"
     ]
    },
    {
     "name": "stdout",
     "output_type": "stream",
     "text": [
      "윤년입니다\n"
     ]
    }
   ],
   "source": [
    "year = int(input(\"확인할 연도를 입력하세요:\"))\n",
    "if year % 4 == 0 and (year % 100 != 0 or year % 400 == 0):    \n",
    "    print(\"윤년입니다\")\n",
    "else:\n",
    "    print(\"평년입니다\")"
   ]
  },
  {
   "cell_type": "code",
   "execution_count": 109,
   "id": "da56b5be-1415-45a9-89fe-b59f7f2e812b",
   "metadata": {},
   "outputs": [
    {
     "name": "stdout",
     "output_type": "stream",
     "text": [
      "Hello world\n"
     ]
    }
   ],
   "source": [
    "# 여기서의 range는 0부터 999까지의 숫자를 생성한다.\n",
    "for n in range(1000):\n",
    "    print(\"Hello world\")"
   ]
  },
  {
   "cell_type": "code",
   "execution_count": 104,
   "id": "10d93a3a-5348-42ef-b791-935659906a9a",
   "metadata": {},
   "outputs": [
    {
     "name": "stdout",
     "output_type": "stream",
     "text": [
      "[2, 3, 4]\n"
     ]
    }
   ],
   "source": [
    "# 함수를 호출할 떄 소괄호를 사용한다.\n",
    "# 인수(arguments)가 여럿일 때 콤마로 구분한다.\n",
    "# range(시작하는숫자(포함), 끝숫자(미포함), 증감)\n",
    "# range는 규칙된 숫자를 만드는데 특화되어 있다.\n",
    "a = [1, 2, 3, 4, 5]\n",
    "print(a[1:4])"
   ]
  },
  {
   "cell_type": "code",
   "execution_count": null,
   "id": "d4d2e170-95b3-4611-af6e-e6df48e584cc",
   "metadata": {},
   "outputs": [],
   "source": [
    "# list vs range가 동작하는 큰 차이점\n",
    "# list는 메모리상에 미리 다 만들어 놓습니다.\n",
    "# range는 필요할 때 만듬."
   ]
  }
 ],
 "metadata": {
  "kernelspec": {
   "display_name": "Python 3 (ipykernel)",
   "language": "python",
   "name": "python3"
  },
  "language_info": {
   "codemirror_mode": {
    "name": "ipython",
    "version": 3
   },
   "file_extension": ".py",
   "mimetype": "text/x-python",
   "name": "python",
   "nbconvert_exporter": "python",
   "pygments_lexer": "ipython3",
   "version": "3.9.13"
  }
 },
 "nbformat": 4,
 "nbformat_minor": 5
}
