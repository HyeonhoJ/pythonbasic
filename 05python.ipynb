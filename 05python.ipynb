{
 "cells": [
  {
   "cell_type": "code",
   "execution_count": 15,
   "id": "b9731be9-fccf-426d-bfb2-46f474179fd5",
   "metadata": {},
   "outputs": [
    {
     "name": "stdout",
     "output_type": "stream",
     "text": [
      "[2, 4, 6, 8, 10, 12, 14, 16, 18, 20, 22, 24, 26, 28, 30, 32, 34, 36, 38, 40, 42, 44, 46, 48, 50, 52, 54, 56, 58, 60, 62, 64, 66, 68, 70, 72, 74, 76, 78, 80, 82, 84, 86, 88, 90, 92, 94, 96, 98]\n"
     ]
    }
   ],
   "source": [
    "even_number = list(range(2, 100, 2))\n",
    "print(even_number)dd"
   ]
  },
  {
   "cell_type": "code",
   "execution_count": 26,
   "id": "d4d8ce39-927a-4520-9fa1-af1d624f74e1",
   "metadata": {},
   "outputs": [
    {
     "name": "stdout",
     "output_type": "stream",
     "text": [
      "<class 'types.GenericAlias'>\n",
      "<class 'list'>\n"
     ]
    }
   ],
   "source": [
    "a = list[132, 12, 32, 32]\n",
    "b = [1, 3, 4, 6]\n",
    "print(type(a))\n",
    "print(type(b))"
   ]
  },
  {
   "cell_type": "code",
   "execution_count": 27,
   "id": "5d6be405-8a55-4e5e-85a8-750ba922307f",
   "metadata": {},
   "outputs": [],
   "source": [
    "# 파이썬은 for문은 시퀀스 자료형의 항목들을 순서대로 요소를 하나씩 꺼냅니다.\n",
    "# 반복되는 부분을 만들 때 활용하면 좋습니다.\n",
    "# 혹은 iterable(객체)를 루핑할 때 좋습니다.\n",
    "# 반복 획수가 정해져 있을 때 주로 사용합니다.\n",
    "\n"
   ]
  },
  {
   "cell_type": "code",
   "execution_count": 29,
   "id": "777d46de-4643-4e61-a9ba-49e3b69db969",
   "metadata": {},
   "outputs": [
    {
     "name": "stdout",
     "output_type": "stream",
     "text": [
      "Hello world\n"
     ]
    }
   ],
   "source": [
    "for i in range(1):\n",
    "    print(\"Hello world\")\n",
    "    "
   ]
  },
  {
   "cell_type": "code",
   "execution_count": 35,
   "id": "e9a86d75-0c02-440a-a50a-977878738b03",
   "metadata": {},
   "outputs": [
    {
     "name": "stdin",
     "output_type": "stream",
     "text": [
      "인사 몇 번 해드릴까요? 3\n"
     ]
    },
    {
     "name": "stdout",
     "output_type": "stream",
     "text": [
      "Hello world\n",
      "Hello world\n",
      "Hello world\n"
     ]
    }
   ],
   "source": [
    "for i in range(int(input(\"인사 몇 번 해드릴까요?\"))):\n",
    "    print(\"Hello world\")\n",
    "                         "
   ]
  },
  {
   "cell_type": "code",
   "execution_count": 40,
   "id": "2fbde038-de7a-4f6c-a302-04b24c5a7d40",
   "metadata": {},
   "outputs": [
    {
     "name": "stdout",
     "output_type": "stream",
     "text": [
      "[5, 6, 7, 8, 9]\n",
      "[0, 3, 6, 9]\n",
      "[-10, -40, -70]\n"
     ]
    }
   ],
   "source": [
    "a = list(range(5,10))\n",
    "print(a)\n",
    "\n",
    "b = list(range(0, 10, 3))\n",
    "print(b)\n",
    "\n",
    "c = list(range(-10, -71, -30))\n",
    "print(c)"
   ]
  },
  {
   "cell_type": "code",
   "execution_count": 115,
   "id": "2ff9e9e0-66c7-4797-b076-438b8a79cdae",
   "metadata": {},
   "outputs": [
    {
     "name": "stdin",
     "output_type": "stream",
     "text": [
      "자연수 하나 입력해주세요: 6\n"
     ]
    },
    {
     "name": "stdout",
     "output_type": "stream",
     "text": [
      "6\t6\t6\t6\t6\t6\t\n",
      "5\t5\t5\t5\t5\t\n",
      "4\t4\t4\t4\t\n",
      "3\t3\t3\t\n",
      "2\t2\t\n",
      "1\t\n"
     ]
    }
   ],
   "source": [
    "b = int(input(\"자연수 하나 입력해주세요:\"))\n",
    "for i in range(b, 0, -1):\n",
    "    print(f\"{i}\\t\" *i)\n",
    "    "
   ]
  },
  {
   "cell_type": "code",
   "execution_count": 128,
   "id": "05001101-507a-46fa-9990-5c4dc0ebef46",
   "metadata": {},
   "outputs": [
    {
     "name": "stdin",
     "output_type": "stream",
     "text": [
      "자연수 하나를 입력해주세요: 4\n"
     ]
    },
    {
     "name": "stdout",
     "output_type": "stream",
     "text": [
      "4    4    4    4    \n",
      "3    3    3    \n",
      "2    2    \n",
      "1    \n"
     ]
    }
   ],
   "source": [
    "int_value = int(input(\"자연수 하나를 입력해주세요:\"))\n",
    "for i in range(int_value, 0, -1):\n",
    "    for j in range(i):\n",
    "        print(i, end='')\n",
    "    print()\n",
    "    \n"
   ]
  },
  {
   "cell_type": "code",
   "execution_count": 154,
   "id": "3f971d78-2890-443d-b1c1-780621dc012a",
   "metadata": {},
   "outputs": [
    {
     "name": "stdout",
     "output_type": "stream",
     "text": [
      "*  *  *  *  *  *  *  *  \n",
      "*                    *\n",
      "*                    *\n",
      "*                    *\n",
      "*                    *\n",
      "*                    *\n",
      "*                    *\n",
      "*                    *\n",
      "*                    *\n",
      "*  *  *  *  *  *  *  *  \n"
     ]
    }
   ],
   "source": [
    "for i in range(10):\n",
    "    if i == 0 or i == 9:\n",
    "        print(\"*  \" * 8)\n",
    "    else:\n",
    "        print(\"*                    *\")"
   ]
  },
  {
   "cell_type": "code",
   "execution_count": 255,
   "id": "34be9d1b-a7c2-4232-9839-3d5c1d48337a",
   "metadata": {},
   "outputs": [
    {
     "name": "stdin",
     "output_type": "stream",
     "text": [
      "1부터 입력한 자연수까지의 모든 홀수의 합을 구합니다 100\n"
     ]
    },
    {
     "name": "stdout",
     "output_type": "stream",
     "text": [
      "1 + 3 + 5 + 7 + 9 + 11 + 13 + 15 + 17 + 19 + 21 + 23 + 25 + 27 + 29 + 31 + 33 + 35 + 37 + 39 + 41 + 43 + 45 + 47 + 49 + 51 + 53 + 55 + 57 + 59 + 61 + 63 + 65 + 67 + 69 + 71 + 73 + 75 + 77 + 79 + 81 + 83 + 85 + 87 + 89 + 91 + 93 + 95 + 97 + 99 = 2500\n"
     ]
    }
   ],
   "source": [
    "num = int(input(\"1부터 입력한 자연수까지의 모든 홀수의 합을 구합니다\"))\n",
    "\n",
    "total = 0\n",
    "\n",
    "for i in range(1, num + 1):\n",
    "    if i % 2 == 1:\n",
    "        if(num - 1) == i or num == i:\n",
    "            print(i, end=' = ')\n",
    "        else:\n",
    "            print(i, end=\" + \")\n",
    "        total += i\n",
    "print(total)\n",
    "    "
   ]
  },
  {
   "cell_type": "code",
   "execution_count": 267,
   "id": "589938d3-1258-4016-a0e0-7c7c1a582d2a",
   "metadata": {},
   "outputs": [
    {
     "name": "stdin",
     "output_type": "stream",
     "text": [
      "1부터 입력한 자연수까지의 모든 홀수의 합을 구합니다 100\n"
     ]
    },
    {
     "name": "stdout",
     "output_type": "stream",
     "text": [
      "1  +  3  +  5  +  7  +  9  +  11  +  13  +  15  +  17  +  19  +  21  +  23  +  25  +  27  +  29  +  31  +  33  +  35  +  37  +  39  +  41  +  43  +  45  +  47  +  49  +  51  +  53  +  55  +  57  +  59  +  61  +  63  +  65  +  67  +  69  +  71  +  73  +  75  +  77  +  79  +  81  +  83  +  85  +  87  +  89  +  91  +  93  +  95  +  97  +  99 = 2500\n"
     ]
    }
   ],
   "source": [
    "num = int(input(\"1부터 입력한 자연수까지의 모든 홀수의 합을 구합니다\"))\n",
    "print(\"1\", end=\"\")\n",
    "total = 1\n",
    "for i in range(3, num + 1):\n",
    "    if i % 2 == 1:\n",
    "        print(f\"  +  {i}\", end=\"\")\n",
    "        total += i\n",
    "print(f' = {total}')\n",
    "        "
   ]
  },
  {
   "cell_type": "code",
   "execution_count": null,
   "id": "95b4a9ed-2a4c-49ec-916e-1c90bc81d1dd",
   "metadata": {},
   "outputs": [
    {
     "name": "stdin",
     "output_type": "stream",
     "text": [
      "1부터 입력한 자연수까지의 모든 홀수의 합을 구합니다 107\n"
     ]
    },
    {
     "name": "stdout",
     "output_type": "stream",
     "text": [
      "1  +  3  +  5  +  7  +  9  +  11  +  13  +  15  +  17  +  19  +  21  +  23  +  25  +  27  +  29  +  31  +  33  +  35  +  37  +  39  +  41  +  43  +  45  +  47  +  49  +  51  +  53  +  55  +  57  +  59  +  61  +  63  +  65  +  67  +  69  +  71  +  73  +  75  +  77  +  79  +  81  +  83  +  85  +  87  +  89  +  91  +  93  +  95  +  97  +  99  +  101  +  103  +  105  +  107  =  2916\n"
     ]
    }
   ],
   "source": [
    "num = int(input(\"1부터 입력한 자연수까지의 모든 홀수의 합을 구합니다\"))\n",
    "print(\"1\", end=\"\")\n",
    "\n",
    "total = 1\n",
    "\n",
    "for i in range(3, num + 1, 2):\n",
    "    print(f\"  +  {i}\", end=\"\")\n",
    "    \n",
    "    total += i\n",
    "print(f\"  =  {total}\")"
   ]
  },
  {
   "cell_type": "code",
   "execution_count": 313,
   "id": "c215300d-027f-45ca-9a41-96d6fbd739ff",
   "metadata": {},
   "outputs": [
    {
     "name": "stdin",
     "output_type": "stream",
     "text": [
      "계승을 구할 숫자를 입력하세요. 6\n"
     ]
    },
    {
     "name": "stdout",
     "output_type": "stream",
     "text": [
      "720\n"
     ]
    }
   ],
   "source": [
    "num = int(input(\"계승을 구할 숫자를 입력하세요.\"))\n",
    "total = 1\n",
    "for i in range(1, num + 1):\n",
    "    total *= i\n",
    "print(total)"
   ]
  },
  {
   "cell_type": "code",
   "execution_count": 319,
   "id": "d23d6e1c-9e88-4db3-8411-8323a57f227d",
   "metadata": {},
   "outputs": [
    {
     "name": "stdout",
     "output_type": "stream",
     "text": [
      "시미라레솔도파일이삼사오육칠팔구십"
     ]
    }
   ],
   "source": [
    "for i in [\"시\", \"미\", \"라\", \"레\", \"솔\", \"도\", \"파\"]:\n",
    "    print(i, end=\"\")\n",
    "    \n",
    "for i in \"일이삼사오육칠팔구십\":\n",
    "    print(i, end=\"\")"
   ]
  },
  {
   "cell_type": "code",
   "execution_count": 326,
   "id": "3b0f23d8-15ab-4cc0-953c-a007a4719b99",
   "metadata": {},
   "outputs": [
    {
     "name": "stdout",
     "output_type": "stream",
     "text": [
      "요세하녕안\n"
     ]
    }
   ],
   "source": [
    "a = \"안녕하세요\"\n",
    "\n",
    "b = a[::-1]\n",
    "\n",
    "print(b)"
   ]
  },
  {
   "cell_type": "code",
   "execution_count": 331,
   "id": "09e9aa3d-0ea7-481f-a388-f7e110270371",
   "metadata": {},
   "outputs": [
    {
     "name": "stdout",
     "output_type": "stream",
     "text": [
      "100 -420 250 1030 210 770 240 "
     ]
    }
   ],
   "source": [
    "x = [10, -42, 25, 103, 21, 77, 24]\n",
    "\n",
    "for i in range(len(x)):\n",
    "    print(x[i] * 10, end=\" \")"
   ]
  },
  {
   "cell_type": "code",
   "execution_count": 337,
   "id": "a7c1d9c2-4146-428a-838d-a99d20a1c6b5",
   "metadata": {},
   "outputs": [
    {
     "name": "stdin",
     "output_type": "stream",
     "text": [
      "구구단을 알려드립니다. 숫자를 입력하세요. 9\n"
     ]
    },
    {
     "name": "stdout",
     "output_type": "stream",
     "text": [
      "9 * 1 = 9\n",
      "9 * 2 = 18\n",
      "9 * 3 = 27\n",
      "9 * 4 = 36\n",
      "9 * 5 = 45\n",
      "9 * 6 = 54\n",
      "9 * 7 = 63\n",
      "9 * 8 = 72\n",
      "9 * 9 = 81\n"
     ]
    }
   ],
   "source": [
    "numbers = int(input(\"구구단을 알려드립니다. 숫자를 입력하세요.\"))\n",
    "\n",
    "for i in range(1, 10):\n",
    "    print(f\"{numbers} * {i} = {numbers * i}\")"
   ]
  },
  {
   "cell_type": "code",
   "execution_count": 343,
   "id": "c7e59660-9edc-46ff-907d-d8900e38a1d0",
   "metadata": {},
   "outputs": [
    {
     "name": "stdin",
     "output_type": "stream",
     "text": [
      "자연수를 입력해주세요: 10000\n"
     ]
    },
    {
     "name": "stdout",
     "output_type": "stream",
     "text": [
      "50005000\n"
     ]
    }
   ],
   "source": [
    "num = int(input(\"자연수를 입력해주세요:\"))\n",
    "total = 0\n",
    "for i in range(1, num + 1):\n",
    "    total += i\n",
    "print(total)"
   ]
  },
  {
   "cell_type": "code",
   "execution_count": 361,
   "id": "e36f09c2-401a-4634-b96e-1369b0ab43c2",
   "metadata": {},
   "outputs": [
    {
     "name": "stdout",
     "output_type": "stream",
     "text": [
      "*****\n",
      "*****\n",
      "*****\n",
      "*****\n",
      "*****\n"
     ]
    }
   ],
   "source": [
    "for i in range(5):\n",
    "    i = 5\n",
    "    for j in range(1):\n",
    "        print(\"*\" * i)\n",
    "    "
   ]
  },
  {
   "cell_type": "code",
   "execution_count": 363,
   "id": "ed5856d3-2e8e-495e-ac41-9ac80fceed3e",
   "metadata": {},
   "outputs": [
    {
     "name": "stdout",
     "output_type": "stream",
     "text": [
      "Hello world\n",
      "Hello world\n",
      "Hello world\n",
      "Hello world\n",
      "Hello world\n",
      "Hello world\n",
      "Hello world\n",
      "Hello world\n",
      "Hello world\n",
      "Hello world\n"
     ]
    }
   ],
   "source": [
    "i = 0\n",
    "\n",
    "while i < 10:\n",
    "    print(\"Hello world\")\n",
    "    i += 1"
   ]
  },
  {
   "cell_type": "code",
   "execution_count": 370,
   "id": "7af52ea2-877a-4234-99cd-ac634e1caf97",
   "metadata": {},
   "outputs": [
    {
     "name": "stdin",
     "output_type": "stream",
     "text": [
      "반복할 횟수를 입력하세요.: 2\n"
     ]
    },
    {
     "name": "stdout",
     "output_type": "stream",
     "text": [
      "Hello world 2\n",
      "Hello world 1\n",
      "0\n"
     ]
    }
   ],
   "source": [
    "count = int(input(\"반복할 횟수를 입력하세요.:\"))\n",
    "\n",
    "while count > 0:\n",
    "    print(\"Hello world\", count)\n",
    "    count -= 1\n",
    "print(count)"
   ]
  },
  {
   "cell_type": "code",
   "execution_count": 376,
   "id": "9aaa4eac-5732-4c86-aa19-a8ed20855d8f",
   "metadata": {},
   "outputs": [
    {
     "name": "stdout",
     "output_type": "stream",
     "text": [
      "2\t4\t6\t8\t10\t12\t14\t16\t18\t20\t22\t24\t26\t28\t30\t32\t34\t36\t38\t40\t42\t44\t46\t48\t50\t52\t54\t56\t58\t60\t62\t64\t66\t68\t70\t72\t74\t76\t78\t80\t82\t84\t86\t88\t90\t92\t94\t96\t98\t100\t"
     ]
    }
   ],
   "source": [
    "i = 1\n",
    "while i <= 50:\n",
    "    print(f\"{i * 2}\\t\", end=\"\")\n",
    "    i += 1"
   ]
  },
  {
   "cell_type": "code",
   "execution_count": 378,
   "id": "64494683-1100-4934-922e-a3388cdb3bc6",
   "metadata": {},
   "outputs": [
    {
     "name": "stdout",
     "output_type": "stream",
     "text": [
      "9 * 1 = 9\n",
      "9 * 2 = 18\n",
      "9 * 3 = 27\n",
      "9 * 4 = 36\n",
      "9 * 5 = 45\n",
      "9 * 6 = 54\n",
      "9 * 7 = 63\n",
      "9 * 8 = 72\n",
      "9 * 9 = 81\n"
     ]
    }
   ],
   "source": [
    "i = 1\n",
    "j = 9\n",
    "while i < 10:\n",
    "    print(f\"{j} * {i} = {j * i}\")\n",
    "    i += 1\n",
    "    "
   ]
  },
  {
   "cell_type": "code",
   "execution_count": 379,
   "id": "aad63515-32c3-4cd7-a19c-18ce3ecb6c8a",
   "metadata": {},
   "outputs": [
    {
     "name": "stdout",
     "output_type": "stream",
     "text": [
      "97\n",
      "100\n",
      "77\n"
     ]
    }
   ],
   "source": [
    "scores = (97, 100, 77)\n",
    "\n",
    "for i in range(len(scores)):\n",
    "    print(scores[i])"
   ]
  },
  {
   "cell_type": "code",
   "execution_count": 380,
   "id": "0144fc76-a01f-412f-872e-0413f0754941",
   "metadata": {},
   "outputs": [
    {
     "name": "stdout",
     "output_type": "stream",
     "text": [
      "97\n",
      "100\n",
      "77\n"
     ]
    }
   ],
   "source": [
    "scores = (97, 100, 77)\n",
    "i = 0\n",
    "while i < len(scores):\n",
    "    print(scores[i])\n",
    "    i += 1"
   ]
  },
  {
   "cell_type": "code",
   "execution_count": null,
   "id": "024989f5-178e-444d-9cb9-04ae005f8006",
   "metadata": {},
   "outputs": [],
   "source": []
  }
 ],
 "metadata": {
  "kernelspec": {
   "display_name": "Python 3 (ipykernel)",
   "language": "python",
   "name": "python3"
  },
  "language_info": {
   "codemirror_mode": {
    "name": "ipython",
    "version": 3
   },
   "file_extension": ".py",
   "mimetype": "text/x-python",
   "name": "python",
   "nbconvert_exporter": "python",
   "pygments_lexer": "ipython3",
   "version": "3.9.13"
  }
 },
 "nbformat": 4,
 "nbformat_minor": 5
}
