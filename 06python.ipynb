{
 "cells": [
  {
   "cell_type": "code",
   "execution_count": null,
   "id": "f44a4262-bc50-4be9-9534-4f03bbe376c9",
   "metadata": {},
   "outputs": [],
   "source": [
    "    "
   ]
  },
  {
   "cell_type": "code",
   "execution_count": 7,
   "id": "0e26bd24-cd1f-425e-b39f-56a848d4e9af",
   "metadata": {},
   "outputs": [
    {
     "name": "stdout",
     "output_type": "stream",
     "text": [
      "1 2 3 4 5 6 7 8 9 10 1 2 3 4 5 6 7 8 9 10 "
     ]
    }
   ],
   "source": [
    "for i in range(1, 11):\n",
    "    print(i, end=\" \")\n",
    "\n",
    "-------------------------------\n",
    "    \n",
    "i = 1\n",
    "while i <= 10:\n",
    "    print(i, end=\" \")\n",
    "    i += 1"
   ]
  },
  {
   "cell_type": "code",
   "execution_count": 6,
   "id": "84854ce3-1dfd-471c-bd73-395932e609c6",
   "metadata": {},
   "outputs": [
    {
     "name": "stdout",
     "output_type": "stream",
     "text": [
      "1 2 3 4 5 6 7 8 9 10 "
     ]
    }
   ],
   "source": [
    "i = 1\n",
    "while i <= 10:\n",
    "    print(i, end=\" \")\n",
    "    i += 1"
   ]
  },
  {
   "cell_type": "code",
   "execution_count": 5,
   "id": "f64522df-4cd3-403d-a6bd-e75222b092ec",
   "metadata": {},
   "outputs": [
    {
     "name": "stdout",
     "output_type": "stream",
     "text": [
      "79.0\n"
     ]
    }
   ],
   "source": [
    "class_a = (70, 60, 55, 75, 95, 90, 80, 80, 85, 100)\n",
    "i = 0\n",
    "total = 0\n",
    "while i < len(class_a):\n",
    "    total += class_a[i]\n",
    "    i += 1\n",
    "print(total / 10)\n",
    "    "
   ]
  },
  {
   "cell_type": "code",
   "execution_count": 15,
   "id": "fbd89d0e-df7e-4f11-8b05-de75b5b67955",
   "metadata": {},
   "outputs": [
    {
     "name": "stdout",
     "output_type": "stream",
     "text": [
      "5050\n"
     ]
    }
   ],
   "source": [
    "i = 0\n",
    "total = 0\n",
    "while True:\n",
    "    i += 1\n",
    "    total += i\n",
    "    if i == 100:\n",
    "        break\n",
    "print(total)"
   ]
  },
  {
   "cell_type": "code",
   "execution_count": 20,
   "id": "39e28e47-7370-48ae-b68c-5ecb49230bf0",
   "metadata": {},
   "outputs": [
    {
     "name": "stdin",
     "output_type": "stream",
     "text": [
      "q를 입력하면 종료됩니다. q\n"
     ]
    },
    {
     "name": "stdout",
     "output_type": "stream",
     "text": [
      "프로그램을 종료합니다\n"
     ]
    }
   ],
   "source": [
    "while True:\n",
    "    input_value = input(\"q를 입력하면 종료됩니다.\")\n",
    "    if input_value == \"q\": break\n",
    "print(\"프로그램을 종료합니다\")"
   ]
  },
  {
   "cell_type": "code",
   "execution_count": 31,
   "id": "e432c4a7-d21b-43a2-94f9-9c307384893f",
   "metadata": {},
   "outputs": [
    {
     "name": "stdout",
     "output_type": "stream",
     "text": [
      "0\t2\t4\t6\t8\t10\t12\t14\t16\t18\t20\t22\t24\t26\t28\t30\t32\t34\t36\t38\t40\t42\t44\t46\t48\t50\t52\t54\t56\t58\t60\t62\t64\t66\t68\t70\t72\t74\t76\t78\t80\t82\t84\t86\t88\t90\t92\t94\t96\t98\t"
     ]
    }
   ],
   "source": [
    "# continue 제어흐름을 유지하고, contunue가 실행된 반복 횟수의 코드 실행만 건너뜁니다.\n",
    "\n",
    "for i in range(100):\n",
    "    if i % 2 == 1:\n",
    "        continue\n",
    "    print(i, end=\"\\t\")"
   ]
  },
  {
   "cell_type": "code",
   "execution_count": 55,
   "id": "7d2c8864-a8e0-4dd6-805d-6770a26f7c9d",
   "metadata": {},
   "outputs": [
    {
     "name": "stdin",
     "output_type": "stream",
     "text": [
      "시작하는 정수 입력: 4\n",
      "끝나는 정수 입력 : 7\n"
     ]
    },
    {
     "name": "stdout",
     "output_type": "stream",
     "text": [
      "22\n"
     ]
    }
   ],
   "source": [
    "start_num = int(input(\"시작하는 정수 입력:\"))\n",
    "end_num = int(input(\"끝나는 정수 입력 :\"))\n",
    "i = end_num\n",
    "j = start_num\n",
    "total = 0\n",
    "\n",
    "while j <= i:\n",
    "    total += j\n",
    "    j += 1\n",
    "print(total)\n",
    "    "
   ]
  },
  {
   "cell_type": "code",
   "execution_count": 68,
   "id": "c380042c-f8e3-4758-b09d-61c32d7ffb3a",
   "metadata": {},
   "outputs": [
    {
     "name": "stdin",
     "output_type": "stream",
     "text": [
      "시작하는 정수 입력: 1\n",
      "끝나는 정수 입력 : 10\n"
     ]
    },
    {
     "name": "stdout",
     "output_type": "stream",
     "text": [
      "55\n"
     ]
    }
   ],
   "source": [
    "start_num = int(input(\"시작하는 정수 입력:\"))\n",
    "end_num = int(input(\"끝나는 정수 입력 :\"))\n",
    "total = 0\n",
    "count = start_num\n",
    "for i in range(start_num, end_num + 1):\n",
    "    total += count\n",
    "    count += 1\n",
    "    \n",
    "print(total)"
   ]
  },
  {
   "cell_type": "code",
   "execution_count": 89,
   "id": "69048879-4111-44da-96bb-081b826ce46d",
   "metadata": {},
   "outputs": [
    {
     "name": "stdout",
     "output_type": "stream",
     "text": [
      "<class 'dict'>\n",
      "{'key': 'value', 'as': 'dwd'}\n",
      "{'key': 'value', 'as': 'dwd'}\n",
      "{3: 4}\n"
     ]
    }
   ],
   "source": [
    "dic_var = {\"key\": \"value\", \"as\": \"dwd\"}\n",
    "\n",
    "print(type(dic_var))\n",
    "\n",
    "print(dic_var)\n",
    "dic_vaar = {3 : 4}\n",
    "print(dic_var)\n",
    "print(dic_vaar)"
   ]
  },
  {
   "cell_type": "code",
   "execution_count": 86,
   "id": "f168594b-de42-4173-9f4b-2508ff13541a",
   "metadata": {},
   "outputs": [],
   "source": [
    "#() => tuple\n",
    "#[] => list\n",
    "#{} => dictionary(key\"value), set(key)"
   ]
  },
  {
   "cell_type": "code",
   "execution_count": 103,
   "id": "c7128922-59d8-4187-a006-9087e0024027",
   "metadata": {},
   "outputs": [
    {
     "name": "stdout",
     "output_type": "stream",
     "text": [
      "{'key': 'last value'}\n"
     ]
    }
   ],
   "source": [
    "dic = {\"key\": \"value\", \"key\": \"last value\"}\n",
    "\n",
    "print(dic)"
   ]
  },
  {
   "cell_type": "code",
   "execution_count": 241,
   "id": "1ca31023-d0a3-49b8-8a29-514ebd70f310",
   "metadata": {},
   "outputs": [
    {
     "name": "stdout",
     "output_type": "stream",
     "text": [
      "[<class 'str'>, <class 'int'>, <class 'float'>, <class 'tuple'>]\n",
      "dict_values(['value', 'value4', 'value3', 'value2'])\n"
     ]
    }
   ],
   "source": [
    "di = {'key': 'value',\n",
    "      1: 'value2',\n",
    "      1.1: 'value3',\n",
    "      True: 'value4',\n",
    "      ('key', 1, 1.1, True): 'value2'}\n",
    "\n",
    "print(list(map(type, di.keys())))\n",
    "print(di.values())"
   ]
  },
  {
   "cell_type": "code",
   "execution_count": 111,
   "id": "1d1d99c6-0a42-4475-9b05-d6fec2f31a32",
   "metadata": {},
   "outputs": [],
   "source": [
    "#딕셔너리 자료형에서 값(value)는 모든 자료형을 사용할 수 있다."
   ]
  },
  {
   "cell_type": "code",
   "execution_count": 112,
   "id": "856c1b73-033e-4ac6-9b70-a0d5f83aed1f",
   "metadata": {},
   "outputs": [
    {
     "name": "stdout",
     "output_type": "stream",
     "text": [
      "{}\n",
      "<class 'dict'>\n"
     ]
    }
   ],
   "source": [
    "empty_dict = {}\n",
    "print(empty_dict)\n",
    "print(type(empty_dict))"
   ]
  },
  {
   "cell_type": "code",
   "execution_count": 116,
   "id": "d28fe754-7796-4415-95ce-75e8b209febc",
   "metadata": {},
   "outputs": [
    {
     "name": "stdout",
     "output_type": "stream",
     "text": [
      "{}\n",
      "<class 'dict'>\n"
     ]
    }
   ],
   "source": [
    "empty_dictt = dict()\n",
    "print(empty_dictt)\n",
    "print(type(empty_dictt))"
   ]
  },
  {
   "cell_type": "code",
   "execution_count": 121,
   "id": "0afb5cf6-a2c7-4987-9ac4-f54d24ca8740",
   "metadata": {},
   "outputs": [
    {
     "name": "stdout",
     "output_type": "stream",
     "text": [
      "{'key1': 'value', 'key2': 'value2', 'key3': 'value3'}\n"
     ]
    }
   ],
   "source": [
    "# dict() 함수에 키워드 인자값을 활용하면 딕셔너리를 만들 수 있습니다. 함수에 사용하는 \n",
    "# 키워드 인자의 키워드 부분은 변수명처럼 따옴표(\",\"\")를 사용하지 않습니다.\n",
    "            이부분           이부분           이부분\n",
    "dict_a = dict(key1 = \"value\", key2 = \"value2\", key3 = \"value3\")\n",
    "\n",
    "print(dict_a)"
   ]
  },
  {
   "cell_type": "code",
   "execution_count": 122,
   "id": "bf731e79-4093-44e6-90f4-7bce7e5c0a6d",
   "metadata": {},
   "outputs": [],
   "source": [
    "# 키와 값 한 쌍을 갖는 시퀀스 객체를 요소로갖는 시퀀스 객체를 생성하여 딕셔너리\n",
    "# 자료형으로 만들 수 있습니다."
   ]
  },
  {
   "cell_type": "code",
   "execution_count": 159,
   "id": "208a465e-9fbf-4a8c-8d17-d9adb64f8b65",
   "metadata": {},
   "outputs": [
    {
     "name": "stdout",
     "output_type": "stream",
     "text": [
      "{'key': 'value', 'key2': 'value2', 'key3': 'value3'}\n",
      "<zip object at 0x000002605A3F2640>\n",
      "value2\n",
      "{'key': 'super value', 'key2': 'value2', 'key3': 'value3'}\n",
      "{'key': 'super value', 'key2': 'value2', 'key3': 'value3', 32: '삼십이'}\n",
      "True\n",
      "{'key': 'super value', 'key2': 'value2', 'key3': 'value3', 32: '삼십이'}\n"
     ]
    }
   ],
   "source": [
    "# zip() 함수를 통하여 키와 값 한 쌍을 갖는 튜플을 요소로 갖는 객체로\n",
    "# 딕셔너리 자료형을 생성할 수 있습니다.\n",
    "\n",
    "dict_b = dict(zip([\"key\", \"key2\", \"key3\"], [\"value\", \"value2\", 'value3']))\n",
    "print(dict_b)\n",
    "print(zip([\"key\", \"key2\", \"key3\"], [\"value\", \"value2\", 'value3']))\n",
    "\n",
    "[_ for _ in zip([\"key\", \"key2\", \"key3\"], [\"value\", \"value2\", 'value3'])]\n",
    "\n",
    "print(dict_b['key2'])\n",
    "\n",
    "dict_b['key'] = 'super value'\n",
    "print(dict_b)\n",
    "\n",
    "dict_b[32] = \"삼십이\"\n",
    "\n",
    "print(dict_b)\n",
    "print(\"super value\" in dict_b.values())\n",
    "print(dict_b)\n"
   ]
  },
  {
   "cell_type": "code",
   "execution_count": 238,
   "id": "924d00a4-6ab2-4cbc-9d20-bca4b8d1d73b",
   "metadata": {},
   "outputs": [
    {
     "name": "stdout",
     "output_type": "stream",
     "text": [
      "[('key1', 'value1'), ('key2', 'value2'), ('key3', 'value3')]\n"
     ]
    }
   ],
   "source": [
    "keys = (\"key1\", \"key2\", \"key3\")\n",
    "values = (\"value1\", \"value2\", \"value3\")\n",
    "sam_list = []\n",
    "for index in range(len(keys)):\n",
    "    sam_list.append((keys[index], values[index]))\n",
    "print(sam_list)"
   ]
  },
  {
   "cell_type": "code",
   "execution_count": 160,
   "id": "73cfc1d8-b470-467d-93a8-477ff7ce80bd",
   "metadata": {},
   "outputs": [
    {
     "data": {
      "text/plain": [
       "4"
      ]
     },
     "execution_count": 160,
     "metadata": {},
     "output_type": "execute_result"
    }
   ],
   "source": [
    "len(dict_b)"
   ]
  },
  {
   "cell_type": "code",
   "execution_count": 167,
   "id": "fed87981-9eb1-410c-a817-92d6163ad182",
   "metadata": {},
   "outputs": [
    {
     "name": "stdin",
     "output_type": "stream",
     "text": [
      "과일 이름을 입력하세요. 파인애플\n"
     ]
    },
    {
     "name": "stdout",
     "output_type": "stream",
     "text": [
      "파인애플의 가격은 700원 입니다.\n"
     ]
    }
   ],
   "source": [
    "fruit_and_price = dict(zip(['사과', '바나나', '오렌지', '파인애플'], [1000, 1500, 2000, 700]))\n",
    "\n",
    "fruit = input(\"과일 이름을 입력하세요.\")\n",
    "\n",
    "print(f\"{fruit}의 가격은 {fruit_and_price[fruit]}원 입니다.\")\n",
    "                            \n",
    "\n",
    "\n"
   ]
  },
  {
   "cell_type": "code",
   "execution_count": 172,
   "id": "8035e6ba-bcab-461f-87cd-0d06621b3546",
   "metadata": {},
   "outputs": [
    {
     "name": "stdout",
     "output_type": "stream",
     "text": [
      "{'사과': 1000, '파인애플': 2000}\n"
     ]
    },
    {
     "name": "stdin",
     "output_type": "stream",
     "text": [
      "과일 이름을 입력하세요. 파인애플\n"
     ]
    },
    {
     "name": "stdout",
     "output_type": "stream",
     "text": [
      "파인애플의 가격은2000\n"
     ]
    }
   ],
   "source": [
    "fruit_and_price ={'사과': 1000, '파인애플': 2000}\n",
    "print(fruit_and_price)\n",
    "\n",
    "fruit = input(\"과일 이름을 입력하세요.\")\n",
    "\n",
    "print(f\"{fruit}의 가격은{fruit_and_price[fruit]}\")"
   ]
  },
  {
   "cell_type": "code",
   "execution_count": 180,
   "id": "2a747d84-4457-42bf-bfe7-06de4aa0642b",
   "metadata": {},
   "outputs": [
    {
     "name": "stdout",
     "output_type": "stream",
     "text": [
      "{123: 12323, 23: 323, 3: 333, 45: 4, 545: 554}\n"
     ]
    },
    {
     "data": {
      "text/plain": [
       "[10, 20, 30, 40, 50]"
      ]
     },
     "execution_count": 180,
     "metadata": {},
     "output_type": "execute_result"
    }
   ],
   "source": [
    "dic = dict(zip([123, 23, 3, 45, 545], [12323, 323, 333, 4, 554]))\n",
    "\n",
    "print(dic)\n",
    "\n",
    "a = [1, 2, 3, 4, 5]\n",
    "\n",
    "list(map(lambda v:v*10, a))\n"
   ]
  },
  {
   "cell_type": "code",
   "execution_count": 183,
   "id": "a125c70b-0967-4594-9e0f-0ef96aed2bae",
   "metadata": {},
   "outputs": [
    {
     "name": "stdout",
     "output_type": "stream",
     "text": [
      "1*1=1\n",
      "1*2=2\n",
      "1*3=3\n",
      "1*4=4\n",
      "1*5=5\n",
      "1*6=6\n",
      "1*7=7\n",
      "1*8=8\n",
      "1*9=9\n",
      "2*1=2\n",
      "2*2=4\n",
      "2*3=6\n",
      "2*4=8\n",
      "2*5=10\n",
      "2*6=12\n",
      "2*7=14\n",
      "2*8=16\n",
      "2*9=18\n"
     ]
    }
   ],
   "source": [
    "def multy(x):\n",
    "    for i in range(1, 10):\n",
    "        print(f\"{x}*{i}={x * i}\")\n",
    "multy(1)\n",
    "multy(2)\n",
    "    "
   ]
  },
  {
   "cell_type": "code",
   "execution_count": null,
   "id": "80ad13f5-06d5-4b68-a6c1-871fb3cf2730",
   "metadata": {},
   "outputs": [
    {
     "name": "stdin",
     "output_type": "stream",
     "text": [
      "이름을 기입해주세요. 뽀로로 루피 크롱 스누피\n",
      "몸무게를 입력해주세요. 20.4 16.2 22.3 5.2\n"
     ]
    },
    {
     "name": "stdout",
     "output_type": "stream",
     "text": [
      "{'뽀로로': '20.4', '루피': '16.2', '크롱': '22.3', '스누피': '5.2'}\n"
     ]
    }
   ],
   "source": [
    "name = input(\"이름을 기입해주세요.\")\n",
    "weight = input(\"몸무게를 입력해주세요.\")\n",
    "\n",
    "new_name = list(name.split(\" \"))\n",
    "new_weight = list(weight.split(\" \"))\n",
    "\n",
    "dic = dict(zip([new_name[0], new_name[1], new_name[2], new_name[3]], [new_weight[0], new_weight[1], new_weight[2], new_weight[3]]))\n",
    "\n",
    "print(dic)"
   ]
  },
  {
   "cell_type": "code",
   "execution_count": 245,
   "id": "2ea87ffe-3f4a-4078-a0d0-327d1c1836db",
   "metadata": {},
   "outputs": [
    {
     "name": "stdin",
     "output_type": "stream",
     "text": [
      "이름을 기입해주세요 123 123 123 123\n",
      "몸무게를 입력해주세요. 123 123 123 123\n"
     ]
    },
    {
     "name": "stdout",
     "output_type": "stream",
     "text": [
      "{'123': 123.0}\n"
     ]
    }
   ],
   "source": [
    "name = list(map(str, input(\"이름을 기입해주세요\").split(\" \")))\n",
    "weight = list(map(float, input(\"몸무게를 입력해주세요.\").split(\" \")))\n",
    "\n",
    "dic = dict(zip(name, weight))\n",
    "print(dic)\n"
   ]
  },
  {
   "cell_type": "code",
   "execution_count": 234,
   "id": "a976dc1b-4942-4786-8340-bb22e73a9be9",
   "metadata": {},
   "outputs": [
    {
     "name": "stdin",
     "output_type": "stream",
     "text": [
      "이름을 기입해주세요 \n"
     ]
    },
    {
     "name": "stdout",
     "output_type": "stream",
     "text": [
      "['']\n"
     ]
    }
   ],
   "source": [
    "name = list(map(str, input(\"이름을 기입해주세요\").split(\" \")))\n",
    "\n",
    "print(name)\n",
    "\n"
   ]
  },
  {
   "cell_type": "code",
   "execution_count": 246,
   "id": "daaeb94c-b9b0-426e-92ce-c6ed69479d93",
   "metadata": {},
   "outputs": [],
   "source": [
    "# 딕셔너리 자료형은 비 시퀀스 자료형(순서가 없음, 인덱스를 붙일 수 x)\n",
    "# 이 자료형은 고유한 키()key)값을 갖습니다. 이 키(key)는 1 대 1로 매칭되는 값(value)룰 갖음.\n",
    "# 이를 key-value pair라고 하며 딕셔너리 자료형의 특징입니다.\n",
    "# key value => key-value pair"
   ]
  },
  {
   "cell_type": "code",
   "execution_count": null,
   "id": "661f4eb6-f69d-4aa5-95e0-e440c0710c20",
   "metadata": {},
   "outputs": [],
   "source": []
  },
  {
   "cell_type": "code",
   "execution_count": 248,
   "id": "d02437aa-f340-46f4-b978-471108acc061",
   "metadata": {},
   "outputs": [
    {
     "ename": "SyntaxError",
     "evalue": "unexpected EOF while parsing (922396806.py, line 6)",
     "output_type": "error",
     "traceback": [
      "\u001b[1;36m  File \u001b[1;32m\"C:\\Users\\jungh\\AppData\\Local\\Temp\\ipykernel_9596\\922396806.py\"\u001b[1;36m, line \u001b[1;32m6\u001b[0m\n\u001b[1;33m    prac_result = list(map(int, range(1\u001b[0m\n\u001b[1;37m                                       ^\u001b[0m\n\u001b[1;31mSyntaxError\u001b[0m\u001b[1;31m:\u001b[0m unexpected EOF while parsing\n"
     ]
    }
   ],
   "source": [
    "# 리스트 생성 방법 - 대괄호 사용\n",
    "# 리스트는 기본적으로 대괄호([])를 활용합니다. 대괄호 안에는 리스트를 구성할 요소를\n",
    "# 작성하는데 콤마로 구분하여 요소 여럿을 작성할 수 있었습니다.\n",
    "# 리스트의 자료형은 class 'list' 입니다. list 클래스로 만들어진 객체라는의미입니다.\n"
   ]
  },
  {
   "cell_type": "code",
   "execution_count": 252,
   "id": "49fd695d-81c6-4085-88f8-d73d5140f6fc",
   "metadata": {},
   "outputs": [
    {
     "name": "stdout",
     "output_type": "stream",
     "text": [
      "<class 'list'>\n",
      "[1, 4, 9, 16, 25, 36, 49, 64, 81]\n"
     ]
    }
   ],
   "source": [
    "prac_result = []\n",
    "for n in range(1, 10):\n",
    "    prac_result.append(n*n)\n",
    "print(type(prac_result))\n",
    "print(prac_result)"
   ]
  },
  {
   "cell_type": "code",
   "execution_count": 257,
   "id": "b9d0bb16-ba95-48b7-940a-26c8e575ec74",
   "metadata": {},
   "outputs": [
    {
     "name": "stdout",
     "output_type": "stream",
     "text": [
      "<class 'list'>\n",
      "[1, 4, 9, 16, 25, 36, 49, 64, 81]\n"
     ]
    }
   ],
   "source": [
    "prac_result = [x ** 2 for x in range(1,10)]\n",
    "\n",
    "print(type(prac_result))\n",
    "print(prac_result)"
   ]
  },
  {
   "cell_type": "code",
   "execution_count": 266,
   "id": "144eae71-0bdf-48d0-a405-e9bc721d62d6",
   "metadata": {},
   "outputs": [
    {
     "name": "stdout",
     "output_type": "stream",
     "text": [
      "[0, 2, 4, 6, 8]\n"
     ]
    }
   ],
   "source": [
    "prac_result = [n for n in range(10) if n % 2 == 0]\n",
    "\n",
    "print(prac_result)"
   ]
  },
  {
   "cell_type": "code",
   "execution_count": 352,
   "id": "d21de0ed-ef48-43f7-a35c-260e1372855c",
   "metadata": {},
   "outputs": [
    {
     "name": "stdout",
     "output_type": "stream",
     "text": [
      "[('쌈밥', '레몬'), ('쌈밥', '아이스크림'), ('쌈밥', '커피'), ('치킨', '레몬'), ('치킨', '아이스크림'), ('치킨', '커피'), ('족발', '레몬'), ('족발', '아이스크림'), ('족발', '커피')]\n"
     ]
    }
   ],
   "source": [
    "food = [(x, y) for x in [\"쌈밥\", '치킨', '족발'] for y in ['레몬', '아이스크림', '커피']]\n",
    "print(food)"
   ]
  },
  {
   "cell_type": "code",
   "execution_count": 351,
   "id": "81911079-27ba-4ff1-aa9a-3008fbd480cc",
   "metadata": {},
   "outputs": [
    {
     "name": "stdout",
     "output_type": "stream",
     "text": [
      "[1, 3, 5, 7, 9]\n"
     ]
    }
   ],
   "source": [
    "prac_result2 = [x for x in range(1, 10, 2) if x % 2 == 1]\n",
    "print(prac_result2)"
   ]
  },
  {
   "cell_type": "code",
   "execution_count": 291,
   "id": "96fa22d0-9178-451a-ba72-2b26792b478d",
   "metadata": {},
   "outputs": [
    {
     "name": "stdout",
     "output_type": "stream",
     "text": [
      "[8, 16, 24, 32, 40, 48, 56, 64, 72]\n"
     ]
    }
   ],
   "source": [
    "prac = [(8 * y) for x in range(1) for y in range(1, 10)]\n",
    "print(prac)"
   ]
  },
  {
   "cell_type": "code",
   "execution_count": 313,
   "id": "1db4dff4-4bed-42d1-a729-ba390a28e143",
   "metadata": {},
   "outputs": [
    {
     "name": "stdout",
     "output_type": "stream",
     "text": [
      "['a', 'b', 'c', 'd', 'e', 'f', 'g']\n"
     ]
    }
   ],
   "source": [
    "prac_ = [i for i in 'abcdefg']\n",
    "print(prac_)"
   ]
  },
  {
   "cell_type": "code",
   "execution_count": 478,
   "id": "501a3e02-b1fe-4fba-8e9a-5019635bf541",
   "metadata": {},
   "outputs": [
    {
     "name": "stdout",
     "output_type": "stream",
     "text": [
      "[['2', '3', '4', '5', '6', '7', '8', '9', '10', 'J', 'Q', 'K', 'A']]\n"
     ]
    }
   ],
   "source": [
    "prac_result4 = [[str(x) for x in range(2,11)] + [i for i in \"JQKA\"]]\n",
    "print(prac_result4)"
   ]
  },
  {
   "cell_type": "code",
   "execution_count": 486,
   "id": "8afb7f5a-b790-42d0-9514-615e3ddfae3c",
   "metadata": {},
   "outputs": [
    {
     "name": "stdout",
     "output_type": "stream",
     "text": [
      "[['two'], ['two'], ['two'], ['two']]\n",
      "4\n"
     ]
    }
   ],
   "source": [
    "prac_result5 = [prac_result4 for _ in range(4)]\n",
    "print(prac_result5)\n",
    "print(len(prac_result5))"
   ]
  },
  {
   "cell_type": "code",
   "execution_count": 485,
   "id": "18ab601d-afef-4a86-bef8-083608f7b8fe",
   "metadata": {},
   "outputs": [],
   "source": [
    "prac_result4[0]='two'"
   ]
  },
  {
   "cell_type": "code",
   "execution_count": null,
   "id": "bfa608c7-00e3-4713-beee-f29e5877704a",
   "metadata": {},
   "outputs": [],
   "source": []
  },
  {
   "cell_type": "code",
   "execution_count": 423,
   "id": "e138c32e-2cea-4787-9cd0-4586c89a7b6e",
   "metadata": {},
   "outputs": [
    {
     "name": "stdout",
     "output_type": "stream",
     "text": [
      "prac_result4의 if: 2612855941248\n"
     ]
    }
   ],
   "source": [
    "print(\"prac_result4의 if:\", id(prac_result4))"
   ]
  },
  {
   "cell_type": "code",
   "execution_count": null,
   "id": "40b72f28-e427-4e15-abca-73c2db1ec2e9",
   "metadata": {},
   "outputs": [],
   "source": [
    "prac_result6 = [prac_result4[:] for"
   ]
  },
  {
   "cell_type": "code",
   "execution_count": 424,
   "id": "be482bb9-6603-4985-97ce-d59efd999c38",
   "metadata": {},
   "outputs": [],
   "source": [
    "# 리스트 전체 범위 slicing을통한 리스트 복사\n",
    "# 리스트 객체를 slicing을 통해 리스트 전체 범위를 반환받았을 때 그 리스트는 원래의\n",
    "# 리스트와 같은 객체일까요?\n",
    "# 아닙니다. 리스트의 슬라이싱의 결과는 새로운 객체를 복사한 결과를 반환합니다.\n",
    "# 리스트변수[:] => 새로은 객체를 만들어 반환한다."
   ]
  },
  {
   "cell_type": "code",
   "execution_count": 491,
   "id": "3c333b08-9a07-4624-a701-c64dadb7a8e7",
   "metadata": {},
   "outputs": [
    {
     "name": "stdout",
     "output_type": "stream",
     "text": [
      "2612854180608\n",
      "2612852804672\n",
      "False\n",
      "True\n"
     ]
    }
   ],
   "source": [
    "# [1, 2, 3, 4, 5, 6, 7, 8, 9]\n",
    "# type(variable) is int\n",
    "old_list = list(range(10))\n",
    "new_list = old_list[:]\n",
    "\n",
    "print(id(old_list))\n",
    "print(id(new_list))\n",
    "print(old_list is new_list)\n",
    "print(old_list == new_list)\n"
   ]
  },
  {
   "cell_type": "code",
   "execution_count": 502,
   "id": "19caadbe-1e6e-46ab-a3c5-6ea77d3dfa89",
   "metadata": {},
   "outputs": [
    {
     "name": "stdout",
     "output_type": "stream",
     "text": [
      "2612853693504\n",
      "2612853693504\n",
      "True\n",
      "True\n"
     ]
    }
   ],
   "source": [
    "# 문자열, 튜플의 경우에는 불변(immutable)의 특징을 갖습니다. 따라서 요소가 동일하다면\n",
    "# 재사용해도 문제 될 것이 없다. 그래서 효율을 위해 동일하게 복사 하기도 함.\n",
    "old_list = tuple(range(10))\n",
    "new_list = old_list[:]\n",
    "\n",
    "print(id(old_list))\n",
    "print(id(new_list))\n",
    "print(old_list is new_list)\n",
    "print(old_list == new_list)\n"
   ]
  },
  {
   "cell_type": "code",
   "execution_count": 496,
   "id": "bbc9c230-6b3f-4f09-aceb-47766ab43e21",
   "metadata": {},
   "outputs": [
    {
     "name": "stdout",
     "output_type": "stream",
     "text": [
      "[0, 1, 8, 27, 64, 125, 216, 343, 512, 729]\n"
     ]
    }
   ],
   "source": [
    "## 리스트 컴프리헨션\n",
    "\n",
    "# 리스트 컴프리헨션의 다른 방식입니다. 대괄호([]) 대신 list() 함수를 사용하고 있다.\n",
    "#동작 순서는 대괄호([])방식과 동일\n",
    "\n",
    "list_d = list(i**3 for i in range(10))\n",
    "print(list_d)"
   ]
  },
  {
   "cell_type": "code",
   "execution_count": null,
   "id": "c0c4795a-8fae-4428-ad39-588c2783c6a3",
   "metadata": {},
   "outputs": [],
   "source": [
    "# 리스트 객체를 담고 있는 변수는 메모리 주소 정보를 담고 있다.\n",
    "# 그리고 그 변수를 다르 ㄴ변수에 대입하면 메모리 주소 정볼를 복사한다.\n",
    "# 즉 그 두 변수는 동일한 객체를 바라보게 된다\n",
    "\n",
    "\n",
    "# 리스트 변수를 다른 변수에 할당해서 복사한 경우에 객체가 아예 같다고 나오는 것을 확인 가능\n"
   ]
  },
  {
   "cell_type": "code",
   "execution_count": 501,
   "id": "96391ee8-be56-49e6-abb3-cb1545ae0d75",
   "metadata": {},
   "outputs": [
    {
     "name": "stdout",
     "output_type": "stream",
     "text": [
      "2612858563904\n",
      "2612859759424\n",
      "False\n",
      "True\n",
      "[999, 1, 2, 3, 4, 5, 6, 7, 8, 9]\n",
      "[999, 1, 2, 3, 4, 5, 6, 7, 8, 9]\n",
      "[0, 1, 2, 3, 4, 5, 6, 7, 8, 9]\n"
     ]
    }
   ],
   "source": [
    "# 리스트.copy()메서드는 리스트 객체를 새롭게 복사한다. 이 반환 값은 새로운 객체가 된다.\n",
    "\n",
    "list_g = list(range(10))\n",
    "list_a = list_g\n",
    "list_h = list_g.copy()\n",
    "print(id(list_g))\n",
    "print(id(list_h))\n",
    "print(list_g is list_h)\n",
    "print(list_g is list_a)\n",
    "\n",
    "list_g[0] = 999\n",
    "print(list_a)\n",
    "print(list_g)\n",
    "print(list_h)"
   ]
  },
  {
   "cell_type": "code",
   "execution_count": 526,
   "id": "b508e196-0b38-400c-bf73-7f854d2761f1",
   "metadata": {},
   "outputs": [
    {
     "name": "stdout",
     "output_type": "stream",
     "text": [
      "[[0], [0], [0]]\n",
      "[[999], [999], [999]]\n"
     ]
    }
   ],
   "source": [
    "list_i = [[0]] * 3\n",
    "print(list_i)\n",
    "list_i[0][0] = 999\n",
    "print(list_i)"
   ]
  },
  {
   "cell_type": "code",
   "execution_count": 530,
   "id": "228e584b-0193-4a4b-b6c8-ec1e6f8f9cdc",
   "metadata": {},
   "outputs": [
    {
     "name": "stdout",
     "output_type": "stream",
     "text": [
      "False\n",
      "[[9, 999], [11, 12]]\n",
      "[[9, 10], [11, 12]]\n"
     ]
    }
   ],
   "source": [
    "## 깊은 복사(Deep copy)\n",
    "# 리스트 내 요소가 메모리 주소를 담고있는 객체더라도 객체를 완전하게 깊이에 상관없이 다\n",
    "# 새롭게 복사해 만듭니다. 전혀 다른 메모리 공간을 차지하는 완전한 리스트로 복사.\n",
    "# 두 리스트 간에 값은 같으나(==) 객체는 완전히 다릅니다.\n",
    "\n",
    "import copy\n",
    "list_n = [[9, 10], [11, 12]]\n",
    "list_p = copy.deepcopy(list_n)\n",
    "print(list_n[0] is list_p[0])\n",
    "\n",
    "list_n[0][1] = 999\n",
    "print(list_n)\n",
    "print(list_p)"
   ]
  },
  {
   "cell_type": "code",
   "execution_count": null,
   "id": "53c99a02-8f30-4750-95ed-a5d53db743c5",
   "metadata": {},
   "outputs": [],
   "source": []
  }
 ],
 "metadata": {
  "kernelspec": {
   "display_name": "Python 3 (ipykernel)",
   "language": "python",
   "name": "python3"
  },
  "language_info": {
   "codemirror_mode": {
    "name": "ipython",
    "version": 3
   },
   "file_extension": ".py",
   "mimetype": "text/x-python",
   "name": "python",
   "nbconvert_exporter": "python",
   "pygments_lexer": "ipython3",
   "version": "3.9.13"
  }
 },
 "nbformat": 4,
 "nbformat_minor": 5
}
