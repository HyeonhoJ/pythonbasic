{
 "cells": [
  {
   "cell_type": "code",
   "execution_count": 4,
   "id": "5ebba003-667f-4c5a-935e-92abc9ad3942",
   "metadata": {},
   "outputs": [
    {
     "name": "stdout",
     "output_type": "stream",
     "text": [
      "{'key': 'value'}\n"
     ]
    }
   ],
   "source": [
    "dic_var = {\"key\": \"value\"}\n",
    "\n",
    "print(dic_var)"
   ]
  },
  {
   "cell_type": "code",
   "execution_count": 9,
   "id": "a9bb1d73-c1a8-49bb-a5ef-cb23f1835ff3",
   "metadata": {},
   "outputs": [
    {
     "data": {
      "text/plain": [
       "True"
      ]
     },
     "execution_count": 9,
     "metadata": {},
     "output_type": "execute_result"
    }
   ],
   "source": [
    "True == 1\n",
    "\n",
    "False == 0\n"
   ]
  },
  {
   "cell_type": "code",
   "execution_count": 20,
   "id": "5242bac9-3031-4fa2-996a-6022f75b8356",
   "metadata": {},
   "outputs": [
    {
     "name": "stdout",
     "output_type": "stream",
     "text": [
      "[[0], [0], [0]]\n"
     ]
    }
   ],
   "source": [
    "\n",
    "\n",
    "row = [0]\n",
    "\n",
    "a = []\n",
    "\n",
    "for i in range(3):\n",
    "\n",
    "    a.append(row)\n",
    "    \n",
    "print(a)"
   ]
  },
  {
   "cell_type": "code",
   "execution_count": 18,
   "id": "e01924d5-a6c0-4cf9-824b-f1d5365615b7",
   "metadata": {},
   "outputs": [
    {
     "name": "stdout",
     "output_type": "stream",
     "text": [
      "2582317652352\n",
      "2582317652352\n",
      "2582317652352\n"
     ]
    }
   ],
   "source": [
    "print(id(a[0]))\n",
    "print(id(a[1]))\n",
    "print(id(a[2]))"
   ]
  },
  {
   "cell_type": "code",
   "execution_count": 21,
   "id": "30934c67-1928-4bee-ab57-914b123766f5",
   "metadata": {},
   "outputs": [
    {
     "name": "stdout",
     "output_type": "stream",
     "text": [
      "2582318690368\n",
      "2582317642688\n",
      "2582318748032\n",
      "[[0], [0], [0]]\n"
     ]
    }
   ],
   "source": [
    "a = []\n",
    "\n",
    "for i in range(3):\n",
    "    row = [0]\n",
    "\n",
    "    a.append(row)\n",
    "\n",
    "\n",
    "print(id(a[0]))\n",
    "print(id(a[1]))\n",
    "print(id(a[2]))\n",
    "print(a)"
   ]
  },
  {
   "cell_type": "code",
   "execution_count": 27,
   "id": "ce283667-82a4-4d30-89cd-2dfd8b9c8858",
   "metadata": {},
   "outputs": [
    {
     "name": "stdout",
     "output_type": "stream",
     "text": [
      "[[9, 10], [11, 12]]\n",
      "[[100, 10], [11, 12]]\n",
      "False\n"
     ]
    }
   ],
   "source": [
    "import copy\n",
    "\n",
    "list_n = [[9, 10], [11, 12]]\n",
    "list_o = copy.deepcopy(list_n)\n",
    "list_o[0][0] = 100\n",
    "print(list_n)\n",
    "print(list_o)\n",
    "\n",
    "\n",
    "print(list_n is list_o)\n"
   ]
  },
  {
   "cell_type": "code",
   "execution_count": 55,
   "id": "a5f73d17-f38b-4e01-bbde-33bddf9d9bd9",
   "metadata": {},
   "outputs": [
    {
     "name": "stdout",
     "output_type": "stream",
     "text": [
      "[1, 2, (3, 4)]\n",
      "2582329961280\n",
      "2582329961280\n"
     ]
    }
   ],
   "source": [
    "l1 = [1, 2, (3, 4)]\n",
    "l2 = copy.deepcopy(l1)\n",
    "print(l2)\n",
    "\n",
    "l2[0] = 3\n",
    "print(id(l1[2]))\n",
    "print(id(l2[2]))\n"
   ]
  },
  {
   "cell_type": "code",
   "execution_count": null,
   "id": "1f063ff4-4cee-4641-a314-b95a5112e160",
   "metadata": {},
   "outputs": [],
   "source": []
  },
  {
   "cell_type": "code",
   "execution_count": null,
   "id": "b5062bc6-bc6a-4a5d-b6e0-ad796fce8f84",
   "metadata": {},
   "outputs": [],
   "source": [
    "# 중첩 리스트\n",
    "\n",
    "easy_list = [[1, 2, 3, 4, 5,], [3, 4]]\n",
    "for item in easy_list:\n",
    "    for i in item:\n",
    "        print(i)"
   ]
  },
  {
   "cell_type": "code",
   "execution_count": 92,
   "id": "06919c44-fb78-4d9b-98d5-a965948e2e79",
   "metadata": {},
   "outputs": [
    {
     "name": "stdout",
     "output_type": "stream",
     "text": [
      "1\n",
      "2\n",
      "3\n",
      "4\n",
      "5\n",
      "3\n",
      "4\n"
     ]
    }
   ],
   "source": [
    "i= 0\n",
    "while i < len(easy_list):\n",
    "    j = 0  # easy_list[0[, easy_list[1] 인덱스용\n",
    "    while j < len(easy_list[i]):\n",
    "        print(easy_list[i][j])\n",
    "        j += 1\n",
    "    i += 1"
   ]
  },
  {
   "cell_type": "code",
   "execution_count": 99,
   "id": "6a971b97-c904-4058-970a-700f6fcb497a",
   "metadata": {},
   "outputs": [
    {
     "data": {
      "text/plain": [
       "generator"
      ]
     },
     "execution_count": 99,
     "metadata": {},
     "output_type": "execute_result"
    }
   ],
   "source": [
    "# 제너레이터컴프리핸션\n",
    "\n",
    "\n",
    "gen = (i for i in range(10))\n",
    "type(gen)"
   ]
  },
  {
   "cell_type": "code",
   "execution_count": 101,
   "id": "3f9d938e-f710-488b-9b6d-978585b40b0d",
   "metadata": {},
   "outputs": [
    {
     "name": "stdout",
     "output_type": "stream",
     "text": [
      "()\n",
      "[0, 1, 2, 3, 4, 5, 6, 7, 8, 9]\n"
     ]
    }
   ],
   "source": [
    "print(tuple(gen))\n",
    "\n",
    "lis = list(i for i in range(10))\n",
    "print(lis)"
   ]
  },
  {
   "cell_type": "code",
   "execution_count": 5,
   "id": "d0971085-0459-4383-b0ab-3309e8ba25c0",
   "metadata": {},
   "outputs": [
    {
     "name": "stdout",
     "output_type": "stream",
     "text": [
      "['alpha', 'bravo', 'delta', 'hotel', 'india']\n"
     ]
    }
   ],
   "source": [
    "a = ['alpha', 'bravo', 'charlie', 'delta', 'echo', 'foxtrot', 'golf', 'hotel', 'india']\n",
    "b = [x for x in a if len(x) == 5]\n",
    "print(b)"
   ]
  },
  {
   "cell_type": "code",
   "execution_count": null,
   "id": "f64bf6d7-4064-4c06-be8b-18bbad237aee",
   "metadata": {},
   "outputs": [],
   "source": [
    "num = list(map(int, input(\"정수 두 개 입력하세요:\").split(\" \")))\n",
    "i = 2\n",
    "while 2 == len(num):\n",
    "    if 0 <num[0] < 21:\n",
    "        continue\n",
    "    else:\n",
    "        print('첫번쨰 값의 범위는 1 ~ 20입니다.')\n",
    "    if 9 < num[1] < 31:\n",
    "        continue\n",
    "    else:\n",
    "        print(\"두번째 값의 범위는 10 ~ 30 입니다.\")\n",
    "    if num[0] > num[1]:\n",
    "        print(\"첫 번째 입력 값은 두 번째 입력 값보다 작게 입력하세요.\")\n",
    "    \n",
    "            \n",
    "        "
   ]
  },
  {
   "cell_type": "code",
   "execution_count": null,
   "id": "bd0b5199-152f-4258-b5d2-4a2292b539c6",
   "metadata": {},
   "outputs": [],
   "source": []
  },
  {
   "cell_type": "code",
   "execution_count": null,
   "id": "96b67026-3564-44ea-a3b5-bc77213801b3",
   "metadata": {},
   "outputs": [],
   "source": []
  },
  {
   "cell_type": "code",
   "execution_count": null,
   "id": "8df8b1ac-3dda-482e-a435-71a908828767",
   "metadata": {},
   "outputs": [],
   "source": []
  },
  {
   "cell_type": "code",
   "execution_count": null,
   "id": "5cf8ec5b-d376-41c4-aab2-e7a96a3b188a",
   "metadata": {},
   "outputs": [],
   "source": [
    "num = list(map(int, input(\"정수 두 개 입력하세요:\").split(\" \")))\n",
    "while True:\n",
    "    if num[0] > num[1]:\n",
    "        print(\"첫번째 입력 값은 두 번쨰 입력 값보다 작게 입력하세요.\")\n",
    "    elif not 0 < num[0] < 21:\n",
    "        print(\"첫번쨰 값의 범위는 1 ~ 20 입니다.\")\n",
    "    elif not 9 < num[1] < 31:\n",
    "        print(\"두번쨰 값의 범위는 10 ~ 30 입니다.\")\n",
    "    break\n",
    "answer = [2 ** x for x in range(num[0], num[1] + 1)]\n",
    "\n",
    "print(answer)\n",
    "        "
   ]
  },
  {
   "cell_type": "markdown",
   "id": "b05f48ea-7ca0-4c59-89e7-a06d8c0b3ed0",
   "metadata": {},
   "source": []
  },
  {
   "cell_type": "code",
   "execution_count": 9,
   "id": "18af6abd-8532-4d20-9138-3879b3fecdd6",
   "metadata": {},
   "outputs": [
    {
     "name": "stdin",
     "output_type": "stream",
     "text": [
      "정수 두 개 입력하세요:  20 10\n"
     ]
    },
    {
     "name": "stdout",
     "output_type": "stream",
     "text": [
      "첫번째 입력 값은 두 번쨰 입력 값보다 작게 입력하세요.\n"
     ]
    },
    {
     "name": "stdin",
     "output_type": "stream",
     "text": [
      "정수 두 개 입력하세요:  30 40\n"
     ]
    },
    {
     "name": "stdout",
     "output_type": "stream",
     "text": [
      "첫번쨰 값의 범위는 1 ~ 20 입니다.\n"
     ]
    },
    {
     "ename": "KeyboardInterrupt",
     "evalue": "Interrupted by user",
     "output_type": "error",
     "traceback": [
      "\u001b[1;31m---------------------------------------------------------------------------\u001b[0m",
      "\u001b[1;31mKeyboardInterrupt\u001b[0m                         Traceback (most recent call last)",
      "\u001b[1;32m~\\AppData\\Local\\Temp\\ipykernel_9996\\4049713495.py\u001b[0m in \u001b[0;36m<module>\u001b[1;34m\u001b[0m\n\u001b[0;32m      1\u001b[0m \u001b[1;32mwhile\u001b[0m \u001b[1;32mTrue\u001b[0m\u001b[1;33m:\u001b[0m\u001b[1;33m\u001b[0m\u001b[1;33m\u001b[0m\u001b[0m\n\u001b[1;32m----> 2\u001b[1;33m     \u001b[0mnum_1\u001b[0m\u001b[1;33m,\u001b[0m \u001b[0mnum_2\u001b[0m \u001b[1;33m=\u001b[0m \u001b[0mmap\u001b[0m\u001b[1;33m(\u001b[0m\u001b[0mint\u001b[0m\u001b[1;33m,\u001b[0m \u001b[0minput\u001b[0m\u001b[1;33m(\u001b[0m\u001b[1;34m\"정수 두 개 입력하세요: \"\u001b[0m\u001b[1;33m)\u001b[0m \u001b[1;33m.\u001b[0m\u001b[0msplit\u001b[0m\u001b[1;33m(\u001b[0m\u001b[1;33m)\u001b[0m\u001b[1;33m)\u001b[0m\u001b[1;33m\u001b[0m\u001b[1;33m\u001b[0m\u001b[0m\n\u001b[0m\u001b[0;32m      3\u001b[0m \u001b[1;33m\u001b[0m\u001b[0m\n\u001b[0;32m      4\u001b[0m     \u001b[1;32mif\u001b[0m \u001b[0mnum_1\u001b[0m \u001b[1;33m<\u001b[0m \u001b[1;36m1\u001b[0m \u001b[1;32mor\u001b[0m \u001b[0mnum_1\u001b[0m \u001b[1;33m>\u001b[0m \u001b[1;36m20\u001b[0m\u001b[1;33m:\u001b[0m\u001b[1;33m\u001b[0m\u001b[1;33m\u001b[0m\u001b[0m\n\u001b[0;32m      5\u001b[0m         \u001b[0mprint\u001b[0m\u001b[1;33m(\u001b[0m\u001b[1;34m\"첫번쨰 값의 범위는 1 ~ 20 입니다.\"\u001b[0m\u001b[1;33m)\u001b[0m\u001b[1;33m\u001b[0m\u001b[1;33m\u001b[0m\u001b[0m\n",
      "\u001b[1;32m~\\anaconda3\\lib\\site-packages\\ipykernel\\kernelbase.py\u001b[0m in \u001b[0;36mraw_input\u001b[1;34m(self, prompt)\u001b[0m\n\u001b[0;32m   1175\u001b[0m                 \u001b[1;34m\"raw_input was called, but this frontend does not support input requests.\"\u001b[0m\u001b[1;33m\u001b[0m\u001b[1;33m\u001b[0m\u001b[0m\n\u001b[0;32m   1176\u001b[0m             )\n\u001b[1;32m-> 1177\u001b[1;33m         return self._input_request(\n\u001b[0m\u001b[0;32m   1178\u001b[0m             \u001b[0mstr\u001b[0m\u001b[1;33m(\u001b[0m\u001b[0mprompt\u001b[0m\u001b[1;33m)\u001b[0m\u001b[1;33m,\u001b[0m\u001b[1;33m\u001b[0m\u001b[1;33m\u001b[0m\u001b[0m\n\u001b[0;32m   1179\u001b[0m             \u001b[0mself\u001b[0m\u001b[1;33m.\u001b[0m\u001b[0m_parent_ident\u001b[0m\u001b[1;33m[\u001b[0m\u001b[1;34m\"shell\"\u001b[0m\u001b[1;33m]\u001b[0m\u001b[1;33m,\u001b[0m\u001b[1;33m\u001b[0m\u001b[1;33m\u001b[0m\u001b[0m\n",
      "\u001b[1;32m~\\anaconda3\\lib\\site-packages\\ipykernel\\kernelbase.py\u001b[0m in \u001b[0;36m_input_request\u001b[1;34m(self, prompt, ident, parent, password)\u001b[0m\n\u001b[0;32m   1217\u001b[0m             \u001b[1;32mexcept\u001b[0m \u001b[0mKeyboardInterrupt\u001b[0m\u001b[1;33m:\u001b[0m\u001b[1;33m\u001b[0m\u001b[1;33m\u001b[0m\u001b[0m\n\u001b[0;32m   1218\u001b[0m                 \u001b[1;31m# re-raise KeyboardInterrupt, to truncate traceback\u001b[0m\u001b[1;33m\u001b[0m\u001b[1;33m\u001b[0m\u001b[0m\n\u001b[1;32m-> 1219\u001b[1;33m                 \u001b[1;32mraise\u001b[0m \u001b[0mKeyboardInterrupt\u001b[0m\u001b[1;33m(\u001b[0m\u001b[1;34m\"Interrupted by user\"\u001b[0m\u001b[1;33m)\u001b[0m \u001b[1;32mfrom\u001b[0m \u001b[1;32mNone\u001b[0m\u001b[1;33m\u001b[0m\u001b[1;33m\u001b[0m\u001b[0m\n\u001b[0m\u001b[0;32m   1220\u001b[0m             \u001b[1;32mexcept\u001b[0m \u001b[0mException\u001b[0m\u001b[1;33m:\u001b[0m\u001b[1;33m\u001b[0m\u001b[1;33m\u001b[0m\u001b[0m\n\u001b[0;32m   1221\u001b[0m                 \u001b[0mself\u001b[0m\u001b[1;33m.\u001b[0m\u001b[0mlog\u001b[0m\u001b[1;33m.\u001b[0m\u001b[0mwarning\u001b[0m\u001b[1;33m(\u001b[0m\u001b[1;34m\"Invalid Message:\"\u001b[0m\u001b[1;33m,\u001b[0m \u001b[0mexc_info\u001b[0m\u001b[1;33m=\u001b[0m\u001b[1;32mTrue\u001b[0m\u001b[1;33m)\u001b[0m\u001b[1;33m\u001b[0m\u001b[1;33m\u001b[0m\u001b[0m\n",
      "\u001b[1;31mKeyboardInterrupt\u001b[0m: Interrupted by user"
     ]
    }
   ],
   "source": [
    "while True:\n",
    "    num_1, num_2 = map(int, input(\"정수 두 개 입력하세요: \") .split())\n",
    "    \n",
    "    if num_1 < 1 or num_1 > 20:\n",
    "        print(\"첫번쨰 값의 범위는 1 ~ 20 입니다.\")\n",
    "    elif num_2 < 10 or num_2 > 30:\n",
    "        print(\"두번쨰 값의 범위는 10 ~ 30 입니다.\")\n",
    "    elif num_1 > num_2:\n",
    "        print(\"첫번째 입력 값은 두 번쨰 입력 값보다 작게 입력하세요.\")\n",
    "    else:\n",
    "        power_of2 = [2**i for i in range(num_1, num_2 + 1)]\n",
    "        del power_of2[1]\n",
    "        del power_of2[-2]\n",
    "        print(power_of2)\n",
    "        break\n",
    "    continue\n",
    "    "
   ]
  },
  {
   "cell_type": "code",
   "execution_count": null,
   "id": "6114e32f-378f-4e9b-be89-07b802071461",
   "metadata": {},
   "outputs": [],
   "source": []
  },
  {
   "cell_type": "code",
   "execution_count": 10,
   "id": "057188e8-b624-432f-b6a8-8babd146e97a",
   "metadata": {},
   "outputs": [
    {
     "name": "stdin",
     "output_type": "stream",
     "text": [
      "정수 두 개를 입력하세요.:  19 21\n"
     ]
    },
    {
     "name": "stdout",
     "output_type": "stream",
     "text": [
      "[2097152]\n"
     ]
    }
   ],
   "source": [
    "while True:\n",
    "    num1, num2 = map(int, input(\"정수 두 개를 입력하세요.: \") .split())\n",
    "    if not 0 < num1 < 21:\n",
    "        print(\"첫번쨰 값의 범위는 1 ~ 20 입니다.\")\n",
    "    elif not 9 < num2 < 31:\n",
    "        print(\"두번째 값의 범위는 10 ~ 30 입니다.\")\n",
    "    elif num1 > num2:\n",
    "        print(\"첫 번째 입력 값은 두 번째 입력 값보다 작게 입력하세요.\")\n",
    "    else:\n",
    "        answer = [2**i for i in range(num1, num2 + 1)]\n",
    "        del answer[1]\n",
    "        del answer[-2]\n",
    "        print(answer)\n",
    "        break\n",
    "    continue"
   ]
  },
  {
   "cell_type": "code",
   "execution_count": null,
   "id": "51547b9b-8bf9-4c20-8060-3942284b419e",
   "metadata": {},
   "outputs": [],
   "source": []
  },
  {
   "cell_type": "code",
   "execution_count": null,
   "id": "e07f88c3-37ca-4fa9-8161-4f3cf52fb02b",
   "metadata": {},
   "outputs": [],
   "source": []
  },
  {
   "cell_type": "code",
   "execution_count": null,
   "id": "60a8385d-0b52-4557-bc34-398ccb5b4181",
   "metadata": {},
   "outputs": [],
   "source": []
  },
  {
   "cell_type": "code",
   "execution_count": null,
   "id": "f6d00827-4151-4a97-a9ba-13ebc45d503c",
   "metadata": {},
   "outputs": [],
   "source": []
  },
  {
   "cell_type": "code",
   "execution_count": null,
   "id": "55b11c12-dbc5-4201-b8ca-c547727a9f53",
   "metadata": {},
   "outputs": [],
   "source": []
  },
  {
   "cell_type": "code",
   "execution_count": 47,
   "id": "9afd1dd3-12e3-43a4-b6d1-ac638ecf8331",
   "metadata": {},
   "outputs": [
    {
     "name": "stdin",
     "output_type": "stream",
     "text": [
      "숫자 골라 12 30\n"
     ]
    },
    {
     "name": "stdout",
     "output_type": "stream",
     "text": [
      "[4096, 16384, 32768, 65536, 131072, 262144, 524288, 1048576, 2097152, 4194304, 8388608, 16777216, 33554432, 67108864, 134217728, 268435456, 1073741824]\n"
     ]
    }
   ],
   "source": [
    "while True:\n",
    "    a1, a2 = map(int, input(\"숫자 골라\") .split())\n",
    "    if not 0 < a1 < 21:\n",
    "        print(\"X1\")\n",
    "    elif not 9 < a2 < 31:\n",
    "        print(\"X2\")\n",
    "    elif a1 > a2:\n",
    "        print(\"X3\")\n",
    "    else:\n",
    "        b = [2**i for i in range(a1, a2 + 1)]\n",
    "        del b[1]\n",
    "        del b[-2]\n",
    "        print(b)\n",
    "        break\n",
    "    \n",
    "    \n",
    "        \n",
    "        "
   ]
  },
  {
   "cell_type": "code",
   "execution_count": 52,
   "id": "45ab4f1d-6457-4c5a-90bb-f778e8df3389",
   "metadata": {},
   "outputs": [
    {
     "name": "stdin",
     "output_type": "stream",
     "text": [
      "2부터 입력하신 수까지의 모든 소수를 찾는 프로그램입니다.\n",
      "찾는 범위를 입력하세요. : 10\n"
     ]
    },
    {
     "name": "stdout",
     "output_type": "stream",
     "text": [
      "2\n",
      "3\n",
      "4\n",
      "[]\n"
     ]
    }
   ],
   "source": [
    "save_num = []\n",
    "\n",
    "while True:\n",
    "    num = int(input(\"2부터 입력하신 수까지의 모든 소수를 찾는 프로그램입니다.\\n찾는 범위를 입력하세요. :\"))\n",
    "    \n",
    "    for i in range(2, num + 1):\n",
    "        for x in range(2, num // 2):\n",
    "            if i % 2 ==\n",
    "        print(i)\n",
    "            \n",
    "            \n",
    "            \n",
    "print(save_num)\n",
    "    "
   ]
  },
  {
   "cell_type": "code",
   "execution_count": 58,
   "id": "dff95e42-75c2-442a-bca0-454c07cf182a",
   "metadata": {},
   "outputs": [
    {
     "name": "stdin",
     "output_type": "stream",
     "text": [
      "찾는 범위를 입력하세요 100\n"
     ]
    },
    {
     "name": "stdout",
     "output_type": "stream",
     "text": [
      "2\t3\t5\t7\t11\t13\t17\t\n",
      "19\t23\t29\t31\t37\t41\t43\t\n",
      "47\t53\t59\t61\t67\t71\t73\t\n",
      "79\t83\t89\t97\t"
     ]
    }
   ],
   "source": [
    "check = 1\n",
    "count = 1\n",
    "\n",
    "num = int(input(\"찾는 범위를 입력하세요\"))\n",
    "\n",
    "for i in range(2, num):\n",
    "    for j in range(2, i//2 + 1):\n",
    "        if i % j == 0:\n",
    "            check = 0\n",
    "            break\n",
    "    if check:\n",
    "        print(f'{i}\\t', end=\"\")\n",
    "        count += 1\n",
    "    if count == 8:\n",
    "        count = 1\n",
    "        print()\n",
    "    check = 1\n"
   ]
  },
  {
   "cell_type": "code",
   "execution_count": null,
   "id": "d7976ff3-e440-4555-a8ef-a8e6fabb5122",
   "metadata": {},
   "outputs": [],
   "source": []
  },
  {
   "cell_type": "code",
   "execution_count": null,
   "id": "5ca62f4b-7497-4c4b-8045-218791667693",
   "metadata": {},
   "outputs": [],
   "source": []
  },
  {
   "cell_type": "code",
   "execution_count": null,
   "id": "11d90824-8bea-406d-8977-943b40544ebe",
   "metadata": {},
   "outputs": [],
   "source": [
    "ㅠ"
   ]
  },
  {
   "cell_type": "code",
   "execution_count": 65,
   "id": "98e2388c-32ff-497c-a155-bdaf5f1c9684",
   "metadata": {},
   "outputs": [
    {
     "name": "stdout",
     "output_type": "stream",
     "text": [
      "2부터\n"
     ]
    },
    {
     "name": "stdin",
     "output_type": "stream",
     "text": [
      "찾는범위 100\n"
     ]
    },
    {
     "name": "stdout",
     "output_type": "stream",
     "text": [
      "2 3 5 7 11 13 17 \n",
      "19 23 29 31 37 41 43 \n",
      "47 53 59 61 67 71 73 \n",
      "79 83 89 97 "
     ]
    }
   ],
   "source": [
    "print(\"2부터\")\n",
    "indata = int(input(\"찾는범위\"))\n",
    "\n",
    "i = 2\n",
    "line = 0\n",
    "while i <= indata:\n",
    "    j = 2\n",
    "    while j <= i :\n",
    "        if i % j == 0:\n",
    "            break\n",
    "        j += 1\n",
    "    if i == j:\n",
    "        print(i, end = \" \")\n",
    "        line += 1\n",
    "        if line == 7:\n",
    "            line = 0\n",
    "            print()\n",
    "    i += 1"
   ]
  },
  {
   "cell_type": "code",
   "execution_count": null,
   "id": "c4bbf988-05fd-4e17-a2ca-6c3787f115bf",
   "metadata": {},
   "outputs": [],
   "source": []
  },
  {
   "cell_type": "code",
   "execution_count": null,
   "id": "d785bf3b-ab3d-4a75-a0d2-4f765d17549c",
   "metadata": {},
   "outputs": [],
   "source": []
  },
  {
   "cell_type": "code",
   "execution_count": 72,
   "id": "80da597e-9ecf-4174-8c40-d45528f7d0f0",
   "metadata": {},
   "outputs": [
    {
     "name": "stdin",
     "output_type": "stream",
     "text": [
      "2부터 입력하신 수까지의 모든 소수를 찾는 프로그램입니다.\n",
      "찾는범위를 입력하세요.: 100\n"
     ]
    },
    {
     "name": "stdout",
     "output_type": "stream",
     "text": [
      "2 3 5 7 11 13 17 \n",
      "19 23 29 31 37 41 43 \n",
      "47 53 59 61 67 71 73 \n",
      "79 83 89 97 "
     ]
    }
   ],
   "source": [
    "num = int(input(\"2부터 입력하신 수까지의 모든 소수를 찾는 프로그램입니다.\\n찾는범위를 입력하세요.:\"))\n",
    "\n",
    "space = 0\n",
    "i = 2\n",
    "\n",
    "while i <= num:\n",
    "    j = 2\n",
    "    while j <= i:\n",
    "        if i % j == 0:\n",
    "            break\n",
    "        j += 1\n",
    "    if i == j:\n",
    "        print(i, end = \" \")\n",
    "        \n",
    "        space += 1\n",
    "        \n",
    "        if space == 7:\n",
    "            print()\n",
    "            space = 0\n",
    "    i += 1\n"
   ]
  },
  {
   "cell_type": "code",
   "execution_count": null,
   "id": "fba1374c-1f14-44c8-a99f-a74cfce25fdc",
   "metadata": {},
   "outputs": [],
   "source": []
  },
  {
   "cell_type": "code",
   "execution_count": null,
   "id": "1ee95fe2-8871-47ac-9f57-9644c7044737",
   "metadata": {},
   "outputs": [],
   "source": []
  },
  {
   "cell_type": "code",
   "execution_count": null,
   "id": "f9fc34fc-12ff-4971-aa00-d0ec43b763f4",
   "metadata": {},
   "outputs": [],
   "source": []
  },
  {
   "cell_type": "code",
   "execution_count": 107,
   "id": "ceef1895-028a-4c40-8555-05167a730326",
   "metadata": {},
   "outputs": [
    {
     "name": "stdin",
     "output_type": "stream",
     "text": [
      "2부터 입력하신 수까지의 모든 소수를 찾는 프로그램입니다.\n",
      "찾는범위를 입력하세요.: 100\n"
     ]
    },
    {
     "name": "stdout",
     "output_type": "stream",
     "text": [
      "2 3 5 7 11 13 17 \n",
      "19 23 29 31 37 41 43 \n",
      "47 53 59 61 67 71 73 \n",
      "79 83 89 97 "
     ]
    }
   ],
   "source": [
    "num = int(input(\"2부터 입력하신 수까지의 모든 소수를 찾는 프로그램입니다.\\n찾는범위를 입력하세요.:\"))\n",
    "\n",
    "i = 2\n",
    "space = 0\n",
    "\n",
    "while i <= num:\n",
    "    j = 2\n",
    "    while j <= i:\n",
    "        if i % j == 0:\n",
    "            break\n",
    "        j += 1\n",
    "    if j == i:\n",
    "        print(i, end=\" \")\n",
    "        space += 1\n",
    "        \n",
    "        if space == 7:\n",
    "            print()\n",
    "            space = 0\n",
    "    i += 1\n",
    "    \n",
    "\n",
    "\n"
   ]
  },
  {
   "cell_type": "code",
   "execution_count": null,
   "id": "b5ebfa16-91e9-4469-bba2-23a50c7e1d6e",
   "metadata": {},
   "outputs": [],
   "source": []
  },
  {
   "cell_type": "code",
   "execution_count": null,
   "id": "4c02b900-1e15-4a62-a1c5-d4281970ffc0",
   "metadata": {},
   "outputs": [],
   "source": []
  },
  {
   "cell_type": "code",
   "execution_count": null,
   "id": "32373b0c-6789-4da4-9c31-6e1307f467e1",
   "metadata": {},
   "outputs": [],
   "source": [
    "num = int(input(\"2부터 입력하신 수까지의 모든 소수를 찾는 프로그램입니다.\\n찾는범위를 입력하세요.:\"))\n",
    "\n",
    "space = 1\n",
    "\n",
    "for i in range(2, num):\n",
    "    for j in range(2, i // 2 + 1):\n",
    "        if i % j == 0:\n",
    "            break\n",
    "        \n",
    "        "
   ]
  },
  {
   "cell_type": "code",
   "execution_count": 7,
   "id": "eb245d19-88e9-4de5-836e-7cad06fea111",
   "metadata": {},
   "outputs": [
    {
     "name": "stdin",
     "output_type": "stream",
     "text": [
      "업 다운 게임 시작 10\n"
     ]
    },
    {
     "name": "stdout",
     "output_type": "stream",
     "text": [
      "Up\n"
     ]
    },
    {
     "ename": "KeyboardInterrupt",
     "evalue": "Interrupted by user",
     "output_type": "error",
     "traceback": [
      "\u001b[1;31m---------------------------------------------------------------------------\u001b[0m",
      "\u001b[1;31mKeyboardInterrupt\u001b[0m                         Traceback (most recent call last)",
      "\u001b[1;32m~\\AppData\\Local\\Temp\\ipykernel_9616\\3745194949.py\u001b[0m in \u001b[0;36m<module>\u001b[1;34m\u001b[0m\n\u001b[0;32m      6\u001b[0m \u001b[0mpic_num\u001b[0m \u001b[1;33m=\u001b[0m \u001b[1;33m[\u001b[0m\u001b[1;33m]\u001b[0m\u001b[1;33m\u001b[0m\u001b[1;33m\u001b[0m\u001b[0m\n\u001b[0;32m      7\u001b[0m \u001b[1;32mwhile\u001b[0m \u001b[1;32mTrue\u001b[0m\u001b[1;33m:\u001b[0m\u001b[1;33m\u001b[0m\u001b[1;33m\u001b[0m\u001b[0m\n\u001b[1;32m----> 8\u001b[1;33m     \u001b[0mchoose_num\u001b[0m \u001b[1;33m=\u001b[0m \u001b[0mint\u001b[0m\u001b[1;33m(\u001b[0m\u001b[0minput\u001b[0m\u001b[1;33m(\u001b[0m\u001b[1;34m\"업 다운 게임 시작\"\u001b[0m\u001b[1;33m)\u001b[0m\u001b[1;33m)\u001b[0m\u001b[1;33m\u001b[0m\u001b[1;33m\u001b[0m\u001b[0m\n\u001b[0m\u001b[0;32m      9\u001b[0m     \u001b[0mhow_many\u001b[0m \u001b[1;33m+=\u001b[0m \u001b[1;36m1\u001b[0m\u001b[1;33m\u001b[0m\u001b[1;33m\u001b[0m\u001b[0m\n\u001b[0;32m     10\u001b[0m     \u001b[0mpic_num\u001b[0m\u001b[1;33m.\u001b[0m\u001b[0mappend\u001b[0m\u001b[1;33m(\u001b[0m\u001b[0mchoose_num\u001b[0m\u001b[1;33m)\u001b[0m\u001b[1;33m\u001b[0m\u001b[1;33m\u001b[0m\u001b[0m\n",
      "\u001b[1;32m~\\anaconda3\\lib\\site-packages\\ipykernel\\kernelbase.py\u001b[0m in \u001b[0;36mraw_input\u001b[1;34m(self, prompt)\u001b[0m\n\u001b[0;32m   1175\u001b[0m                 \u001b[1;34m\"raw_input was called, but this frontend does not support input requests.\"\u001b[0m\u001b[1;33m\u001b[0m\u001b[1;33m\u001b[0m\u001b[0m\n\u001b[0;32m   1176\u001b[0m             )\n\u001b[1;32m-> 1177\u001b[1;33m         return self._input_request(\n\u001b[0m\u001b[0;32m   1178\u001b[0m             \u001b[0mstr\u001b[0m\u001b[1;33m(\u001b[0m\u001b[0mprompt\u001b[0m\u001b[1;33m)\u001b[0m\u001b[1;33m,\u001b[0m\u001b[1;33m\u001b[0m\u001b[1;33m\u001b[0m\u001b[0m\n\u001b[0;32m   1179\u001b[0m             \u001b[0mself\u001b[0m\u001b[1;33m.\u001b[0m\u001b[0m_parent_ident\u001b[0m\u001b[1;33m[\u001b[0m\u001b[1;34m\"shell\"\u001b[0m\u001b[1;33m]\u001b[0m\u001b[1;33m,\u001b[0m\u001b[1;33m\u001b[0m\u001b[1;33m\u001b[0m\u001b[0m\n",
      "\u001b[1;32m~\\anaconda3\\lib\\site-packages\\ipykernel\\kernelbase.py\u001b[0m in \u001b[0;36m_input_request\u001b[1;34m(self, prompt, ident, parent, password)\u001b[0m\n\u001b[0;32m   1217\u001b[0m             \u001b[1;32mexcept\u001b[0m \u001b[0mKeyboardInterrupt\u001b[0m\u001b[1;33m:\u001b[0m\u001b[1;33m\u001b[0m\u001b[1;33m\u001b[0m\u001b[0m\n\u001b[0;32m   1218\u001b[0m                 \u001b[1;31m# re-raise KeyboardInterrupt, to truncate traceback\u001b[0m\u001b[1;33m\u001b[0m\u001b[1;33m\u001b[0m\u001b[0m\n\u001b[1;32m-> 1219\u001b[1;33m                 \u001b[1;32mraise\u001b[0m \u001b[0mKeyboardInterrupt\u001b[0m\u001b[1;33m(\u001b[0m\u001b[1;34m\"Interrupted by user\"\u001b[0m\u001b[1;33m)\u001b[0m \u001b[1;32mfrom\u001b[0m \u001b[1;32mNone\u001b[0m\u001b[1;33m\u001b[0m\u001b[1;33m\u001b[0m\u001b[0m\n\u001b[0m\u001b[0;32m   1220\u001b[0m             \u001b[1;32mexcept\u001b[0m \u001b[0mException\u001b[0m\u001b[1;33m:\u001b[0m\u001b[1;33m\u001b[0m\u001b[1;33m\u001b[0m\u001b[0m\n\u001b[0;32m   1221\u001b[0m                 \u001b[0mself\u001b[0m\u001b[1;33m.\u001b[0m\u001b[0mlog\u001b[0m\u001b[1;33m.\u001b[0m\u001b[0mwarning\u001b[0m\u001b[1;33m(\u001b[0m\u001b[1;34m\"Invalid Message:\"\u001b[0m\u001b[1;33m,\u001b[0m \u001b[0mexc_info\u001b[0m\u001b[1;33m=\u001b[0m\u001b[1;32mTrue\u001b[0m\u001b[1;33m)\u001b[0m\u001b[1;33m\u001b[0m\u001b[1;33m\u001b[0m\u001b[0m\n",
      "\u001b[1;31mKeyboardInterrupt\u001b[0m: Interrupted by user"
     ]
    }
   ],
   "source": [
    "import random\n",
    "\n",
    "random_list = random.randint(1, 100)\n",
    "how_many = 0\n",
    "\n",
    "pic_num = []\n",
    "while True:\n",
    "    choose_num = int(input(\"업 다운 게임 시작\"))\n",
    "    how_many += 1\n",
    "    pic_num.append(choose_num)\n",
    "    if not 0 < choose_num < 101:\n",
    "        print(\"1~100 사이의 숫자를 입력하세여.\")\n",
    "    elif choose_num < random_list:\n",
    "        print(\"Up\")\n",
    "    elif choose_num > random_list:\n",
    "        print(\"Down\")\n",
    "    else:\n",
    "        print(f\"{how_many}만에 맞추셨습니다\")\n",
    "        print(f\"입력한 숫자 {pic_num}\")\n",
    "        break\n",
    "    "
   ]
  },
  {
   "cell_type": "code",
   "execution_count": null,
   "id": "6f174d86-9f8d-4092-961e-49ec139c1a00",
   "metadata": {},
   "outputs": [],
   "source": []
  },
  {
   "cell_type": "code",
   "execution_count": 8,
   "id": "c11d471d-ac8a-4b37-b990-5828f2ed3588",
   "metadata": {},
   "outputs": [],
   "source": [
    "#세트 자료형(set)\n",
    "# 수학에 나오는 집합을 영어로 set라 함\n",
    "# 합집합, 교집합,차집합과 같은 처리가 가능\n",
    "#세틑는 딕셔너리처럼 중괄호를 사"
   ]
  },
  {
   "cell_type": "code",
   "execution_count": 14,
   "id": "d8243cbf-a0bb-43ab-b4db-25d00fd48e01",
   "metadata": {},
   "outputs": [
    {
     "name": "stdout",
     "output_type": "stream",
     "text": [
      "set() <class 'set'>\n",
      "{1}\n"
     ]
    },
    {
     "ename": "TypeError",
     "evalue": "set expected at most 1 argument, got 6",
     "output_type": "error",
     "traceback": [
      "\u001b[1;31m---------------------------------------------------------------------------\u001b[0m",
      "\u001b[1;31mTypeError\u001b[0m                                 Traceback (most recent call last)",
      "\u001b[1;32m~\\AppData\\Local\\Temp\\ipykernel_9616\\722542441.py\u001b[0m in \u001b[0;36m<module>\u001b[1;34m\u001b[0m\n\u001b[0;32m     19\u001b[0m \u001b[1;33m\u001b[0m\u001b[0m\n\u001b[0;32m     20\u001b[0m \u001b[1;33m\u001b[0m\u001b[0m\n\u001b[1;32m---> 21\u001b[1;33m \u001b[0mssset\u001b[0m \u001b[1;33m=\u001b[0m \u001b[0mset\u001b[0m\u001b[1;33m(\u001b[0m\u001b[1;36m1\u001b[0m\u001b[1;33m,\u001b[0m \u001b[1;36m3\u001b[0m\u001b[1;33m,\u001b[0m \u001b[1;36m4\u001b[0m\u001b[1;33m,\u001b[0m \u001b[1;36m5\u001b[0m\u001b[1;33m,\u001b[0m \u001b[1;36m6\u001b[0m\u001b[1;33m,\u001b[0m \u001b[1;36m7\u001b[0m\u001b[1;33m)\u001b[0m\u001b[1;33m\u001b[0m\u001b[1;33m\u001b[0m\u001b[0m\n\u001b[0m\u001b[0;32m     22\u001b[0m \u001b[0mtype\u001b[0m\u001b[1;33m(\u001b[0m\u001b[0mssset\u001b[0m\u001b[1;33m)\u001b[0m\u001b[1;33m\u001b[0m\u001b[1;33m\u001b[0m\u001b[0m\n",
      "\u001b[1;31mTypeError\u001b[0m: set expected at most 1 argument, got 6"
     ]
    }
   ],
   "source": [
    "# 세트 자료형 특징\n",
    "#세트 ㅈ료형의 요소는 키와 같은 성격을 갖기에 중복된 요소를 가지지 X\n",
    "\n",
    "#세트 자료형 컴프리헨션\n",
    "\n",
    "#세트 자료형 컴프리헨션  set_variable = {expression for 변수 in iterable if 조건식}\n",
    "# 세트 메서드로 add()가 있다. 이 방법을 통해 세트 자료형에 값을 추가 가능.\n",
    "# 사용법은 세트자료형.add(). add(요소) 메서드는 한번에 하나의 값만 넣을 수 있다.\n",
    "set_variable = set()\n",
    "print(set_variable, type(set_variable))\n",
    "\n",
    "# 정수 1 값을 set_variable에 5차례 넣습니다.\n",
    "[set_variable.add(1) for _ in range(5)]\n",
    "# 출력하면 중복된 값 없이 요소를 갖는 걸 볼 수 있다.\n",
    "print(set_variable)\n",
    "\n",
    "#요소를 삭제하는 방법으로 2가지가 존재함. \n",
    "#remove()를 활용한 삭제 (세트 자료형.remove(요소))를 입력하면 됨.\n",
    "# pop()\n",
    "# pop()은 요소를 랜덤하게 삭제하는 메서드입니다. 세트 자료형.pop()와 같이 입력하면 됨.\n",
    "#pop() 메서드는 삭제하려는 요소를 임의로 선택하고 반환한 뒤 삭제. 세트 자료형 내에 더이상\n",
    "#삭제할 요소가없다면 KeyError를 발생시킴\n",
    "#요소 전체 삭제하기 clear()\n"
   ]
  },
  {
   "cell_type": "code",
   "execution_count": 15,
   "id": "5ec7f814-d11e-49f0-b6c9-8fe40dfb5ef2",
   "metadata": {},
   "outputs": [
    {
     "ename": "TypeError",
     "evalue": "set expected at most 1 argument, got 6",
     "output_type": "error",
     "traceback": [
      "\u001b[1;31m---------------------------------------------------------------------------\u001b[0m",
      "\u001b[1;31mTypeError\u001b[0m                                 Traceback (most recent call last)",
      "\u001b[1;32m~\\AppData\\Local\\Temp\\ipykernel_9616\\2075391313.py\u001b[0m in \u001b[0;36m<module>\u001b[1;34m\u001b[0m\n\u001b[1;32m----> 1\u001b[1;33m \u001b[0mssset\u001b[0m \u001b[1;33m=\u001b[0m \u001b[0mset\u001b[0m\u001b[1;33m(\u001b[0m\u001b[1;36m1\u001b[0m\u001b[1;33m,\u001b[0m \u001b[1;36m3\u001b[0m\u001b[1;33m,\u001b[0m \u001b[1;36m4\u001b[0m\u001b[1;33m,\u001b[0m \u001b[1;36m5\u001b[0m\u001b[1;33m,\u001b[0m \u001b[1;36m6\u001b[0m\u001b[1;33m,\u001b[0m \u001b[1;36m7\u001b[0m\u001b[1;33m)\u001b[0m\u001b[1;33m\u001b[0m\u001b[1;33m\u001b[0m\u001b[0m\n\u001b[0m\u001b[0;32m      2\u001b[0m \u001b[0mtype\u001b[0m\u001b[1;33m(\u001b[0m\u001b[0mssset\u001b[0m\u001b[1;33m)\u001b[0m\u001b[1;33m\u001b[0m\u001b[1;33m\u001b[0m\u001b[0m\n",
      "\u001b[1;31mTypeError\u001b[0m: set expected at most 1 argument, got 6"
     ]
    }
   ],
   "source": [
    "ssset = set(1, 3, 4, 5, 6, 7)\n",
    "type(ssset)"
   ]
  },
  {
   "cell_type": "code",
   "execution_count": 18,
   "id": "01d5e535-2e1b-4418-9aa9-c20d3e9fd1fb",
   "metadata": {},
   "outputs": [
    {
     "name": "stdout",
     "output_type": "stream",
     "text": [
      "<class 'set'>\n"
     ]
    },
    {
     "data": {
      "text/plain": [
       "10"
      ]
     },
     "execution_count": 18,
     "metadata": {},
     "output_type": "execute_result"
    }
   ],
   "source": [
    "set___ = {_ for _ in range(10)}\n",
    "print(type(set___))\n",
    "len(set___)"
   ]
  },
  {
   "cell_type": "code",
   "execution_count": 20,
   "id": "80a9e93d-f4ac-433b-99ec-b005c54b0adf",
   "metadata": {},
   "outputs": [
    {
     "name": "stdout",
     "output_type": "stream",
     "text": [
      "A: {1, 2, 3, 4} \n",
      "B: {2, 4, 5}\n",
      "set.union(A,B): {1, 2, 3, 4, 5}\n",
      "A| B: {1, 2, 3, 4, 5}\n",
      "{1, 2, 3, 4}\n"
     ]
    }
   ],
   "source": [
    "# 세트 자료형 - 합집합: union() 혹은 Vertical bal(|)\n",
    "\n",
    "A = {_ for _ in range(1, 5)}\n",
    "B = {_ for _ in range(2, 6) if _ != 3}\n",
    "print(\"A:\", A, \"\\nB:\", B)\n",
    "print(\"set.union(A,B):\", set.union(A,B))\n",
    "print(\"A| B:\", A | B)\n",
    "\n",
    "print(A)\n"
   ]
  },
  {
   "cell_type": "code",
   "execution_count": 1,
   "id": "75ba5aac-e3b7-4bba-986a-ca8fcd690def",
   "metadata": {},
   "outputs": [
    {
     "name": "stdout",
     "output_type": "stream",
     "text": [
      "A: {1, 2, 3, 4} \n",
      "B: {2, 4, 5}\n",
      "set.union(A,B): {1, 3}\n",
      "A| B: {1, 3}\n"
     ]
    }
   ],
   "source": [
    "# 차집합\n",
    "A = {_ for _ in range(1, 5)}\n",
    "B = {_ for _ in range(2, 6) if _ != 3}\n",
    "\n",
    "print(\"A:\", A, \"\\nB:\", B)\n",
    "print(\"set.union(A,B):\", set.difference(A,B))\n",
    "print(\"A| B:\", A - B)\n"
   ]
  },
  {
   "cell_type": "code",
   "execution_count": 2,
   "id": "32423567-c9bc-4755-9b42-5b8fa62195ae",
   "metadata": {},
   "outputs": [
    {
     "name": "stdout",
     "output_type": "stream",
     "text": [
      "A: {1, 2, 3, 4} \n",
      "B: {2, 4, 5}\n",
      "set.symmertic_difference(A,B): {1, 3, 5}\n",
      "A| B: {1, 3, 5}\n"
     ]
    }
   ],
   "source": [
    "# 대칭차집합\n",
    "A = {_ for _ in range(1, 5)}\n",
    "B = {_ for _ in range(2, 6) if _ != 3}\n",
    "\n",
    "print(\"A:\", A, \"\\nB:\", B)\n",
    "print(\"set.symmertic_difference(A,B):\", set.symmetric_difference(A,B))\n",
    "print(\"A| B:\", A ^ B)\n"
   ]
  },
  {
   "cell_type": "code",
   "execution_count": 3,
   "id": "a6c62368-bfca-4e11-aa24-cf508b9c66a7",
   "metadata": {},
   "outputs": [
    {
     "name": "stdout",
     "output_type": "stream",
     "text": [
      "A: {1, 2, 3, 4} \n",
      "B: {2, 4, 5}\n",
      "A.update(B): {1, 2, 3, 4, 5}\n"
     ]
    }
   ],
   "source": [
    "# update() 혹은|=\n",
    "A = {_ for _ in range(1, 5)}\n",
    "B = {_ for _ in range(2, 6) if _ != 3}\n",
    "\n",
    "print(\"A:\", A, \"\\nB:\", B)\n",
    "A.update(B) # A |= B 와 같습니다.\n",
    "print(\"A.update(B):\" , A)"
   ]
  },
  {
   "cell_type": "code",
   "execution_count": 4,
   "id": "28c23a73-1a04-493f-94ab-de44ec539db6",
   "metadata": {},
   "outputs": [
    {
     "name": "stdout",
     "output_type": "stream",
     "text": [
      "A: {1, 2, 3, 4} \n",
      "B: {2, 4, 5}\n",
      "A.update(B): {2, 4}\n"
     ]
    }
   ],
   "source": [
    "# intersection_update() 혹은&=\n",
    "A = {_ for _ in range(1, 5)}\n",
    "B = {_ for _ in range(2, 6) if _ != 3}\n",
    "\n",
    "print(\"A:\", A, \"\\nB:\", B)\n",
    "A.intersection_update(B) # A &= B 와 같습니다.\n",
    "print(\"A.update(B):\" , A)"
   ]
  },
  {
   "cell_type": "code",
   "execution_count": 5,
   "id": "8389bc9a-c7d4-4cc1-9af6-274ac1ce1886",
   "metadata": {},
   "outputs": [
    {
     "name": "stdout",
     "output_type": "stream",
     "text": [
      "A: {1, 2, 3, 4} \n",
      "B: {2, 4, 5}\n",
      "A.update(B): {1, 3}\n"
     ]
    }
   ],
   "source": [
    "# difference_update() 혹은-=\n",
    "A = {_ for _ in range(1, 5)}\n",
    "B = {_ for _ in range(2, 6) if _ != 3}\n",
    "\n",
    "print(\"A:\", A, \"\\nB:\", B)\n",
    "A.difference_update(B) # A -= B 와 같습니다.\n",
    "print(\"A.update(B):\" , A)"
   ]
  },
  {
   "cell_type": "code",
   "execution_count": 6,
   "id": "e36caf6a-f23c-4082-ad92-59255aff4762",
   "metadata": {},
   "outputs": [
    {
     "name": "stdout",
     "output_type": "stream",
     "text": [
      "A: {1, 2, 3, 4} \n",
      "B: {2, 4, 5}\n",
      "A.update(B): {1, 3, 5}\n"
     ]
    }
   ],
   "source": [
    "# symmetric_difference_update() 혹은^=\n",
    "A = {_ for _ in range(1, 5)}\n",
    "B = {_ for _ in range(2, 6) if _ != 3}\n",
    "\n",
    "print(\"A:\", A, \"\\nB:\", B)\n",
    "A.symmetric_difference_update(B) # A ^= B 와 같습니다.\n",
    "print(\"A.update(B):\" , A)"
   ]
  },
  {
   "cell_type": "code",
   "execution_count": 8,
   "id": "d3358135-0e44-474e-99ef-afaa74204ba6",
   "metadata": {},
   "outputs": [
    {
     "name": "stdout",
     "output_type": "stream",
     "text": [
      "A: {0, 1, 2} \n",
      "B: {0, 1, 2}\n",
      "A.issubset(B): True\n"
     ]
    }
   ],
   "source": [
    "# 부분집합()\n",
    "A = {_ for _ in range(0, 3)}\n",
    "B = {_ for _ in range(0, 3)}\n",
    "\n",
    "print(\"A:\", A, \"\\nB:\", B)\n",
    "print(\"A.issubset(B):\" , A.issubset(B))"
   ]
  },
  {
   "cell_type": "code",
   "execution_count": 9,
   "id": "1ed2afdd-591f-4cec-a637-2359148d3119",
   "metadata": {},
   "outputs": [
    {
     "name": "stdout",
     "output_type": "stream",
     "text": [
      "A: {0, 1, 2} \n",
      "B: {0, 1}\n",
      "A.issubset(B): False\n"
     ]
    }
   ],
   "source": [
    "# 부분집합(\n",
    "A = {_ for _ in range(0, 3)}\n",
    "B = {_ for _ in range(0, 2)}\n",
    "\n",
    "print(\"A:\", A, \"\\nB:\", B)\n",
    "print(\"A.issubset(B):\" , A.issubset(B))"
   ]
  },
  {
   "cell_type": "code",
   "execution_count": 11,
   "id": "3cd02ba0-d014-44f5-8853-eb35f6c95ead",
   "metadata": {},
   "outputs": [
    {
     "name": "stdout",
     "output_type": "stream",
     "text": [
      "A: {0, 1, 2} \n",
      "B: {0, 1, 2}\n",
      "A.issubset(B): True\n"
     ]
    }
   ],
   "source": [
    "# 상위집합 issuperset()\n",
    "A = {_ for _ in range(0, 3)}\n",
    "B = {_ for _ in range(0, 3)}\n",
    "\n",
    "print(\"A:\", A, \"\\nB:\", B)\n",
    "print(\"A.issubset(B):\" , A.issuperset(B))"
   ]
  },
  {
   "cell_type": "code",
   "execution_count": 16,
   "id": "cb03166a-20f3-4986-b537-8d0e58a3c52d",
   "metadata": {},
   "outputs": [
    {
     "name": "stdout",
     "output_type": "stream",
     "text": [
      "A: {0, 1, 2} \n",
      "B: {0, 1}\n",
      "A.issubset(B): True\n"
     ]
    }
   ],
   "source": [
    "# 상위집합 issuperset()\n",
    "A = {_ for _ in range(0, 3)}\n",
    "B = {_ for _ in range(0, 2)}\n",
    "\n",
    "print(\"A:\", A, \"\\nB:\", B)\n",
    "print(\"A.issubset(B):\" , A.issuperset(B))"
   ]
  },
  {
   "cell_type": "code",
   "execution_count": 23,
   "id": "a6c44328-1e9d-4198-80ec-5f13482266fc",
   "metadata": {},
   "outputs": [
    {
     "name": "stdout",
     "output_type": "stream",
     "text": [
      "A: {0, 1, 2} \n",
      "B: {0, 1, 2}\n",
      "A > B: False\n",
      "A < B: False\n",
      "A == B: True\n"
     ]
    }
   ],
   "source": [
    "# 진부분집합과 진상위집합 >.<\n",
    "A = {_ for _ in range(0, 3)}\n",
    "B = {_ for _ in range(0, 3)}\n",
    "\n",
    "print(\"A:\", A, \"\\nB:\", B)\n",
    "print(\"A > B:\", A > B)\n",
    "print(\"A < B:\", A < B)\n",
    "print(\"A == B:\", A == B)"
   ]
  },
  {
   "cell_type": "code",
   "execution_count": 22,
   "id": "6e909ea5-0af1-43e7-a968-ebed5f50ce4c",
   "metadata": {},
   "outputs": [
    {
     "name": "stdout",
     "output_type": "stream",
     "text": [
      "A: {0, 1, 2} \n",
      "B: {0, 1}\n",
      "A > B: True\n",
      "A < B: False\n"
     ]
    }
   ],
   "source": [
    "# 진부분집합과 진상위집합 >.<\n",
    "A = {_ for _ in range(0, 3)}\n",
    "B = {_ for _ in range(0, 2)}\n",
    "\n",
    "print(\"A:\", A, \"\\nB:\", B)\n",
    "print(\"A > B:\", A > B)\n",
    "print(\"A < B:\", A < B)\n"
   ]
  },
  {
   "cell_type": "code",
   "execution_count": 33,
   "id": "9f19820d-4844-4b7b-abe4-9bec8a49ac24",
   "metadata": {},
   "outputs": [
    {
     "name": "stdout",
     "output_type": "stream",
     "text": [
      "A: {0, 1, 2} \n",
      "B: {0, 1, 2, 3, 4, 5}\n",
      "A.isdisjoint(B): False\n"
     ]
    }
   ],
   "source": [
    "# 세트가 겹치지 않는지 확인 isdisjoint()\n",
    "\n",
    "A = {_ for _ in range(0, 3)}\n",
    "B = {_ for _ in range(0, 6)}\n",
    "\n",
    "print(\"A:\", A, \"\\nB:\", B)\n",
    "print(\"A.isdisjoint(B):\", A.isdisjoint(B))\n"
   ]
  },
  {
   "cell_type": "code",
   "execution_count": 29,
   "id": "0d84a1d3-af7f-499f-bff7-2040ebc61bac",
   "metadata": {},
   "outputs": [
    {
     "name": "stdout",
     "output_type": "stream",
     "text": [
      "{1, 2, 3, 4}\n"
     ]
    }
   ],
   "source": [
    "list_sample = [1, 2, 3, 3, 3, 4, 4, 4, 4]\n",
    "\n",
    "list = set(list_sample)\n",
    "print(list)"
   ]
  },
  {
   "cell_type": "code",
   "execution_count": 2,
   "id": "130f7fbe-0401-4b31-822a-4676c0be8b6c",
   "metadata": {},
   "outputs": [
    {
     "name": "stdin",
     "output_type": "stream",
     "text": [
      "시작하는 정수 입력:  4\n",
      "끝나는 정수 입력: 7\n"
     ]
    },
    {
     "name": "stdout",
     "output_type": "stream",
     "text": [
      "52\n"
     ]
    }
   ],
   "source": [
    "start_num = int(input(\"시작하는 정수 입력: \"))\n",
    "end_num = int(input(\"끝나는 정수 입력:\"))\n",
    "total = 0\n",
    "while start_num <= end_num:\n",
    "    if start_num % 2 == 0:\n",
    "        total += start_num ** 2\n",
    "    start_num += 1\n",
    "print(total)"
   ]
  },
  {
   "cell_type": "code",
   "execution_count": 5,
   "id": "fad9377e-c0c9-4fb4-9c6a-76085d894b73",
   "metadata": {},
   "outputs": [
    {
     "name": "stdin",
     "output_type": "stream",
     "text": [
      "시작하는 정수 입력:  4\n",
      "끝나는 정수 입력: 10\n"
     ]
    },
    {
     "name": "stdout",
     "output_type": "stream",
     "text": [
      "216\n"
     ]
    }
   ],
   "source": [
    "start_num = int(input(\"시작하는 정수 입력: \"))\n",
    "end_num = int(input(\"끝나는 정수 입력:\"))\n",
    "total = 0\n",
    "for i in range(start_num, end_num + 1):\n",
    "    if i % 2 == 0:\n",
    "        total += i ** 2\n",
    "print(total)"
   ]
  },
  {
   "cell_type": "code",
   "execution_count": 9,
   "id": "f315664a-b7f3-403f-b259-540f03fef4d1",
   "metadata": {},
   "outputs": [
    {
     "name": "stdout",
     "output_type": "stream",
     "text": [
      "233168\n"
     ]
    }
   ],
   "source": [
    "i = 1\n",
    "\n",
    "total = 0\n",
    "\n",
    "while i < 1000:\n",
    "    if i % 3 == 0 or i % 5 == 0:\n",
    "        total += i\n",
    "    i += 1\n",
    "print(total)\n"
   ]
  },
  {
   "cell_type": "code",
   "execution_count": 10,
   "id": "049b8657-2e9e-4688-8b01-6705d9216ba6",
   "metadata": {},
   "outputs": [
    {
     "name": "stdout",
     "output_type": "stream",
     "text": [
      "233168\n"
     ]
    }
   ],
   "source": [
    "total = 0\n",
    "for i in range(1, 1000):\n",
    "    if i % 3 == 0 or i % 5 == 0:\n",
    "        total += i\n",
    "print(total)"
   ]
  },
  {
   "cell_type": "code",
   "execution_count": 20,
   "id": "10f16006-598c-4126-b11c-90595247b7bc",
   "metadata": {},
   "outputs": [
    {
     "name": "stdin",
     "output_type": "stream",
     "text": [
      "정수 두개 입력: 10 20\n"
     ]
    },
    {
     "name": "stdout",
     "output_type": "stream",
     "text": [
      "[1024, 4096, 8192, 16384, 32768, 65536, 131072, 262144, 1048576]\n"
     ]
    }
   ],
   "source": [
    "num = list(map(int, input(\"정수 두개 입력:\").split(\" \")))\n",
    "\n",
    "while True:\n",
    "    if not 0 < num[0] < 21:\n",
    "        print(\"첫번째 값의 범위는 1 ~ 20입니다.\")\n",
    "    elif not 9 < num[1] < 31:\n",
    "        print(\"두번째 값의 범위는 10 ~ 30입니다.\")\n",
    "    elif num[0] > num[1]:\n",
    "        print(\"첫 번쨰 입력 값은 두번째 입력 값보다 작게 입력.\")\n",
    "    else:\n",
    "        num = [2**i for i in range(num[0], num[1] + 1)]\n",
    "        del num[1]\n",
    "        del num[-2]\n",
    "        print(num)\n",
    "        break\n",
    "    \n",
    "              \n",
    "               "
   ]
  },
  {
   "cell_type": "code",
   "execution_count": 31,
   "id": "816d767d-25c6-49bb-8f56-02c5ae6e821c",
   "metadata": {},
   "outputs": [
    {
     "name": "stdin",
     "output_type": "stream",
     "text": [
      "2부터 입력하신 수까지의 모든 소수를 찾는 프로그램. 100\n"
     ]
    },
    {
     "name": "stdout",
     "output_type": "stream",
     "text": [
      "2 3 5 7 11 13 17 \n",
      "19 23 29 31 37 41 43 \n",
      "47 53 59 61 67 71 73 \n",
      "79 83 89 97 "
     ]
    }
   ],
   "source": [
    "\n",
    "num = int(input(\"2부터 입력하신 수까지의 모든 소수를 찾는 프로그램.\"))\n",
    "\n",
    "i = 2\n",
    "\n",
    "space = 0\n",
    "\n",
    "while i <= num:\n",
    "    j = 2\n",
    "    while j <= i:\n",
    "        if i % j == 0:\n",
    "            break\n",
    "        j += 1\n",
    "    if i == j:\n",
    "        print(i, end=\" \")\n",
    "        space += 1\n",
    "    if space == 7:\n",
    "        print()\n",
    "        space = 0\n",
    "    i += 1\n",
    "    \n",
    "    "
   ]
  },
  {
   "cell_type": "code",
   "execution_count": 36,
   "id": "df3dd7ee-f0b0-4dc3-987a-08fff4313536",
   "metadata": {},
   "outputs": [
    {
     "name": "stdin",
     "output_type": "stream",
     "text": [
      "찾는 범위를 입력하세요 10\n"
     ]
    },
    {
     "name": "stdout",
     "output_type": "stream",
     "text": [
      "2\t3\t5\t7\t"
     ]
    }
   ],
   "source": [
    "check = 1\n",
    "count = 1\n",
    "\n",
    "num = int(input(\"찾는 범위를 입력하세요\"))\n",
    "\n",
    "for i in range(2, num):\n",
    "    for j in range(2, i//2 + 1):\n",
    "        if i % j == 0:\n",
    "            check = 0\n",
    "            break\n",
    "    if check:\n",
    "        print(f'{i}\\t', end=\"\")\n",
    "        count += 1\n",
    "    if count == 8:\n",
    "        count = 1\n",
    "        print()\n",
    "    check = 1\n"
   ]
  },
  {
   "cell_type": "code",
   "execution_count": 53,
   "id": "f709ac71-56a3-4da4-9f8f-e3c4572a1b85",
   "metadata": {},
   "outputs": [
    {
     "name": "stdout",
     "output_type": "stream",
     "text": [
      "{2, 3, 4, 5}\n",
      "{2, 3, 4, 5}\n",
      "3\n",
      "{3, 4, 5}\n"
     ]
    }
   ],
   "source": [
    "a = {1, 2, 3, 4, 5}\n",
    "type(a)\n",
    "a.remove(1)\n",
    "print(a)\n",
    "print(a)\n",
    "a.pop()\n",
    "\n",
    "print(len(a))\n",
    "print(a)"
   ]
  },
  {
   "cell_type": "code",
   "execution_count": null,
   "id": "0bf9a661-944f-4dff-af81-4529491c4274",
   "metadata": {},
   "outputs": [],
   "source": []
  },
  {
   "cell_type": "code",
   "execution_count": 58,
   "id": "47250de7-0d92-418a-8b61-6d6366341bfb",
   "metadata": {},
   "outputs": [
    {
     "name": "stdout",
     "output_type": "stream",
     "text": [
      "A: {1, 2, 3, 4} \n",
      "B: {2, 4, 5}\n",
      "{1, 2, 3, 4, 5}\n",
      "{1, 2, 3, 4, 5}\n"
     ]
    }
   ],
   "source": [
    "A = {x for x in range(1, 5)}\n",
    "B = {x for x in range(2, 6) if x != 3}\n",
    "print(\"A:\", A, \"\\nB:\", B)\n",
    "\n",
    "print(set.union(A, B))\n",
    "print(A | B)"
   ]
  },
  {
   "cell_type": "code",
   "execution_count": 60,
   "id": "c46e8000-0fdb-4460-bb5b-34933ce7e943",
   "metadata": {},
   "outputs": [
    {
     "name": "stdout",
     "output_type": "stream",
     "text": [
      "{2, 4}\n",
      "{2, 4}\n"
     ]
    }
   ],
   "source": [
    "print(set.intersection(A, B))\n",
    "print(A & B)"
   ]
  },
  {
   "cell_type": "code",
   "execution_count": 64,
   "id": "d3b6ea45-2571-4027-ba9e-daf7d37e5474",
   "metadata": {},
   "outputs": [
    {
     "name": "stdout",
     "output_type": "stream",
     "text": [
      "{1, 3}\n",
      "{5}\n"
     ]
    }
   ],
   "source": [
    "print(set.difference(A, B))\n",
    "print(B - A)"
   ]
  },
  {
   "cell_type": "code",
   "execution_count": 65,
   "id": "e7509286-d4d6-407b-938e-3fa72000f699",
   "metadata": {},
   "outputs": [
    {
     "name": "stdout",
     "output_type": "stream",
     "text": [
      "{1, 3, 5}\n",
      "{1, 3, 5}\n"
     ]
    }
   ],
   "source": [
    "print(set.symmetric_difference(A, B))\n",
    "print(B ^ A)"
   ]
  },
  {
   "cell_type": "code",
   "execution_count": 69,
   "id": "d3b31aa1-67b4-4fd1-b9bd-f49022c4def8",
   "metadata": {},
   "outputs": [
    {
     "name": "stdout",
     "output_type": "stream",
     "text": [
      "{1, 2, 3, 4, 5}\n"
     ]
    }
   ],
   "source": [
    "A |= B\n",
    "print(A)"
   ]
  },
  {
   "cell_type": "code",
   "execution_count": 71,
   "id": "7679e031-c6f5-429b-8725-7ca1c2172a7e",
   "metadata": {},
   "outputs": [
    {
     "name": "stdout",
     "output_type": "stream",
     "text": [
      "{1, 2, 3, 4}\n"
     ]
    }
   ],
   "source": [
    "list_sample = [1, 2, 2, 3, 3, 3, 4, 4, 4, 4]\n",
    "\n",
    "print(set(list_sample))"
   ]
  },
  {
   "cell_type": "code",
   "execution_count": 72,
   "id": "7c918622-53b2-4bae-b145-5819e40dac83",
   "metadata": {},
   "outputs": [
    {
     "name": "stdout",
     "output_type": "stream",
     "text": [
      "{75, 45, 15, 90, 60, 30}\n"
     ]
    }
   ],
   "source": [
    "three = {x for x in range(1, 101) if x % 3 == 0}\n",
    "five = {x for x in range(1, 101) if x % 5 == 0}\n",
    "\n",
    "result_set = set.intersection(three, five)\n",
    "print(result_set)"
   ]
  },
  {
   "cell_type": "code",
   "execution_count": 95,
   "id": "320a3c38-ae99-4e28-8570-a509d48ed2b8",
   "metadata": {},
   "outputs": [
    {
     "name": "stdout",
     "output_type": "stream",
     "text": [
      "개인정보 조회, 구매 관리, 근태 관리, 시스템 관리, 인사 관리, 회계 관리"
     ]
    }
   ],
   "source": [
    "role_admin = (\"회계 관리\", \"인사 관리\", \"구매 관리\", \"시스템 관리\")\n",
    "role_hr = (\"인사 관리\", \"개인정보 조회\", \"회계 관리\", \"근태 관리\")\n",
    "role_user = (\"개인정보 조회\", \"근태 관리\")\n",
    "\n",
    "\n",
    "menus = list(set(role_admin + role_hr + role_user))\n",
    "menus.sort()\n",
    "c = end=\", \"\n",
    "for menu in menus:\n",
    "    if menus[-1] == menu:\n",
    "        c =\"\"\n",
    "    print(menu, end=c)"
   ]
  },
  {
   "cell_type": "code",
   "execution_count": null,
   "id": "6da17dcb-ec30-459a-b40f-f2386e63eeb6",
   "metadata": {},
   "outputs": [],
   "source": []
  }
 ],
 "metadata": {
  "kernelspec": {
   "display_name": "Python 3 (ipykernel)",
   "language": "python",
   "name": "python3"
  },
  "language_info": {
   "codemirror_mode": {
    "name": "ipython",
    "version": 3
   },
   "file_extension": ".py",
   "mimetype": "text/x-python",
   "name": "python",
   "nbconvert_exporter": "python",
   "pygments_lexer": "ipython3",
   "version": "3.9.13"
  }
 },
 "nbformat": 4,
 "nbformat_minor": 5
}
