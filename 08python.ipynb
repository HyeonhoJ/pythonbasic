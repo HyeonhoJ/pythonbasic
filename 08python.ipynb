{
 "cells": [
  {
   "cell_type": "code",
   "execution_count": 8,
   "id": "508e0a41-9bdc-4f87-ae23-69f1fcb0c2c5",
   "metadata": {},
   "outputs": [
    {
     "name": "stdout",
     "output_type": "stream",
     "text": [
      "[2, 5, 8, 11]\n"
     ]
    }
   ],
   "source": [
    "#1.반복가능한개체로부터 값을 하나 꺼내와서 조건식에 넣는다\n",
    "#2.조건식이 True이면 변수를 활용해서 표현식을 실행한다.\n",
    "#  (이때 변수는 활용 할 수도 활용하지 않을 수도 있음\n",
    "#3. 조건식이 False이면 1번부터 다시 시작\n",
    "#4 표현식 결과 값을 리스트 요소에 넣습니다.\n",
    "#5. 반복가능한 개체로부터 값이 없을 때까지 1~3 과정을 반복\n",
    "# list_variable = [expression for 변수 in iterable if 조건식]\n",
    "\n",
    "list_p = [_ + 2 for _ in range(10) if _ % 3 ==0]\n",
    "print(list_p)"
   ]
  },
  {
   "cell_type": "code",
   "execution_count": 14,
   "id": "43eae240-d263-49f8-aa15-06b727fc1494",
   "metadata": {},
   "outputs": [],
   "source": [
    "a = [str(i) for i in range(2, 11)] + list(\"JQKA\")"
   ]
  },
  {
   "cell_type": "code",
   "execution_count": 1,
   "id": "341ff68f-5111-4a4b-9e11-4a92a76f0e65",
   "metadata": {},
   "outputs": [
    {
     "name": "stdout",
     "output_type": "stream",
     "text": [
      "A: {0, 1, 2} \n",
      "B: {0, 1, 2}\n",
      "{1, 2, 3, 4}\n"
     ]
    }
   ],
   "source": [
    "A = {_ for _ in range(0, 3)}\n",
    "B= {_ for _ in range(0, 3)}\n",
    "print(\"A:\", A, \"\\nB:\", B)\n",
    "\n",
    "list_sample = {1, 2, 2, 3, 3, 3, 4, 4, 4, 4,}\n",
    "print(set(list_sample))"
   ]
  },
  {
   "cell_type": "code",
   "execution_count": 27,
   "id": "560dbbdf-b52c-4533-9edf-002c122df3df",
   "metadata": {},
   "outputs": [
    {
     "name": "stdout",
     "output_type": "stream",
     "text": [
      "{75, 45, 15, 90, 60, 30}\n",
      "{75, 45, 15, 90, 60, 30}\n",
      "{75, 45, 15, 90, 60, 30}\n"
     ]
    }
   ],
   "source": [
    "three = {x for x in range(1, 101) if x % 3 == 0}\n",
    "five = {x for x in range(1, 101) if x % 5 == 0}\n",
    "resurt_set = three & five\n",
    "print(resurt_set)\n",
    "print(three & five)\n",
    "print(set.intersection(three,five))"
   ]
  },
  {
   "cell_type": "code",
   "execution_count": 59,
   "id": "68a83926-ea4d-4a8d-ada7-2f08224caacf",
   "metadata": {},
   "outputs": [
    {
     "name": "stdout",
     "output_type": "stream",
     "text": [
      "개인정보 조회, 구매 관리, 근태 관리, 시스템 관리, 인사 관리, 회계 관리"
     ]
    }
   ],
   "source": [
    "role_admin = (\"회계 관리\", \"인사 관리\", '구매 관리', '시스템 관리')\n",
    "role_hr = ('인사 관리', '개인정보 조회', '회계 관리', '근태 관리')\n",
    "roel_user = ('개인정보 조회', '근태 관리')\n",
    "\n",
    "total_role = list(set(role_admin + role_hr + role_hr))\n",
    "\n",
    "total_role.sort()\n",
    "print\n",
    "a = \", \"\n",
    "\n",
    "for role in total_role:\n",
    "    if total_role[-1] == role:\n",
    "        a = \"\"\n",
    "    print(role, end=a) \n",
    "\n",
    "##### .join() 을 사용해서 구분도 가능하다#####"
   ]
  },
  {
   "cell_type": "code",
   "execution_count": 67,
   "id": "1189317b-e79d-4d32-bab0-6cc1f705a426",
   "metadata": {
    "tags": []
   },
   "outputs": [
    {
     "ename": "SyntaxError",
     "evalue": "invalid syntax (2877339064.py, line 10)",
     "output_type": "error",
     "traceback": [
      "\u001b[1;36m  File \u001b[1;32m\"C:\\Users\\jungh\\AppData\\Local\\Temp\\ipykernel_17456\\2877339064.py\"\u001b[1;36m, line \u001b[1;32m10\u001b[0m\n\u001b[1;33m    |    # \"\"\"\u001b[0m\n\u001b[1;37m    ^\u001b[0m\n\u001b[1;31mSyntaxError\u001b[0m\u001b[1;31m:\u001b[0m invalid syntax\n"
     ]
    }
   ],
   "source": [
    "# 함수(Function)\n",
    "# 우리가 사용해온 print(), len(),list(), reversed() 등 이 모든 것들이 다 함수입니다.\n",
    "# 한번 정의해두고 필요할 때마다 재사용 할 수 있었습니다.\n",
    "# 함수는 반복 사용되는 코드를 용도에 맞게 함수 바디에 모아두고 재사용 가능하도록\n",
    "# 호출 가능하게 만든 것.\n",
    "# 코드이 중복을 줄일 수 있어서 유지보수에 좋다.\n",
    "\n",
    "# 함수의 정의(define)\n",
    "# def 함수이름(위치_인자,우치_인자2, *가변_위치, 키워드_인자, 키워드_인자2, **가변_키워드):\n",
    "#|    # \"\"\"\n",
    "#|   # Doc String을 적는 곳입니다.   독 스트링 주용\n",
    "#|    \n",
    "#|    # 작성자: 이기수\n",
    "#|    # 작성일자: 2020.0.203\n",
    "#|    # \"\"\"\n",
    "    \n",
    "    #함수의 바디\n",
    "    #함수의 바디\n",
    "    #return 반환값\n",
    "    "
   ]
  },
  {
   "cell_type": "code",
   "execution_count": 76,
   "id": "4423658f-9ddb-4b8a-9b73-f33ff9ba7f76",
   "metadata": {},
   "outputs": [
    {
     "name": "stdout",
     "output_type": "stream",
     "text": [
      "문자열\n",
      "print(\"hello\")를 열번 출력합니다.\n",
      "print(value, ..., sep=' ', end='\\n', file=sys.stdout, flush=False)\n",
      "\n",
      "Prints the values to a stream, or to sys.stdout by default.\n",
      "Optional keyword arguments:\n",
      "file:  a file-like object (stream); defaults to the current sys.stdout.\n",
      "sep:   string inserted between values, default a space.\n",
      "end:   string appended after the last value, default a newline.\n",
      "flush: whether to forcibly flush the stream.\n"
     ]
    }
   ],
   "source": [
    "def print_ten(some_str):\n",
    "    \"\"\"print(\"hello\")를 열번 출력합니다.\"\"\"\n",
    "    for _ in range(1):\n",
    "        print(some_str)\n",
    "\n",
    "print_ten(\"문자열\")\n",
    "print(print_ten.__doc__)\n",
    "\n",
    "print(print.__doc__)"
   ]
  },
  {
   "cell_type": "code",
   "execution_count": 77,
   "id": "5ffa3dbe-a494-4c2e-a052-5a9d00914857",
   "metadata": {},
   "outputs": [],
   "source": [
    "#함수의 정의 - 인자(parameter)\n",
    "#함수(또는 메서드) 정의에서 함수가받을 수 있는 변수입니다. 함수인자 혹은 매개변수라함.\n",
    "#인자는 함수 정의절에서 소괄호 안에 정의됨. 아래와 같이 4가지 종류가 있음\n",
    "# - 위치-키워드(positional or keyword): 위치로 혹은 키워드로 전달 될 수 있는 인자를 말함\n",
    "#   매개변수의 기본 형채\n",
    "# - 의치 전용(positional-only): / 문자를 기준으로 좌측에 위치한 인자를 말함\n",
    "# - 키워드 전용(keyword-only): * 문자를 기준으로 우측에 위치한 인자를 말함\n",
    "# - 가변위치(var positional): 위치 매개변수 외에 추가적인 위치 매개변수를 개수에 상관없이\n",
    "#    받을 수 있다. 변수명 앞에 *를 앞에 하나 붙여 표기함\n",
    "# - 가변 키워드(var keyword): 키워드 매개변수 외에 추가적인 키워드 매개변수를 개수에 상관없이\n",
    "#   방을 수 있다. 변수명 앞에 **을 두개 붙여 표기.\n",
    "\n",
    "\n",
    "#   (인수)     (매개변수)\n",
    "# Arguments 와 Parameter은 다름\n",
    "# - Parameters는 함수 정의절에서 사용하는 이름\n",
    "# - Arguments는 하수 호출할 떄 함수에 전달하는 실제 값.\n",
    "# 따라서 parameters는 어떤 종류의 Arguments를 받을지 정의함.\n"
   ]
  },
  {
   "cell_type": "code",
   "execution_count": 82,
   "id": "8fabb606-bcb1-4e48-ba9a-8bb6a65c4936",
   "metadata": {},
   "outputs": [
    {
     "name": "stdout",
     "output_type": "stream",
     "text": [
      "파이썬 씨 안녕하세요. 약 10592.25 일 되었습니다.\n",
      "파이썬 씨 안녕하세요. 약 11688.0 일 되었습니다.\n",
      "파이썬 씨 안녕하세요. 약 11688.0 일 되었습니다.\n",
      "파이썬 씨 안녕하세요. 약 11688.0 일 되었습니다.\n"
     ]
    }
   ],
   "source": [
    "def greeting(name, age):\n",
    "    print(f\"{name} 씨 안녕하세요. 약 {age * 365.25} 일 되었습니다.\")\n",
    "greeting(\"파이썬\", 29)  # 위치 인수만으로 호출하고 있다. 위치 인수는 순서가 중요\n",
    "greeting(name=\"파이썬\", age = 32)  # 키워드 인수만으로 호출하고 있다.\n",
    "greeting(\"파이썬\", age=32)  # 위치 인수와 키워드 인수로 호출하고 있다. 위치 인수가 키워드 인수보다 먼저 위치해야함.\n",
    "greeting(age=32, name=\"파이썬\")  # 키워드 인수만으로 호출 할 땐 키워드 인수 간에 순서는 상계 없다.\n",
    "\n",
    "\n"
   ]
  },
  {
   "cell_type": "code",
   "execution_count": 102,
   "id": "17e74965-3ed9-4d84-87ce-2dc200f5cd0d",
   "metadata": {},
   "outputs": [
    {
     "name": "stdout",
     "output_type": "stream",
     "text": [
      "rr 씨 안녕하세요. 약 10592.25 일 되었습니다.\n"
     ]
    }
   ],
   "source": [
    "# 기본 값을 갖는 default parameter는 기본 기본 값을 갖지 않는 non-default parameter보다 뒤에 작성해야함\n",
    "\n",
    "#def greeting(name= \"default\", age):\n",
    "#   print(f\"{name} 씨 안녕하세요. 약 {age * 365.25} 일 되었습니다.\")\n",
    "\n",
    "\n",
    "def greeting1(name, age=32):\n",
    "    print(f\"{name} 씨 안녕하세요. 약 {age * 365.25} 일 되었습니다.\")\n",
    "\n",
    "greeting1(\"rr\", 29)\n"
   ]
  },
  {
   "cell_type": "code",
   "execution_count": 112,
   "id": "5c21da40-0ce6-4edf-979d-1fa072366270",
   "metadata": {},
   "outputs": [
    {
     "ename": "TypeError",
     "evalue": "posonly() got some positional-only arguments passed as keyword arguments: 'posonly'",
     "output_type": "error",
     "traceback": [
      "\u001b[1;31m---------------------------------------------------------------------------\u001b[0m",
      "\u001b[1;31mTypeError\u001b[0m                                 Traceback (most recent call last)",
      "\u001b[1;32m~\\AppData\\Local\\Temp\\ipykernel_17456\\646351376.py\u001b[0m in \u001b[0;36m<module>\u001b[1;34m\u001b[0m\n\u001b[0;32m      5\u001b[0m \u001b[1;32mdef\u001b[0m \u001b[0mposonly\u001b[0m\u001b[1;33m(\u001b[0m\u001b[0mposonly\u001b[0m\u001b[1;33m,\u001b[0m \u001b[1;33m/\u001b[0m\u001b[1;33m)\u001b[0m\u001b[1;33m:\u001b[0m\u001b[1;33m\u001b[0m\u001b[1;33m\u001b[0m\u001b[0m\n\u001b[0;32m      6\u001b[0m     \u001b[0mprint\u001b[0m\u001b[1;33m(\u001b[0m\u001b[0mposonly\u001b[0m\u001b[1;33m)\u001b[0m\u001b[1;33m\u001b[0m\u001b[1;33m\u001b[0m\u001b[0m\n\u001b[1;32m----> 7\u001b[1;33m \u001b[0mposonly\u001b[0m\u001b[1;33m(\u001b[0m\u001b[0mposonly\u001b[0m\u001b[1;33m=\u001b[0m\u001b[1;34m\"키워드 인수로 전달하면 오류발생!\"\u001b[0m\u001b[1;33m)\u001b[0m\u001b[1;33m\u001b[0m\u001b[1;33m\u001b[0m\u001b[0m\n\u001b[0m\u001b[0;32m      8\u001b[0m \u001b[1;33m\u001b[0m\u001b[0m\n\u001b[0;32m      9\u001b[0m \u001b[1;33m\u001b[0m\u001b[0m\n",
      "\u001b[1;31mTypeError\u001b[0m: posonly() got some positional-only arguments passed as keyword arguments: 'posonly'"
     ]
    }
   ],
   "source": [
    "# 함수의 정의 - 위치 전용 인자(pisitional-only-parameters)\n",
    "# 위치 전용 인자는 오직 위치 인수만 값의 전달이 가능함. 위치 전용 인자를 선언하는 방법은\n",
    "#  슬래시(/)를 인자 값으로 넣고 좌측부분에 위치 전용 인자를 선언하면 됨.\n",
    "\n",
    "def posonly(posonly, /):\n",
    "    print(posonly)\n",
    "posonly(posonly=\"키워드 인수로 전달하면 오류발생!\")\n"
   ]
  },
  {
   "cell_type": "code",
   "execution_count": 123,
   "id": "b7164f4b-82b7-4e84-9b17-8ff3660a5198",
   "metadata": {},
   "outputs": [
    {
     "name": "stdout",
     "output_type": "stream",
     "text": [
      "키워드로만 입력해야합니다.\n"
     ]
    },
    {
     "ename": "TypeError",
     "evalue": "keyonly() takes 0 positional arguments but 1 was given",
     "output_type": "error",
     "traceback": [
      "\u001b[1;31m---------------------------------------------------------------------------\u001b[0m",
      "\u001b[1;31mTypeError\u001b[0m                                 Traceback (most recent call last)",
      "\u001b[1;32m~\\AppData\\Local\\Temp\\ipykernel_17456\\3274925666.py\u001b[0m in \u001b[0;36m<module>\u001b[1;34m\u001b[0m\n\u001b[0;32m      7\u001b[0m     \u001b[0mprint\u001b[0m\u001b[1;33m(\u001b[0m\u001b[0mkeyonly\u001b[0m\u001b[1;33m)\u001b[0m\u001b[1;33m\u001b[0m\u001b[1;33m\u001b[0m\u001b[0m\n\u001b[0;32m      8\u001b[0m \u001b[0mkeyonly\u001b[0m\u001b[1;33m(\u001b[0m\u001b[0mkeyonly\u001b[0m\u001b[1;33m=\u001b[0m\u001b[1;34m\"키워드로만 입력해야합니다.\"\u001b[0m\u001b[1;33m)\u001b[0m\u001b[1;33m\u001b[0m\u001b[1;33m\u001b[0m\u001b[0m\n\u001b[1;32m----> 9\u001b[1;33m \u001b[0mkeyonly\u001b[0m\u001b[1;33m(\u001b[0m\u001b[1;34m\"키워드로만 입력해야합니다.\"\u001b[0m\u001b[1;33m)\u001b[0m\u001b[1;33m\u001b[0m\u001b[1;33m\u001b[0m\u001b[0m\n\u001b[0m",
      "\u001b[1;31mTypeError\u001b[0m: keyonly() takes 0 positional arguments but 1 was given"
     ]
    }
   ],
   "source": [
    "#키워드 전용 인자(keyword-only parameters)\n",
    "#키워드 전용 인자도 기본값을 가질 수 있다. 이때 기본값을 갖는 인자에 상응하는 인수는 생략가능\n",
    "# 키워드 전용 인자는 오직 위치 인수만 값의 전달이 가능. 키워드 전용 인자를 선언하는 방법은 \n",
    "# 애스터리스크(*)를 인자값으로 넣고 우측 부분에 키워드 전용 인자를 선언하면 됨.\n",
    "#           *를 인자로 위치시키면 그 오른편의 parameters는 키워드온리 파라미터가 됨\n",
    "def keyonly(*, keyonly):\n",
    "    print(keyonly)\n",
    "keyonly(keyonly=\"키워드로만 입력해야합니다.\")\n",
    "keyonly(\"키워드로만 입력해야합니다.\")"
   ]
  },
  {
   "cell_type": "code",
   "execution_count": 131,
   "id": "14856414-cd47-4afe-a187-ed0bb16c36b8",
   "metadata": {},
   "outputs": [
    {
     "name": "stdout",
     "output_type": "stream",
     "text": [
      "<class 'tuple'>\n",
      "15\n",
      "<class 'tuple'>\n",
      "0\n"
     ]
    }
   ],
   "source": [
    "# 가변-위치 인자(var-positional parameters)\n",
    "# 가변-위치 인자는 명시된 인자 외에 추가적으로 위치 인수를 개수에 상관없이 유연하게 전달\n",
    "# 받을 수 있다. 가변 변수로 사용할 변수명 앞에 *를 앞에 하나 붙여 표기합니다.\n",
    "\n",
    "#                 가변변수로 사용할 변수앞에 *을 하나 붙이면 가변-위치인자로 사용 가능\n",
    "\n",
    "def var_positional(*args):\n",
    "    print(type(args))\n",
    "    return sum([_ for _ in args])\n",
    "                     \n",
    "                    # 가변- 위치 인자에 전달할 위치 인수들을 tuple로 packing한 뒤 전달.\n",
    "print(var_positional(1, 2, 3, 4, 5))\n",
    "\n",
    "print(var_positional()) # 가변-위치 인자에 전달할 인수 없이 호출 가능\n"
   ]
  },
  {
   "cell_type": "code",
   "execution_count": 134,
   "id": "27840580-fa75-47b3-a3a6-f2ace72ba413",
   "metadata": {},
   "outputs": [
    {
     "name": "stdout",
     "output_type": "stream",
     "text": [
      "<class 'dict'>\n",
      "{'key': 'value', 'key2': 'value'}\n",
      "<class 'dict'>\n",
      "{}\n"
     ]
    }
   ],
   "source": [
    "# 가변-키워드 인자(var-ketword parameters)\n",
    "# 가변-키워드 인자는 명시된 인자 외에 추가적으로 키워드 인수를 개수에 상관없이\n",
    "# 유연하게 전달 받을 수 있음. 가변 변수로 사용할 변수명 앞에 **을 붙여 표기.\n",
    "\n",
    "#              가변 변수로 사용할 변수 앞에 **를 붙이면 가변-키워드 인자로 사용가능\n",
    "def var_keyword(**kargs):\n",
    "    print(type(kargs))\n",
    "    return kargs\n",
    "print(var_keyword(key=\"value\", key2=\"value\"))  #가변키워드 인자에 전달할 키워드 인수들을 \n",
    "        #dict()함수의 반환 결과와 같다         #dict로 packing한 뒤 전달함.\n",
    "print(var_keyword())    "
   ]
  },
  {
   "cell_type": "code",
   "execution_count": 176,
   "id": "73147916-1a60-4a50-b9ac-b3b517b62df8",
   "metadata": {},
   "outputs": [
    {
     "name": "stdout",
     "output_type": "stream",
     "text": [
      "반환 값: 80\n"
     ]
    }
   ],
   "source": [
    "def plus_ten(n):\n",
    "    num = n + 10\n",
    "    \n",
    "    return num\n",
    "\n",
    "print(\"반환 값:\",plus_ten(70))\n",
    "\n"
   ]
  },
  {
   "cell_type": "code",
   "execution_count": 177,
   "id": "f5086627-123f-4ed4-9227-8ce91ee442e7",
   "metadata": {},
   "outputs": [],
   "source": [
    "#def 함수명(인자, 인자,....):\n",
    "    #함수 코드....\n",
    "    #return 반환값\n",
    "    \n"
   ]
  },
  {
   "cell_type": "code",
   "execution_count": 178,
   "id": "aa78dcc1-46de-42e9-9f83-eaffc5c0b2da",
   "metadata": {},
   "outputs": [
    {
     "data": {
      "text/plain": [
       "21.11111111111111"
      ]
     },
     "execution_count": 178,
     "metadata": {},
     "output_type": "execute_result"
    }
   ],
   "source": [
    "def to_celsius(fahrenheit):\n",
    "    celsius = (fahrenheit - 32) * 5 / 9\n",
    "    return celsius\n",
    "to_celsius(70)"
   ]
  },
  {
   "cell_type": "code",
   "execution_count": 241,
   "id": "e38574eb-d97c-4652-878f-fb78b12c519d",
   "metadata": {},
   "outputs": [
    {
     "name": "stdout",
     "output_type": "stream",
     "text": [
      "number가 짝수면 \"짝수\", 홀수면 \"홀수\" 반환\n",
      "짝수\n",
      "홀수\n",
      "None\n"
     ]
    }
   ],
   "source": [
    "def odd_even(n):\n",
    "    \"\"\"number가 짝수면 \"짝수\", 홀수면 \"홀수\" 반환\"\"\"\n",
    "    if type(n) == str:\n",
    "        return None\n",
    "    elif n % 2 == 0:\n",
    "        return \"짝수\"\n",
    "    elif n % 2 == 1:\n",
    "        return \"홀수\"\n",
    "\n",
    "print(odd_even.__doc__)\n",
    "print(odd_even(10))\n",
    "print(odd_even(9))\n",
    "print(odd_even(\"가\"))\n"
   ]
  },
  {
   "cell_type": "code",
   "execution_count": 246,
   "id": "020280a4-f78f-4bf8-909e-7c22565eb768",
   "metadata": {},
   "outputs": [
    {
     "name": "stdout",
     "output_type": "stream",
     "text": [
      "number가 짝수면 \"짝수\", 홀수면 \"홀수\" 반환\n",
      "짝수\n",
      "홀수\n",
      "None\n"
     ]
    }
   ],
   "source": [
    "def odd_even(n):\n",
    "    \"\"\"number가 짝수면 \"짝수\", 홀수면 \"홀수\" 반환\"\"\"\n",
    "    if type(n) is int and n > 0:\n",
    "        return \"짝수\" * (n % 2 == 0) or \"홀수\"   # True == 1\n",
    "    else:                                        # False == 0\n",
    "        return\n",
    "    \n",
    "print(odd_even.__doc__)\n",
    "print(odd_even(10))\n",
    "print(odd_even(9))\n",
    "print(odd_even(\"가\"))"
   ]
  },
  {
   "cell_type": "code",
   "execution_count": 248,
   "id": "6bd0ba58-79e8-40c6-941f-85f6938ee8fe",
   "metadata": {},
   "outputs": [
    {
     "name": "stdin",
     "output_type": "stream",
     "text": [
      "숫자를 입력하세요 10\n"
     ]
    },
    {
     "data": {
      "text/plain": [
       "str"
      ]
     },
     "execution_count": 248,
     "metadata": {},
     "output_type": "execute_result"
    }
   ],
   "source": [
    "number = input(\"숫자를 입력하세요\")\n",
    "\n",
    "type(number)"
   ]
  },
  {
   "cell_type": "code",
   "execution_count": 249,
   "id": "33e06b09-cba9-4b4b-9529-bedb70bc0a8b",
   "metadata": {},
   "outputs": [
    {
     "data": {
      "text/plain": [
       "True"
      ]
     },
     "execution_count": 249,
     "metadata": {},
     "output_type": "execute_result"
    }
   ],
   "source": [
    "number.isdecimal()"
   ]
  },
  {
   "cell_type": "code",
   "execution_count": 263,
   "id": "1ca913f7-1f05-48dd-8fbf-92eb9490d6ef",
   "metadata": {},
   "outputs": [
    {
     "name": "stdout",
     "output_type": "stream",
     "text": [
      "윤년\n",
      "윤년\n",
      "평년\n"
     ]
    }
   ],
   "source": [
    "def check_leap_year(year,n):\n",
    "    if  n % 4 != 0 or (n % 100 == 0 and n % 400 != 0):\n",
    "        return \"평년\"\n",
    "    else:\n",
    "        return \"윤년\"\n",
    "print(check_leap_year(1600))\n",
    "print(check_leap_year(2000))\n",
    "print(check_leap_year(1900))"
   ]
  },
  {
   "cell_type": "code",
   "execution_count": 269,
   "id": "0beb64be-99b6-46b6-a923-97288b56a25d",
   "metadata": {},
   "outputs": [
    {
     "name": "stdout",
     "output_type": "stream",
     "text": [
      "30\n",
      "30\n",
      "28\n"
     ]
    }
   ],
   "source": [
    "def days(n):\n",
    "    if n == 2:\n",
    "        return 28\n",
    "    elif n == 4 or n == 6 or n == 9 or n == 11:\n",
    "        return 30\n",
    "    else:\n",
    "        return 31\n",
    "print(days(11))\n",
    "print(days(9))\n",
    "print(days(2))"
   ]
  },
  {
   "cell_type": "code",
   "execution_count": 266,
   "id": "18b36ca0-c26c-4f77-9859-ed8d120baa8d",
   "metadata": {},
   "outputs": [
    {
     "data": {
      "text/plain": [
       "31"
      ]
     },
     "execution_count": 266,
     "metadata": {},
     "output_type": "execute_result"
    }
   ],
   "source": [
    "def days(n):\n",
    "    day_s = [31, 28, 31, 30, 31, 30, 31, 31, 30, 31, 30, 31]\n",
    "    return day_s[n - 1]\n",
    "days(1)"
   ]
  },
  {
   "cell_type": "code",
   "execution_count": 283,
   "id": "a20dd2ee-a5b5-44a7-ba29-c0d818af7f23",
   "metadata": {},
   "outputs": [
    {
     "name": "stdout",
     "output_type": "stream",
     "text": [
      "30\n",
      "31\n",
      "28\n",
      "29\n"
     ]
    }
   ],
   "source": [
    "def check_leap_year(year, month):\n",
    "    if  year % 4 != 0 or (year % 100 == 0 and year % 400 != 0):\n",
    "        day_s = [31, 28, 31, 30, 31, 30, 31, 31, 30, 31, 30, 31]\n",
    "        return day_s[month - 1]\n",
    "    \n",
    "    else:\n",
    "        day_s = [31, 29, 31, 30, 31, 30, 31, 31, 30, 31, 30, 31]\n",
    "        return day_s[month - 1]\n",
    "    \n",
    "print(check_leap_year(1900, 11))\n",
    "print(check_leap_year(2004, 10))\n",
    "print(check_leap_year(1900, 2))\n",
    "print(check_leap_year(2000, 2))"
   ]
  },
  {
   "cell_type": "code",
   "execution_count": 284,
   "id": "81545dbb-4594-4124-bba7-983362916933",
   "metadata": {},
   "outputs": [
    {
     "name": "stdout",
     "output_type": "stream",
     "text": [
      "global_variable in global scope=> This is global world.\n",
      "0x1ebecc71030\n"
     ]
    }
   ],
   "source": [
    "# 변수위 범위(variable scope) - 전역 변수(global varuable)\n",
    "# 우리가 함수를 배우기 전까지 제일 바깥 영역(들여쓰기 없이 쓴 영역)인 전역범위에서\n",
    "# 변수를 선언하고 활용했다. 전역 범위에서 선언했기 때문에 그 변수를 스크립트 전체에서\n",
    "# 접근할 수 있었는데, 그 변수를 전역 변수(global variable)라고 부른다.\n",
    "\n",
    "global_variable = \"This is global world.\"  # 전역 변수 선언\n",
    "print(f\"global_variable in global scope=> {global_variable}\")\n",
    "print(hex(id(global_variable)))\n"
   ]
  },
  {
   "cell_type": "code",
   "execution_count": 287,
   "id": "dc661a93-79b1-4c6d-9e31-69c79fdda13e",
   "metadata": {},
   "outputs": [
    {
     "name": "stdout",
     "output_type": "stream",
     "text": [
      "This is my little world.\n"
     ]
    }
   ],
   "source": [
    "# 지역 변수(local variable)\n",
    "# 함수 바디에서 선언된 변수는 바깥에서 접근이 가능할까?\n",
    "# NameError가 에러가 발생된다. 즉 지역 변수는 변수를 만든 함수 안에서만 접근이\n",
    "# 가능한 것을 확인할 수 있다.\n",
    "\n",
    "def my_littie_world():\n",
    "    my_variable = \"This is my little world.\"\n",
    "    print(my_variable)\n",
    "my_littie_world()"
   ]
  },
  {
   "cell_type": "code",
   "execution_count": 291,
   "id": "bd411c10-c00e-45ff-a705-9a973772009f",
   "metadata": {},
   "outputs": [
    {
     "name": "stdout",
     "output_type": "stream",
     "text": [
      "global 키워드 활요해서 변경 완료\n"
     ]
    }
   ],
   "source": [
    "# 지역 범위에서 전역 변수 할당하기\n",
    "# 지역 범위에서 전역 변수에 대한 접근이 가능하다고 했다. 그렇다면 지역 범위에서\n",
    "# 전역 변수의 값을 변경하는 건 어떨까? 아래의 예제에서 그 시도를 했을 때 결론은\n",
    "# 변경이 안됐다. 지역 범위에서 할당하고 있는 'impirtant_(생략)_hert' 변수는 사실\n",
    "# 전역 변수가 아니 지역 변수였기 떄문입니다.\n",
    "\n",
    "# 지역범위에서 전역 변수 할당하기\n",
    "# 지역 범위에서 전역 변수를 변경하려면 global키워드를 사용해야함\n",
    "\n",
    "global_variable = \"변경이 됩니까\"\n",
    "\n",
    "def hearthreaker():\n",
    "    global global_variable\n",
    "    global_variable = \"global 키워드 활요해서 변경 완료\"\n",
    "\n",
    "    \n",
    "hearthreaker()\n",
    "print(global_variable)"
   ]
  },
  {
   "cell_type": "code",
   "execution_count": 296,
   "id": "4a6e5c93-8a53-421e-8fd3-5a6f30e89f28",
   "metadata": {},
   "outputs": [
    {
     "name": "stdout",
     "output_type": "stream",
     "text": [
      "This is level 1\n"
     ]
    }
   ],
   "source": [
    "# 안쪽 함수에서 바깥쪽 함수의 변수 변경해보기\n",
    "\n",
    "def level1():\n",
    "    message = \"This is level 1\"\n",
    "    def level2():\n",
    "        message = \"lever2 is better than level1\"\n",
    "    level2()\n",
    "    print(message)\n",
    "level1()"
   ]
  },
  {
   "cell_type": "code",
   "execution_count": 297,
   "id": "aac2c975-846e-4437-8f63-45f3876d9452",
   "metadata": {},
   "outputs": [
    {
     "name": "stdout",
     "output_type": "stream",
     "text": [
      "lever2 is better than level1\n"
     ]
    }
   ],
   "source": [
    "# 안쪽 함수에서 바깥쪽 함수의 변수 변경해보기\n",
    "\n",
    "def level1():\n",
    "    message = \"This is level 1\"\n",
    "    def level2():\n",
    "        nonlocal message\n",
    "        message = \"lever2 is better than level1\"\n",
    "    level2()\n",
    "    print(message)\n",
    "level1()"
   ]
  },
  {
   "cell_type": "code",
   "execution_count": null,
   "id": "90033f11-5144-419d-a472-6c9a342cf033",
   "metadata": {},
   "outputs": [],
   "source": [
    "# global, nonlocal 특징과 권고사항\n",
    "# - global 키워드는 함수의 중첩된 정도와 상관없이 전역 범위의 변수를 매칭\n",
    "# - 중첩된 함수마다 같은 이름의 변수가 있다면 nonlocal 키워드는 제일 가까운 바깥 변수를 매칭\n",
    "# - 가급적이면 함수마다 이름이 같은 변수를 사용하기보단 다른 변수명을 사용하는게 좋음\n",
    "\n"
   ]
  },
  {
   "cell_type": "code",
   "execution_count": null,
   "id": "8531ac9c-c800-4ba3-a224-e177a57f8528",
   "metadata": {},
   "outputs": [],
   "source": [
    "# 함수 안에서 선언한 변수는 함수를 호출해 실행되는 동안만 사용할 수 있음.\n",
    "# 범위마다 같은 이름의 변수를 사용해도 각각 독립적으로 동작\n",
    "# 지역 변수를 저장하는 이름 공간을 지역 영역(local scople)라고 함.\n",
    "# 전역 변수를 저장하는 이름 공간을 전역 영역(globla scope)라고 함\n",
    "# 파이썬 자체에서 정의한 이름 공간을 내장 영역(built-in scope이라고 함\n",
    "# 함수에서 변수를 호출하면 지역영역 => 전역 영억 => 내장 영역 순으로 해당하는 변수를 확인"
   ]
  },
  {
   "cell_type": "code",
   "execution_count": 303,
   "id": "1737a3e8-5361-4d67-a6d7-302a039d8c4b",
   "metadata": {},
   "outputs": [
    {
     "ename": "SyntaxError",
     "evalue": "invalid syntax (271987779.py, line 24)",
     "output_type": "error",
     "traceback": [
      "\u001b[1;36m  File \u001b[1;32m\"C:\\Users\\jungh\\AppData\\Local\\Temp\\ipykernel_17456\\271987779.py\"\u001b[1;36m, line \u001b[1;32m24\u001b[0m\n\u001b[1;33m    (lambda x: y=10; x + y)(1)\u001b[0m\n\u001b[1;37m                ^\u001b[0m\n\u001b[1;31mSyntaxError\u001b[0m\u001b[1;31m:\u001b[0m invalid syntax\n"
     ]
    }
   ],
   "source": [
    "# 람다(Lamnda)\n",
    "# 호출될 떄 값이 구해지는 하나의 표현식.또 이름이 없는 인라인 함수\n",
    "\n",
    "#람다 표현식  lambda [parameters] : experssion \n",
    "                 #매개변수를 지정   #반환값으로 사용할 식\n",
    "# 일반 함수 정의절 def func_name(parameter):\n",
    "                        #return expression\n",
    "    \n",
    "    \n",
    "(lambda x: x + 10)(10)\n",
    "#(lambda [parameters]: expression)(arguments)\n",
    "\n",
    "twice = lambda x: x*2\n",
    "print(twice(10))\n",
    "\n",
    "#람다는 기본적으로 이름없는 함수(anonumous function)이다\n",
    "\n",
    "# variable = lambda [parameters]: expression\n",
    "\n",
    "#람다의expression 부분은 변수 없이 식 한 줄로 펴현 가능(인라인)해야 한다. \n",
    "#따라서 람다 표현식 안에 새 변수를 만들 수 없음. 변수가 필요한 경우는 def를 써사 함수를\n",
    "#정의해서 사용하는 것이 좋다.\n",
    "\n",
    "(lambda x: y=10; x + y)(1)\n",
    "\n"
   ]
  },
  {
   "cell_type": "code",
   "execution_count": 305,
   "id": "ba5c0c0c-f47d-4ef1-9021-3bade91c0c66",
   "metadata": {},
   "outputs": [
    {
     "data": {
      "text/plain": [
       "'B'"
      ]
     },
     "execution_count": 305,
     "metadata": {},
     "output_type": "execute_result"
    }
   ],
   "source": [
    "# 조건 표현식(Conditional Expression). inline if else\n",
    "# if else를 한 줄로 작성할 수 있는 방법. lambda에 사용하면 활용도가 좋음\n",
    "# if만 사용할 수 없다. 반드시 else와 같이 써야함. 중첩해서 사용은 가능하지만\n",
    "# 중첩이 많아지면 파악이 어려우니 가독성 좋게 쓰는 게 더 좋음\n",
    "\n",
    "# True일때 값 if 조건식 else False일때 값\n",
    "\n",
    "score = 90\n",
    "'A' if 90<score<=100 else 'B' if 80<score else 'C'"
   ]
  },
  {
   "cell_type": "code",
   "execution_count": 313,
   "id": "76745b77-2d34-4191-9c35-5f4d1521c04e",
   "metadata": {},
   "outputs": [
    {
     "name": "stdout",
     "output_type": "stream",
     "text": [
      "[2, 8, 18, 32, 50]\n"
     ]
    },
    {
     "data": {
      "text/plain": [
       "[3, 9, 9]"
      ]
     },
     "execution_count": 313,
     "metadata": {},
     "output_type": "execute_result"
    }
   ],
   "source": [
    "#람다와 map()함수를 같이 쓸때 다음과같이 사용함\n",
    "#map(lambda parameter1, parameter2, ...: expression, iterable1, iterable2,...)\n",
    "\n",
    "a = [_ for _ in range(1, 6)]\n",
    "b = [_ for _ in range(2, 11, 2)]\n",
    "print(list(map(lambda x,y: x * y, a, b)))\n",
    "\n",
    "#람다와 filter : filter의 첫 인수로 들어가는 함수의 반환 값이 True일 때만 해당 요소를 가져옴\n",
    "# 리스트 커프리헨션으로도 표현 가능한 부분\n",
    "# map(lambda patameter: expression, iterable)\n",
    "a = [ 3, 2, 8, 22, 10, 7, 0, 11, 9, 9]\n",
    "list(filter(lambda x: x % 3 == 0 and 0 < x < 10, a))"
   ]
  },
  {
   "cell_type": "code",
   "execution_count": 324,
   "id": "90c31f00-6f04-4794-8b04-4aacb7388dd1",
   "metadata": {},
   "outputs": [
    {
     "name": "stdout",
     "output_type": "stream",
     "text": [
      "안녕하세요.\n"
     ]
    }
   ],
   "source": [
    "# 클래스(Class)\n",
    "# 사용자 정의 객체를 만들기위한 주형이라고 생각하면 됨, 클래스의 정의는\n",
    "# 보통 클래스의 인스턴스를 대상으로 연산하는 메서드 정의를 포함하고 있다.\n",
    "# 클래스명으로 주로 PascalCase(UpperCamelCase)를 쓴다\n",
    "#class ClassName:\n",
    "#    def method_name(self):\n",
    "#        method_body\n",
    "#    \n",
    "#    class_body\n",
    "\n",
    "#클래스 속석(Attribute)\n",
    "# 클래스 속성을 만들 때는 __init__메서드 안에서 self.속성에 값을 할당하면 됨\n",
    "\n",
    "class Person:\n",
    "    def __init__(self):\n",
    "        self.hello = \"안녕하세요.\"\n",
    "        \n",
    "    def greeting(self):\n",
    "        print(self.hello)\n",
    "        \n",
    "james = Person()\n",
    "james.greeting()\n",
    "    "
   ]
  },
  {
   "cell_type": "code",
   "execution_count": null,
   "id": "4bf2b475-d371-435c-bc4a-9532f21f099c",
   "metadata": {},
   "outputs": [],
   "source": [
    "c"
   ]
  },
  {
   "cell_type": "code",
   "execution_count": null,
   "id": "de9cf300-3685-455c-bea6-9f5a5b06e7cb",
   "metadata": {},
   "outputs": [],
   "source": []
  }
 ],
 "metadata": {
  "kernelspec": {
   "display_name": "Python 3 (ipykernel)",
   "language": "python",
   "name": "python3"
  },
  "language_info": {
   "codemirror_mode": {
    "name": "ipython",
    "version": 3
   },
   "file_extension": ".py",
   "mimetype": "text/x-python",
   "name": "python",
   "nbconvert_exporter": "python",
   "pygments_lexer": "ipython3",
   "version": "3.9.13"
  }
 },
 "nbformat": 4,
 "nbformat_minor": 5
}
