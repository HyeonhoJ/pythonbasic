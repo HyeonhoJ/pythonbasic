{
 "cells": [
  {
   "cell_type": "code",
   "execution_count": 4,
   "id": "519003dd-500c-4f66-a17c-366431037f1c",
   "metadata": {},
   "outputs": [
    {
     "data": {
      "text/plain": [
       "'b'"
      ]
     },
     "execution_count": 4,
     "metadata": {},
     "output_type": "execute_result"
    }
   ],
   "source": [
    "score = 90\n",
    "\n",
    "\"a\" if 90<score<100 else 'b' if 80 < score else 'c'"
   ]
  },
  {
   "cell_type": "code",
   "execution_count": null,
   "id": "3241f225-2111-4dfb-a908-dfb0c16ba11c",
   "metadata": {},
   "outputs": [],
   "source": []
  },
  {
   "cell_type": "code",
   "execution_count": 30,
   "id": "2474ea5a-a565-43f4-aef7-3b27dc12d76f",
   "metadata": {},
   "outputs": [
    {
     "name": "stdout",
     "output_type": "stream",
     "text": [
      "ㅊㅋㅊㅋ\n"
     ]
    }
   ],
   "source": [
    "class User:\n",
    "    count = 0\n",
    "    \n",
    "    def __init__(self, name, email, pw):\n",
    "        self.name = name\n",
    "        self.email = email\n",
    "        self.pw = pw\n",
    "    \n",
    "    def log_in(self, email, pw):\n",
    "        if self.email == email and self.pw == pw:\n",
    "            print(\"ㅊㅋㅊㅋ\")\n",
    "        else:\n",
    "            print(\"다시해\")\n",
    "user1 = User(\"정현호\", \"sjsj@naver.com\", \"12345\")\n",
    "user2 =User(\"정현호2\", \"s22jsj@naver.com\", \"12122345\")\n",
    "user3 =User(\"정현호3\", \"sj333sj@naver.com\", \"12321245\")\n",
    "            \n",
    "user1.log_in(\"sjsj@naver.com\", \"12345\")"
   ]
  },
  {
   "cell_type": "code",
   "execution_count": 31,
   "id": "07332102-249b-4334-aa11-ffa777e425ef",
   "metadata": {},
   "outputs": [],
   "source": [
    "#메서드(Method)는 클래스 바디 안에서 정의되는 함수입니다. 클래스의 인스턴스의\n",
    "#어트리뷰트(attribute)로서 호출되면, 그 메서드는 첫 번째 인자로 인스턴스 객체(self)를\n",
    "#받습니다. 첫 번째 인자를 설정 안 하면 에러가 발생합니다. 이 첫 번째 인자를 ‘self’라고\n",
    "#씁니다."
   ]
  },
  {
   "cell_type": "code",
   "execution_count": null,
   "id": "773134f1-ab0a-4d96-8525-c78d3eb5862f",
   "metadata": {},
   "outputs": [],
   "source": []
  },
  {
   "cell_type": "code",
   "execution_count": 32,
   "id": "aa0aca75-c724-4eec-bb93-d91a70ab274c",
   "metadata": {},
   "outputs": [
    {
     "name": "stdout",
     "output_type": "stream",
     "text": [
      "안녕하세요\n"
     ]
    }
   ],
   "source": [
    "class Person:\n",
    "    def __init__(self):\n",
    "        self.hello = \"안녕하세요\"\n",
    "        \n",
    "    def greeting(self):\n",
    "        print(self.hello)\n",
    "\n",
    "james = Person()\n",
    "james.greeting()"
   ]
  },
  {
   "cell_type": "code",
   "execution_count": 62,
   "id": "2d51e9d4-1c03-4c63-8b49-b08c33989bd6",
   "metadata": {},
   "outputs": [
    {
     "name": "stdout",
     "output_type": "stream",
     "text": [
      "사용자: 정현호, 이메일: @naver, 비밀번호: ****\n"
     ]
    }
   ],
   "source": [
    "class Student:\n",
    "    count = 0\n",
    "    # 생성자: 객체가 최초 생성될 때\n",
    "    # 단 한번 실행되는 메서드\n",
    "    def __init__(self, name, age, email, pw):\n",
    "        #self라는 것은 내 자신의 인스턴스\n",
    "        self.name = name\n",
    "        self.age = age\n",
    "        self.email = email\n",
    "        self.pw = pw\n",
    "        \n",
    "        User.count += 1\n",
    "        \n",
    "    def login(self, email, pw):\n",
    "        if self.email == email and self.pw == pw:\n",
    "            return (f\"{self.name}님 안녕하세요 환영합니다\")\n",
    "        \n",
    "        else:\n",
    "            return (\"다시해주세요\")\n",
    "    def __str__(self):\n",
    "        \n",
    "        return f\"사용자: {self.name}, 이메일: {self.email}, 비밀번호: ****\"\n",
    "    \n",
    "#Student 클래스로부터 객체를 하나 생성\n",
    "s1 = Student(\"정현호\", 29, \"@naver\", \"1234\")\n",
    "s2 = Student(\"qwee\", 14, \"@daum\", \"1233\")\n",
    "s3 = Student(\"qweqew\", 32, \"@gmail\", \"221\")\n",
    "s4 = Student(\"qweqwds\", 44, \"@nate\", \"35\")\n",
    "\n",
    "\n",
    "print(s1)\n"
   ]
  },
  {
   "cell_type": "code",
   "execution_count": 88,
   "id": "a905fc62-d0b3-4ce4-bad4-c33add991326",
   "metadata": {},
   "outputs": [
    {
     "name": "stdin",
     "output_type": "stream",
     "text": [
      "이름 마리아\n",
      "나이 22\n",
      "주소 서울시\n",
      "이름 제임스\n",
      "나이 21\n",
      "주소 경기도\n"
     ]
    },
    {
     "name": "stdout",
     "output_type": "stream",
     "text": [
      "마리아\n",
      "22\n",
      "서울시\n",
      "제임스\n",
      "21\n",
      "경기도\n"
     ]
    }
   ],
   "source": [
    "class Person:\n",
    "    \n",
    "    def __init__(self, name, age, address):\n",
    "        self.name = name\n",
    "        self.age = age\n",
    "        self.address = address\n",
    "    \n",
    "\n",
    "    \n",
    "name = input('이름')\n",
    "age = input('나이')\n",
    "address = input('주소')\n",
    "\n",
    "maria = Person(name, age, address)\n",
    "\n",
    "name = input('이름')\n",
    "age = input('나이')\n",
    "address = input('주소')\n",
    "\n",
    "james = Person(name, age, address)\n",
    "        \n",
    "\n",
    "print(maria.name)\n",
    "print(maria.age)\n",
    "print(maria.address)\n",
    "\n",
    "print(james.name)\n",
    "print(james.age)\n",
    "print(james.address)\n",
    "\n",
    "\n",
    "\n",
    "        \n",
    "        \n"
   ]
  },
  {
   "cell_type": "code",
   "execution_count": 90,
   "id": "0a649b24-2989-4e03-88ed-778316fb7f80",
   "metadata": {},
   "outputs": [
    {
     "ename": "AttributeError",
     "evalue": "'Person' object has no attribute '__wallet'",
     "output_type": "error",
     "traceback": [
      "\u001b[1;31m---------------------------------------------------------------------------\u001b[0m",
      "\u001b[1;31mAttributeError\u001b[0m                            Traceback (most recent call last)",
      "\u001b[1;32m~\\AppData\\Local\\Temp\\ipykernel_24356\\130535658.py\u001b[0m in \u001b[0;36m<module>\u001b[1;34m\u001b[0m\n\u001b[0;32m     20\u001b[0m \u001b[0mmaria\u001b[0m \u001b[1;33m=\u001b[0m \u001b[0mPerson\u001b[0m\u001b[1;33m(\u001b[0m\u001b[1;34m\"마리아\"\u001b[0m\u001b[1;33m,\u001b[0m \u001b[1;36m20\u001b[0m\u001b[1;33m,\u001b[0m \u001b[1;34m\"서울\"\u001b[0m\u001b[1;33m,\u001b[0m \u001b[1;34m\"10000\"\u001b[0m\u001b[1;33m)\u001b[0m\u001b[1;33m\u001b[0m\u001b[1;33m\u001b[0m\u001b[0m\n\u001b[0;32m     21\u001b[0m \u001b[1;33m\u001b[0m\u001b[0m\n\u001b[1;32m---> 22\u001b[1;33m \u001b[0mmaria\u001b[0m\u001b[1;33m.\u001b[0m\u001b[0m__wallet\u001b[0m \u001b[1;33m-=\u001b[0m \u001b[1;36m10000\u001b[0m\u001b[1;33m\u001b[0m\u001b[1;33m\u001b[0m\u001b[0m\n\u001b[0m",
      "\u001b[1;31mAttributeError\u001b[0m: 'Person' object has no attribute '__wallet'"
     ]
    }
   ],
   "source": [
    "#비공개 속성 사용하기\n",
    "# 우리가 인스턴스.속성 = 값을 통해 새롭게 인스턴스의 속성 값을 변경 못하도록 막고\n",
    "# 싶을 때는 비공개 속성을 사용하면 됩니다.\n",
    "# 사용법은 해당하는 속성 앞에 던더(__)를 붙이면 비공개 속성이 됩니다.\n",
    "\n",
    "#class ClassName:\n",
    "#    def__init__(self, param1, param2):\n",
    "#        self.att1 = param1\n",
    "#        self.__attr2 = param2 # 비공개 속성\n",
    "\n",
    "\n",
    "class Person:\n",
    "    \n",
    "    def __init__(self, name, age, address, wallet):\n",
    "        self.name = name\n",
    "        self.age = age\n",
    "        self.address = address\n",
    "        self.__wallet = wallet # 변수 앞에 __를 붙여서 비공개 속성으로 만듦\n",
    "    \n",
    "maria = Person(\"마리아\", 20, \"서울\", \"10000\")\n",
    "\n",
    "maria.__wallet -= 10000"
   ]
  },
  {
   "cell_type": "code",
   "execution_count": 97,
   "id": "294ff9fe-2ab8-4440-ad4d-9a94e165e160",
   "metadata": {},
   "outputs": [
    {
     "name": "stdout",
     "output_type": "stream",
     "text": [
      "이제 0원 남았네요.\n"
     ]
    }
   ],
   "source": [
    "class Person:\n",
    "    \n",
    "    def __init__(self, name, age, address, wallet):\n",
    "        self.name = name\n",
    "        self.age = age\n",
    "        self.address = address\n",
    "        self.__wallet = wallet # 변수 앞에 __를 붙여서 비공개 속성으로 만듦\n",
    "    \n",
    "    def pay(self, amount):\n",
    "        if self.__wallet < amount:\n",
    "            print(\"잔액 부족\")\n",
    "            return\n",
    "        self.__wallet -= amount # 비공개 속성은 클래스 안의 메서드에서만 접근 가능\n",
    "        print(f\"이제 {self.__wallet}원 남았네요.\")\n",
    "    \n",
    "maria = Person(\"마리아\", 20, \"서울\", 10000)\n",
    "\n",
    "maria.pay(10000)"
   ]
  },
  {
   "cell_type": "code",
   "execution_count": 106,
   "id": "b87d5808-2486-44a2-8a7a-48ded870cee6",
   "metadata": {},
   "outputs": [
    {
     "name": "stdin",
     "output_type": "stream",
     "text": [
      "체력, 마나, AP를 입력하세요. 1803.68 1184.0 645\n"
     ]
    },
    {
     "name": "stdout",
     "output_type": "stream",
     "text": [
      "티버 피해량 819.25\n"
     ]
    }
   ],
   "source": [
    "class Annie:\n",
    "    def __init__(self, hp, mp, ap):\n",
    "        self.hp = hp\n",
    "        self.mp = mp\n",
    "        self.ap = ap\n",
    "\n",
    "    def skill_d(self):\n",
    "        return float(self.ap * 0.65 + 400)\n",
    "    \n",
    "hp, mp, ap = map(float, input(\"체력, 마나, AP를 입력하세요.\").split(\" \"))\n",
    "\n",
    "tibbers = Annie(hp, mp, ap)\n",
    "\n",
    "print(\"티버 피해량\", tibbers.skill_d())\n"
   ]
  },
  {
   "cell_type": "code",
   "execution_count": null,
   "id": "11dfa8b7-1200-4449-8d56-18c9fe0f846d",
   "metadata": {},
   "outputs": [],
   "source": []
  }
 ],
 "metadata": {
  "kernelspec": {
   "display_name": "Python 3 (ipykernel)",
   "language": "python",
   "name": "python3"
  },
  "language_info": {
   "codemirror_mode": {
    "name": "ipython",
    "version": 3
   },
   "file_extension": ".py",
   "mimetype": "text/x-python",
   "name": "python",
   "nbconvert_exporter": "python",
   "pygments_lexer": "ipython3",
   "version": "3.9.13"
  }
 },
 "nbformat": 4,
 "nbformat_minor": 5
}
