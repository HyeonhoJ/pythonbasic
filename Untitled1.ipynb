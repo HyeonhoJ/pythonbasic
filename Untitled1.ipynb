{
 "cells": [
  {
   "cell_type": "code",
   "execution_count": 16,
   "id": "c4918e3f-f47b-4989-972a-8ffcafb267be",
   "metadata": {},
   "outputs": [],
   "source": [
    "import pymysql.cursors\n",
    "\n",
    "# database 접속할 객체를 만듭니다.\n",
    "connection = pymysql.connect(host='localhost',\n",
    "                             user='root',\n",
    "                             password='python1234',\n",
    "                             database='python',\n",
    "                             cursorclass=pymysql.cursors.DictCursor)\n",
    "\n",
    "\n"
   ]
  },
  {
   "cell_type": "code",
   "execution_count": null,
   "id": "f3a68a70-6f4b-4d50-bcc2-8c7d6f170110",
   "metadata": {},
   "outputs": [],
   "source": [
    "with connection:\n",
    "    with connection.cursor() as cursor:\n",
    "        # 새로운 값을 삽입합니다.\n",
    "        sql = \"INSERT INTO `users` (`email`, `password`) VALUES (%s, %s)\"\n",
    "        cursor.execute(sql, ('webmaster@python.org', 'very-secret'))\n",
    "\n",
    "    connection.commit()\n",
    "\n"
   ]
  },
  {
   "cell_type": "code",
   "execution_count": null,
   "id": "bbff9de1-f424-463f-842b-c5d411397115",
   "metadata": {},
   "outputs": [],
   "source": []
  },
  {
   "cell_type": "code",
   "execution_count": 17,
   "id": "3ac91b74-a719-45a5-8ba7-4cdc7a41138a",
   "metadata": {},
   "outputs": [
    {
     "name": "stdout",
     "output_type": "stream",
     "text": [
      "{'id': 1, 'password': 'very-secret'}\n"
     ]
    }
   ],
   "source": [
    "with connection:\n",
    "    with connection.cursor() as cursor:\n",
    "        # 데이터를 불러옵니다.\n",
    "        sql = \"SELECT `id`, `password` FROM `users` WHERE `email`=%s\"\n",
    "        cursor.execute(sql, ('webmaster@python.org',))\n",
    "        result = cursor.fetchone()\n",
    "        print(result)\n",
    "        "
   ]
  },
  {
   "cell_type": "code",
   "execution_count": 1,
   "id": "4155ab42-3832-445c-9ee8-67fb9b246dee",
   "metadata": {},
   "outputs": [],
   "source": [
    "# 예외 처리. try. except\n",
    "\n",
    "# 에러가 발생되는 \n",
    "\n"
   ]
  },
  {
   "cell_type": "code",
   "execution_count": 2,
   "id": "df01d6a5-7294-4edc-8b77-7113eac10015",
   "metadata": {},
   "outputs": [
    {
     "ename": "SyntaxError",
     "evalue": "EOL while scanning string literal (831661056.py, line 7)",
     "output_type": "error",
     "traceback": [
      "\u001b[1;36m  File \u001b[1;32m\"C:\\Users\\jungh\\AppData\\Local\\Temp\\ipykernel_15912\\831661056.py\"\u001b[1;36m, line \u001b[1;32m7\u001b[0m\n\u001b[1;33m    print('0으로\u001b[0m\n\u001b[1;37m              ^\u001b[0m\n\u001b[1;31mSyntaxError\u001b[0m\u001b[1;31m:\u001b[0m EOL while scanning string literal\n"
     ]
    }
   ],
   "source": [
    "try:\n",
    "    # 나눗셈 연산 시 0으로 나누면 에러발생\n",
    "    result = 128/0\n",
    "    print(f\" 연산의 결과는 {result}입니다.:\")\n",
    "          \n",
    "except:\n",
    "    print('0으로\n",
    "\n",
    "          \n",
    "    "
   ]
  },
  {
   "cell_type": "code",
   "execution_count": 7,
   "id": "92ad1d68-faac-48b9-beab-c8197d395312",
   "metadata": {},
   "outputs": [
    {
     "ename": "SyntaxError",
     "evalue": "EOL while scanning string literal (593351236.py, line 4)",
     "output_type": "error",
     "traceback": [
      "\u001b[1;36m  File \u001b[1;32m\"C:\\Users\\jungh\\AppData\\Local\\Temp\\ipykernel_15912\\593351236.py\"\u001b[1;36m, line \u001b[1;32m4\u001b[0m\n\u001b[1;33m    print('값을 잘못 입력하셨습니다.\")\u001b[0m\n\u001b[1;37m                           ^\u001b[0m\n\u001b[1;31mSyntaxError\u001b[0m\u001b[1;31m:\u001b[0m EOL while scanning string literal\n"
     ]
    }
   ],
   "source": [
    "try:\n",
    "    x, y = input('숫자 두개를 입력하세요.').split()\n",
    "except:\n",
    "    print('값을 잘못 입력하셨습니다.\")"
   ]
  },
  {
   "cell_type": "code",
   "execution_count": 2,
   "id": "9ea30cff-40c8-4ed3-b732-e5f262bc1d71",
   "metadata": {},
   "outputs": [],
   "source": [
    "\n",
    "a = []\n",
    "\n",
    "for _ in range(1000):\n",
    "    a.append((_, _, _))\n",
    "\n"
   ]
  },
  {
   "cell_type": "markdown",
   "id": "33d9fec5-8a29-45cc-a57b-f9117275d935",
   "metadata": {},
   "source": [
    "asd\n",
    "asd:\n"
   ]
  },
  {
   "cell_type": "code",
   "execution_count": null,
   "id": "15ac6afa-1dbe-43d4-b236-ba48abd2dd39",
   "metadata": {},
   "outputs": [],
   "source": []
  },
  {
   "cell_type": "code",
   "execution_count": null,
   "id": "a3fa8143-8ebe-4d3b-b291-a738621357fa",
   "metadata": {},
   "outputs": [],
   "source": [
    "x = range(4) # 0, 1, 2, 3"
   ]
  },
  {
   "cell_type": "code",
   "execution_count": null,
   "id": "94d47dc2-88ed-4f4b-bbc6-d107aae2f749",
   "metadata": {},
   "outputs": [],
   "source": [
    "x = range(4) # 0, 1, 2, 3\n",
    "\n",
    "\n"
   ]
  },
  {
   "cell_type": "raw",
   "id": "fcd1528c-53c0-4709-9e83-9c13c2ba3701",
   "metadata": {},
   "source": [
    "import requests\n",
    "\n",
    "response = r"
   ]
  },
  {
   "cell_type": "code",
   "execution_count": 2,
   "id": "820a552d-33e8-4d0c-924f-c45bf55f1192",
   "metadata": {},
   "outputs": [
    {
     "data": {
      "text/plain": [
       "200"
      ]
     },
     "execution_count": 2,
     "metadata": {},
     "output_type": "execute_result"
    }
   ],
   "source": [
    "import requests\n",
    "\n",
    "response = requests.get('http://api.kcisa.kr/API_CCA_141/request?serviceKey=54a6e2ce-b4c5-4cb6-b398-dc5e13a9a7a8&numOfRows=100&pageNo=1',\n",
    "                        headers = {'accept': 'application/json'})\n",
    "                        \n",
    "response.status_code     \n",
    "\n"
   ]
  }
 ],
 "metadata": {
  "kernelspec": {
   "display_name": "Python 3 (ipykernel)",
   "language": "python",
   "name": "python3"
  },
  "language_info": {
   "codemirror_mode": {
    "name": "ipython",
    "version": 3
   },
   "file_extension": ".py",
   "mimetype": "text/x-python",
   "name": "python",
   "nbconvert_exporter": "python",
   "pygments_lexer": "ipython3",
   "version": "3.9.13"
  }
 },
 "nbformat": 4,
 "nbformat_minor": 5
}
